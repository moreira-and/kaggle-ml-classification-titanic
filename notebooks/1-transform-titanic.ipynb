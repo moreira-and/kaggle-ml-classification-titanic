{
 "cells": [
  {
   "cell_type": "markdown",
   "metadata": {},
   "source": [
    "# Titanic - Machine Learning from Disaster\n",
    "\n",
    "Desenvolvido por André Moreira \n",
    "- [Git](https://github.com/moreira-and)\n",
    "- [Linkedin](https://www.linkedin.com/in/moreira-and/)\n",
    "\n",
    "Competição de data science:\n",
    "\n",
    "Will Cukierski. Titanic - Machine Learning from Disaster. https://kaggle.com/competitions/titanic, 2012. Kaggle."
   ]
  },
  {
   "cell_type": "markdown",
   "metadata": {},
   "source": [
    "## Bibliotecas Necessárias\n",
    "\n",
    "Sempre que surgir a necessidade de utilizar uma nova biblioteca, o cientista de dados deve declarar ela no topo do arquivo."
   ]
  },
  {
   "cell_type": "code",
   "execution_count": 1,
   "metadata": {},
   "outputs": [],
   "source": [
    "import numpy as np\n",
    "import pandas as pd\n",
    "\n",
    "import matplotlib.pyplot as plt\n",
    "import seaborn as sns\n",
    "\n",
    "from scipy import stats\n",
    "from scipy.stats import chi2_contingency\n",
    "\n",
    "from sklearn.feature_selection import chi2\n",
    "from sklearn.model_selection import train_test_split\n",
    "\n",
    "from sklearn.tree import DecisionTreeClassifier\n",
    "from sklearn.metrics import classification_report, confusion_matrix\n",
    "\n",
    "from sklearn.preprocessing import LabelEncoder, StandardScaler"
   ]
  },
  {
   "cell_type": "markdown",
   "metadata": {},
   "source": [
    "## 1. Compreensão do Negócio (Business Understanding)\n",
    "- **Objetivo de Negócio:** Definir o objetivo final do projeto com base nas necessidades do negócio (ex.: previsão, classificação, clusterização).\n",
    "- **Situação Atual:** Entender o contexto e os fatores que motivam o projeto (ex.: por que essa análise é importante? Quais problemas ou oportunidades estão sendo abordados?).\n",
    "- **Critérios de Sucesso:** Definir métricas ou resultados que caracterizam o sucesso do projeto (ex.: precisão mínima, aumento de eficiência, insights acionáveis)."
   ]
  },
  {
   "cell_type": "markdown",
   "metadata": {},
   "source": [
    "O naufrágio do Titanic é um dos acidentes marítimos mais infames da história.\n",
    "\n",
    "Em 15 de abril de 1912, durante sua viagem inaugural, o amplamente considerado \"inafundável\" RMS Titanic afundou após colidir com um iceberg. Infelizmente, não havia botes salva-vidas suficientes para todos a bordo, resultando na morte de 1502 das 2224 pessoas entre passageiros e tripulação.\n",
    "\n",
    "Embora a sorte tenha desempenhado algum papel na sobrevivência, parece que alguns grupos de pessoas tinham mais chances de sobreviver do que outros.\n",
    "\n",
    "Neste desafio, pedimos que você construa um modelo preditivo que responda à pergunta: “que tipos de pessoas tinham mais chances de sobreviver?” utilizando dados de passageiros (ou seja, nome, idade, gênero, classe socioeconômica, etc.)."
   ]
  },
  {
   "cell_type": "markdown",
   "metadata": {},
   "source": [
    "## 2. Compreensão dos Dados (Data Understanding)\n",
    "- [**Coleta de Dados:**](#coleta-de-dados) Identificar e adquirir os dados necessários para a análise (ex.: de sistemas internos, APIs, fontes públicas).\n",
    "- [**Exploração Inicial:**](#exploração-inicial-eda---exploratory-data-analysis) Examinar as primeiras linhas do dataset, identificar os tipos de variáveis, verificar as estatísticas descritivas e entender a estrutura dos dados (`df.head()`, `df.info()`, `df.describe()`).\n",
    "- [**Qualidade dos Dados:**](#qualidade-dos-dados) Avaliar a qualidade dos dados, identificando valores ausentes, inconsistências, e possíveis outliers (`df.isnull().sum()`, gráficos de boxplot, etc.).\n",
    "- [**Análise Inicial:**](#análise-inicial) Realizar análises exploratórias básicas para verificar correlações, distribuições e padrões que possam existir nos dados."
   ]
  },
  {
   "cell_type": "markdown",
   "metadata": {},
   "source": [
    "### Coleta de dados\n",
    "\n",
    "Aqui, o cientia de dados deve buscar fontes de informação. Seja com a área de negócio, buscando nos bancos de dados da empresa ou até dados públicos para enriquecer suas análises."
   ]
  },
  {
   "cell_type": "markdown",
   "metadata": {},
   "source": [
    "#### Leitura dos dados"
   ]
  },
  {
   "cell_type": "code",
   "execution_count": 2,
   "metadata": {},
   "outputs": [],
   "source": [
    "# Este dataframe será utilizado para realizar a analise exploratória e treinar o modelo\n",
    "df_train = pd.read_csv('../data/raw/train.csv')\n",
    "\n",
    "# Este dataframe será utilizado para treinar o modelo de machine learning utilizado e verificar se o mesmo está atendendo os critérios do projeto. NÃO TREINE COM ESSES DADOS!\n",
    "df_test_model = pd.read_csv('../data/raw/test.csv')\n",
    "\n",
    "# Este dataframe será utilizado para gerar os dados que serão submetidos na competição.\n",
    "df_test_sub = pd.read_csv('../data/raw/gender_submission.csv')"
   ]
  },
  {
   "cell_type": "markdown",
   "metadata": {},
   "source": [
    "##### Entendimento dos Dados  \n",
    "| Variável  | Definição                                       | Chave                             |\n",
    "|-----------|------------------------------------------------|-----------------------------------|\n",
    "| survival  | Sobrevivência                                   | 0 = Não, 1 = Sim                  |\n",
    "| pclass    | Classe do bilhete                              | 1 = 1ª, 2 = 2ª, 3 = 3ª           |\n",
    "| sex       | Sexo                                           |                                   |\n",
    "| Age       | Idade em anos                                  |                                   |\n",
    "| sibsp     | Número de irmãos / cônjuges a bordo do Titanic |                                   |\n",
    "| parch     | Número de pais / filhos a bordo do Titanic     |                                   |\n",
    "| ticket    | Número do bilhete                              |                                   |\n",
    "| fare      | Tarifa do passageiro                           |                                   |\n",
    "| cabin     | Número da cabine                               |                                   |\n",
    "| embarked  | Porto de Embarque                             | C = Cherbourg, Q = Queenstown, S = Southampton |\n",
    "\n",
    "** Notas sobre as Variáveis:**\n",
    "- **pclass**: Um proxy para o status socioeconômico (SES)  \n",
    "  - 1ª = Alta  \n",
    "  - 2ª = Média  \n",
    "  - 3ª = Baixa  \n",
    "\n",
    "- **age**: A idade é fracionária se for menor que 1. Se a idade for estimada, está na forma xx.5.\n",
    "\n",
    "- **sibsp**: O conjunto de dados define relações familiares desta forma...  \n",
    "  - Irmão = irmão, irmã, meio-irmão, meia-irmã  \n",
    "  - Cônjuge = marido, esposa (amantes e noivos foram ignorados)  \n",
    "\n",
    "- **parch**: O conjunto de dados define relações familiares desta forma...  \n",
    "  - Pai = mãe, pai  \n",
    "  - Filho = filha, filho, enteada, enteado  \n",
    "  - Algumas crianças viajaram apenas com uma babá, portanto `parch=0` para elas.\n"
   ]
  },
  {
   "cell_type": "markdown",
   "metadata": {},
   "source": [
    "### Exploração Inicial: (EDA - Exploratory Data Analysis)"
   ]
  },
  {
   "cell_type": "markdown",
   "metadata": {},
   "source": []
  },
  {
   "cell_type": "code",
   "execution_count": 3,
   "metadata": {},
   "outputs": [
    {
     "name": "stdout",
     "output_type": "stream",
     "text": [
      "<class 'pandas.core.frame.DataFrame'>\n",
      "RangeIndex: 891 entries, 0 to 890\n",
      "Data columns (total 12 columns):\n",
      " #   Column       Non-Null Count  Dtype  \n",
      "---  ------       --------------  -----  \n",
      " 0   PassengerId  891 non-null    int64  \n",
      " 1   Survived     891 non-null    int64  \n",
      " 2   Pclass       891 non-null    int64  \n",
      " 3   Name         891 non-null    object \n",
      " 4   Sex          891 non-null    object \n",
      " 5   Age          714 non-null    float64\n",
      " 6   SibSp        891 non-null    int64  \n",
      " 7   Parch        891 non-null    int64  \n",
      " 8   Ticket       891 non-null    object \n",
      " 9   Fare         891 non-null    float64\n",
      " 10  Cabin        204 non-null    object \n",
      " 11  Embarked     889 non-null    object \n",
      "dtypes: float64(2), int64(5), object(5)\n",
      "memory usage: 83.7+ KB\n"
     ]
    }
   ],
   "source": [
    "# Verificar os tipos de dados\n",
    "df_train.info()"
   ]
  },
  {
   "cell_type": "markdown",
   "metadata": {},
   "source": [
    "- Oportunidade de Verificação dos Tipos de Dados:\n",
    "    - **PassengerId**: Este campo representa a chave única de cada passageiro, permitindo a obtenção de informações adicionais relacionadas a eles. No entanto, como não é o foco do exercício, será separado para uso em dados de saída.\n",
    "    - **Survived**: Trata-se de uma variável categórica/booleano, indicando a sobrevivência do passageiro. Será necessário adaptá-la para a análise, e ela será mantida como dado de saída.\n",
    "    - **Pclass**: Esta variável categórica refere-se à classe do passageiro e precisa ser adaptada e analisada para entender seu impacto na sobrevivência.\n",
    "    - **Name**: Embora possa parecer informativo, o nome não fornece causalidade relevante para a predição (ex.: \"Os Matheus sobrevivem mais\"). Portanto, deve ser excluído da análise.\n",
    "    - **Sex**: Uma variável categórica que também requer adaptação e análise, uma vez que pode ter um impacto significativo nas chances de sobrevivência.\n",
    "    - **Age**: Este é um dado numérico, e os valores nulos precisam ser tratados. Além disso, a análise da idade dos passageiros pode revelar insights importantes sobre a sobrevivência.\n",
    "    - **SibSp**: Trata-se de um dado numérico que representa o número de irmãos e cônjuges a bordo. Este campo deve ser analisado para verificar sua relevância na predição.\n",
    "    - **Parch**: Similar a SibSp, é um dado numérico que indica o número de pais e filhos a bordo. Deve ser analisado para compreender seu impacto na sobrevivência.\n",
    "    - **Ticket**: Este campo é uma string e, à primeira vista, parece similar ao nome, não implicando causalidade direta. No entanto, pode haver padrões que ajudem a complementar dados faltantes em outras colunas.\n",
    "    - **Fare**: Um dado numérico que representa o preço da passagem. É importante analisá-lo, pois pode ter correlações com a classe (Pclass) e, eventualmente, pode ser descartado pelo modelo se não contribuir para a predição.\n",
    "    - **Cabin**: Uma variável categórica em formato de string que pode fornecer informações sobre a localização do passageiro no navio. Contudo, apresenta muitos dados nulos. Se não for possível preencher essas informações através de outras variáveis, como Ticket ou Embarked, devemos considerar sua exclusão.\n",
    "    - **Embarked**: Esta variável categórica em string pode oferecer informações sobre os hábitos dos passageiros e como isso pode influenciar suas chances de sobrevivência. Assim como outras variáveis, os dados nulos precisam ser tratados, e uma análise deve ser realizada para compreender seu impacto.\n"
   ]
  },
  {
   "cell_type": "code",
   "execution_count": 4,
   "metadata": {},
   "outputs": [
    {
     "data": {
      "text/html": [
       "<div>\n",
       "<style scoped>\n",
       "    .dataframe tbody tr th:only-of-type {\n",
       "        vertical-align: middle;\n",
       "    }\n",
       "\n",
       "    .dataframe tbody tr th {\n",
       "        vertical-align: top;\n",
       "    }\n",
       "\n",
       "    .dataframe thead th {\n",
       "        text-align: right;\n",
       "    }\n",
       "</style>\n",
       "<table border=\"1\" class=\"dataframe\">\n",
       "  <thead>\n",
       "    <tr style=\"text-align: right;\">\n",
       "      <th></th>\n",
       "      <th>PassengerId</th>\n",
       "      <th>Survived</th>\n",
       "      <th>Pclass</th>\n",
       "      <th>Name</th>\n",
       "      <th>Sex</th>\n",
       "      <th>Age</th>\n",
       "      <th>SibSp</th>\n",
       "      <th>Parch</th>\n",
       "      <th>Ticket</th>\n",
       "      <th>Fare</th>\n",
       "      <th>Cabin</th>\n",
       "      <th>Embarked</th>\n",
       "    </tr>\n",
       "  </thead>\n",
       "  <tbody>\n",
       "    <tr>\n",
       "      <th>154</th>\n",
       "      <td>155</td>\n",
       "      <td>0</td>\n",
       "      <td>3</td>\n",
       "      <td>Olsen, Mr. Ole Martin</td>\n",
       "      <td>male</td>\n",
       "      <td>NaN</td>\n",
       "      <td>0</td>\n",
       "      <td>0</td>\n",
       "      <td>Fa 265302</td>\n",
       "      <td>7.3125</td>\n",
       "      <td>NaN</td>\n",
       "      <td>S</td>\n",
       "    </tr>\n",
       "    <tr>\n",
       "      <th>475</th>\n",
       "      <td>476</td>\n",
       "      <td>0</td>\n",
       "      <td>1</td>\n",
       "      <td>Clifford, Mr. George Quincy</td>\n",
       "      <td>male</td>\n",
       "      <td>NaN</td>\n",
       "      <td>0</td>\n",
       "      <td>0</td>\n",
       "      <td>110465</td>\n",
       "      <td>52.0000</td>\n",
       "      <td>A14</td>\n",
       "      <td>S</td>\n",
       "    </tr>\n",
       "    <tr>\n",
       "      <th>376</th>\n",
       "      <td>377</td>\n",
       "      <td>1</td>\n",
       "      <td>3</td>\n",
       "      <td>Landergren, Miss. Aurora Adelia</td>\n",
       "      <td>female</td>\n",
       "      <td>22.0</td>\n",
       "      <td>0</td>\n",
       "      <td>0</td>\n",
       "      <td>C 7077</td>\n",
       "      <td>7.2500</td>\n",
       "      <td>NaN</td>\n",
       "      <td>S</td>\n",
       "    </tr>\n",
       "    <tr>\n",
       "      <th>182</th>\n",
       "      <td>183</td>\n",
       "      <td>0</td>\n",
       "      <td>3</td>\n",
       "      <td>Asplund, Master. Clarence Gustaf Hugo</td>\n",
       "      <td>male</td>\n",
       "      <td>9.0</td>\n",
       "      <td>4</td>\n",
       "      <td>2</td>\n",
       "      <td>347077</td>\n",
       "      <td>31.3875</td>\n",
       "      <td>NaN</td>\n",
       "      <td>S</td>\n",
       "    </tr>\n",
       "    <tr>\n",
       "      <th>541</th>\n",
       "      <td>542</td>\n",
       "      <td>0</td>\n",
       "      <td>3</td>\n",
       "      <td>Andersson, Miss. Ingeborg Constanzia</td>\n",
       "      <td>female</td>\n",
       "      <td>9.0</td>\n",
       "      <td>4</td>\n",
       "      <td>2</td>\n",
       "      <td>347082</td>\n",
       "      <td>31.2750</td>\n",
       "      <td>NaN</td>\n",
       "      <td>S</td>\n",
       "    </tr>\n",
       "    <tr>\n",
       "      <th>783</th>\n",
       "      <td>784</td>\n",
       "      <td>0</td>\n",
       "      <td>3</td>\n",
       "      <td>Johnston, Mr. Andrew G</td>\n",
       "      <td>male</td>\n",
       "      <td>NaN</td>\n",
       "      <td>1</td>\n",
       "      <td>2</td>\n",
       "      <td>W./C. 6607</td>\n",
       "      <td>23.4500</td>\n",
       "      <td>NaN</td>\n",
       "      <td>S</td>\n",
       "    </tr>\n",
       "    <tr>\n",
       "      <th>883</th>\n",
       "      <td>884</td>\n",
       "      <td>0</td>\n",
       "      <td>2</td>\n",
       "      <td>Banfield, Mr. Frederick James</td>\n",
       "      <td>male</td>\n",
       "      <td>28.0</td>\n",
       "      <td>0</td>\n",
       "      <td>0</td>\n",
       "      <td>C.A./SOTON 34068</td>\n",
       "      <td>10.5000</td>\n",
       "      <td>NaN</td>\n",
       "      <td>S</td>\n",
       "    </tr>\n",
       "    <tr>\n",
       "      <th>60</th>\n",
       "      <td>61</td>\n",
       "      <td>0</td>\n",
       "      <td>3</td>\n",
       "      <td>Sirayanian, Mr. Orsen</td>\n",
       "      <td>male</td>\n",
       "      <td>22.0</td>\n",
       "      <td>0</td>\n",
       "      <td>0</td>\n",
       "      <td>2669</td>\n",
       "      <td>7.2292</td>\n",
       "      <td>NaN</td>\n",
       "      <td>C</td>\n",
       "    </tr>\n",
       "    <tr>\n",
       "      <th>374</th>\n",
       "      <td>375</td>\n",
       "      <td>0</td>\n",
       "      <td>3</td>\n",
       "      <td>Palsson, Miss. Stina Viola</td>\n",
       "      <td>female</td>\n",
       "      <td>3.0</td>\n",
       "      <td>3</td>\n",
       "      <td>1</td>\n",
       "      <td>349909</td>\n",
       "      <td>21.0750</td>\n",
       "      <td>NaN</td>\n",
       "      <td>S</td>\n",
       "    </tr>\n",
       "    <tr>\n",
       "      <th>276</th>\n",
       "      <td>277</td>\n",
       "      <td>0</td>\n",
       "      <td>3</td>\n",
       "      <td>Lindblom, Miss. Augusta Charlotta</td>\n",
       "      <td>female</td>\n",
       "      <td>45.0</td>\n",
       "      <td>0</td>\n",
       "      <td>0</td>\n",
       "      <td>347073</td>\n",
       "      <td>7.7500</td>\n",
       "      <td>NaN</td>\n",
       "      <td>S</td>\n",
       "    </tr>\n",
       "  </tbody>\n",
       "</table>\n",
       "</div>"
      ],
      "text/plain": [
       "     PassengerId  Survived  Pclass                                   Name  \\\n",
       "154          155         0       3                  Olsen, Mr. Ole Martin   \n",
       "475          476         0       1            Clifford, Mr. George Quincy   \n",
       "376          377         1       3        Landergren, Miss. Aurora Adelia   \n",
       "182          183         0       3  Asplund, Master. Clarence Gustaf Hugo   \n",
       "541          542         0       3   Andersson, Miss. Ingeborg Constanzia   \n",
       "783          784         0       3                 Johnston, Mr. Andrew G   \n",
       "883          884         0       2          Banfield, Mr. Frederick James   \n",
       "60            61         0       3                  Sirayanian, Mr. Orsen   \n",
       "374          375         0       3             Palsson, Miss. Stina Viola   \n",
       "276          277         0       3      Lindblom, Miss. Augusta Charlotta   \n",
       "\n",
       "        Sex   Age  SibSp  Parch            Ticket     Fare Cabin Embarked  \n",
       "154    male   NaN      0      0         Fa 265302   7.3125   NaN        S  \n",
       "475    male   NaN      0      0            110465  52.0000   A14        S  \n",
       "376  female  22.0      0      0            C 7077   7.2500   NaN        S  \n",
       "182    male   9.0      4      2            347077  31.3875   NaN        S  \n",
       "541  female   9.0      4      2            347082  31.2750   NaN        S  \n",
       "783    male   NaN      1      2        W./C. 6607  23.4500   NaN        S  \n",
       "883    male  28.0      0      0  C.A./SOTON 34068  10.5000   NaN        S  \n",
       "60     male  22.0      0      0              2669   7.2292   NaN        C  \n",
       "374  female   3.0      3      1            349909  21.0750   NaN        S  \n",
       "276  female  45.0      0      0            347073   7.7500   NaN        S  "
      ]
     },
     "execution_count": 4,
     "metadata": {},
     "output_type": "execute_result"
    }
   ],
   "source": [
    "# Verificar como os dados se organizam pegando 10 amostras aleatórias\n",
    "df_train.sample(10)"
   ]
  },
  {
   "cell_type": "markdown",
   "metadata": {},
   "source": [
    "### Qualidade dos Dados"
   ]
  },
  {
   "cell_type": "code",
   "execution_count": 5,
   "metadata": {},
   "outputs": [
    {
     "data": {
      "text/plain": [
       "PassengerId      0\n",
       "Survived         0\n",
       "Pclass           0\n",
       "Name             0\n",
       "Sex              0\n",
       "Age            177\n",
       "SibSp            0\n",
       "Parch            0\n",
       "Ticket           0\n",
       "Fare             0\n",
       "Cabin          687\n",
       "Embarked         2\n",
       "dtype: int64"
      ]
     },
     "execution_count": 5,
     "metadata": {},
     "output_type": "execute_result"
    }
   ],
   "source": [
    "# Verificar a quantidade de dados nulos\n",
    "df_train.isna().sum()\n",
    "\n",
    "#'''\n",
    "#- Tratamentos Necessários\n",
    "#    - **Age**: Esta variável apresenta uma quantidade considerável de dados nulos. É importante analisar sua distribuição para determinar a melhor abordagem, que pode incluir o uso da mediana, média ou, se necessário, a remoção das linhas que contêm esses valores ausentes.\n",
    "#    - **Cabin**: Este campo possui uma quantidade significativa de dados nulos. Se não for possível preencher essas informações a partir de outras colunas, como Ticket ou Embarked, a exclusão desta coluna deve ser considerada.\n",
    "#    - **Embarked**: Com poucos dados nulos, é necessário verificar qual tipo de informação pode ser inserida. A moda da coluna pode ser uma solução adequada para preencher os valores ausentes.\n",
    "#'''"
   ]
  },
  {
   "cell_type": "markdown",
   "metadata": {},
   "source": [
    "### Análise Inicial"
   ]
  },
  {
   "cell_type": "markdown",
   "metadata": {},
   "source": [
    "#### Cabin pode ser complementado"
   ]
  },
  {
   "cell_type": "code",
   "execution_count": 6,
   "metadata": {},
   "outputs": [
    {
     "data": {
      "text/html": [
       "<div>\n",
       "<style scoped>\n",
       "    .dataframe tbody tr th:only-of-type {\n",
       "        vertical-align: middle;\n",
       "    }\n",
       "\n",
       "    .dataframe tbody tr th {\n",
       "        vertical-align: top;\n",
       "    }\n",
       "\n",
       "    .dataframe thead th {\n",
       "        text-align: right;\n",
       "    }\n",
       "</style>\n",
       "<table border=\"1\" class=\"dataframe\">\n",
       "  <thead>\n",
       "    <tr style=\"text-align: right;\">\n",
       "      <th>Cabin</th>\n",
       "      <th>A10</th>\n",
       "      <th>A14</th>\n",
       "      <th>A16</th>\n",
       "      <th>A19</th>\n",
       "      <th>A20</th>\n",
       "      <th>A23</th>\n",
       "      <th>A24</th>\n",
       "      <th>A26</th>\n",
       "      <th>A31</th>\n",
       "      <th>A32</th>\n",
       "      <th>...</th>\n",
       "      <th>E8</th>\n",
       "      <th>F E69</th>\n",
       "      <th>F G63</th>\n",
       "      <th>F G73</th>\n",
       "      <th>F2</th>\n",
       "      <th>F33</th>\n",
       "      <th>F38</th>\n",
       "      <th>F4</th>\n",
       "      <th>G6</th>\n",
       "      <th>T</th>\n",
       "    </tr>\n",
       "    <tr>\n",
       "      <th>Pclass</th>\n",
       "      <th></th>\n",
       "      <th></th>\n",
       "      <th></th>\n",
       "      <th></th>\n",
       "      <th></th>\n",
       "      <th></th>\n",
       "      <th></th>\n",
       "      <th></th>\n",
       "      <th></th>\n",
       "      <th></th>\n",
       "      <th></th>\n",
       "      <th></th>\n",
       "      <th></th>\n",
       "      <th></th>\n",
       "      <th></th>\n",
       "      <th></th>\n",
       "      <th></th>\n",
       "      <th></th>\n",
       "      <th></th>\n",
       "      <th></th>\n",
       "      <th></th>\n",
       "    </tr>\n",
       "  </thead>\n",
       "  <tbody>\n",
       "    <tr>\n",
       "      <th>1</th>\n",
       "      <td>1</td>\n",
       "      <td>1</td>\n",
       "      <td>1</td>\n",
       "      <td>1</td>\n",
       "      <td>1</td>\n",
       "      <td>1</td>\n",
       "      <td>1</td>\n",
       "      <td>1</td>\n",
       "      <td>1</td>\n",
       "      <td>1</td>\n",
       "      <td>...</td>\n",
       "      <td>2</td>\n",
       "      <td>0</td>\n",
       "      <td>0</td>\n",
       "      <td>0</td>\n",
       "      <td>0</td>\n",
       "      <td>0</td>\n",
       "      <td>0</td>\n",
       "      <td>0</td>\n",
       "      <td>0</td>\n",
       "      <td>1</td>\n",
       "    </tr>\n",
       "    <tr>\n",
       "      <th>2</th>\n",
       "      <td>0</td>\n",
       "      <td>0</td>\n",
       "      <td>0</td>\n",
       "      <td>0</td>\n",
       "      <td>0</td>\n",
       "      <td>0</td>\n",
       "      <td>0</td>\n",
       "      <td>0</td>\n",
       "      <td>0</td>\n",
       "      <td>0</td>\n",
       "      <td>...</td>\n",
       "      <td>0</td>\n",
       "      <td>0</td>\n",
       "      <td>0</td>\n",
       "      <td>0</td>\n",
       "      <td>3</td>\n",
       "      <td>3</td>\n",
       "      <td>0</td>\n",
       "      <td>2</td>\n",
       "      <td>0</td>\n",
       "      <td>0</td>\n",
       "    </tr>\n",
       "    <tr>\n",
       "      <th>3</th>\n",
       "      <td>0</td>\n",
       "      <td>0</td>\n",
       "      <td>0</td>\n",
       "      <td>0</td>\n",
       "      <td>0</td>\n",
       "      <td>0</td>\n",
       "      <td>0</td>\n",
       "      <td>0</td>\n",
       "      <td>0</td>\n",
       "      <td>0</td>\n",
       "      <td>...</td>\n",
       "      <td>0</td>\n",
       "      <td>1</td>\n",
       "      <td>1</td>\n",
       "      <td>2</td>\n",
       "      <td>0</td>\n",
       "      <td>0</td>\n",
       "      <td>1</td>\n",
       "      <td>0</td>\n",
       "      <td>4</td>\n",
       "      <td>0</td>\n",
       "    </tr>\n",
       "  </tbody>\n",
       "</table>\n",
       "<p>3 rows × 147 columns</p>\n",
       "</div>"
      ],
      "text/plain": [
       "Cabin   A10  A14  A16  A19  A20  A23  A24  A26  A31  A32  ...  E8  F E69  \\\n",
       "Pclass                                                    ...              \n",
       "1         1    1    1    1    1    1    1    1    1    1  ...   2      0   \n",
       "2         0    0    0    0    0    0    0    0    0    0  ...   0      0   \n",
       "3         0    0    0    0    0    0    0    0    0    0  ...   0      1   \n",
       "\n",
       "Cabin   F G63  F G73  F2  F33  F38  F4  G6  T  \n",
       "Pclass                                         \n",
       "1           0      0   0    0    0   0   0  1  \n",
       "2           0      0   3    3    0   2   0  0  \n",
       "3           1      2   0    0    1   0   4  0  \n",
       "\n",
       "[3 rows x 147 columns]"
      ]
     },
     "execution_count": 6,
     "metadata": {},
     "output_type": "execute_result"
    }
   ],
   "source": [
    "# - Cabin can be composed of a ticket and Embarkation.\n",
    "ticket_contingency_table = pd.crosstab(df_train['Pclass'],df_train['Cabin'])\n",
    "ticket_contingency_table"
   ]
  },
  {
   "cell_type": "code",
   "execution_count": 7,
   "metadata": {},
   "outputs": [
    {
     "data": {
      "text/html": [
       "<div>\n",
       "<style scoped>\n",
       "    .dataframe tbody tr th:only-of-type {\n",
       "        vertical-align: middle;\n",
       "    }\n",
       "\n",
       "    .dataframe tbody tr th {\n",
       "        vertical-align: top;\n",
       "    }\n",
       "\n",
       "    .dataframe thead th {\n",
       "        text-align: right;\n",
       "    }\n",
       "</style>\n",
       "<table border=\"1\" class=\"dataframe\">\n",
       "  <thead>\n",
       "    <tr style=\"text-align: right;\">\n",
       "      <th></th>\n",
       "      <th>PassengerId</th>\n",
       "      <th>Survived</th>\n",
       "      <th>Pclass</th>\n",
       "      <th>Name</th>\n",
       "      <th>Sex</th>\n",
       "      <th>Age</th>\n",
       "      <th>SibSp</th>\n",
       "      <th>Parch</th>\n",
       "      <th>Ticket</th>\n",
       "      <th>Fare</th>\n",
       "      <th>Cabin</th>\n",
       "      <th>Embarked</th>\n",
       "      <th>Cabin_l</th>\n",
       "      <th>Cabin_n</th>\n",
       "    </tr>\n",
       "  </thead>\n",
       "  <tbody>\n",
       "    <tr>\n",
       "      <th>0</th>\n",
       "      <td>1</td>\n",
       "      <td>0</td>\n",
       "      <td>3</td>\n",
       "      <td>Braund, Mr. Owen Harris</td>\n",
       "      <td>male</td>\n",
       "      <td>22.0</td>\n",
       "      <td>1</td>\n",
       "      <td>0</td>\n",
       "      <td>A/5 21171</td>\n",
       "      <td>7.2500</td>\n",
       "      <td>NaN</td>\n",
       "      <td>S</td>\n",
       "      <td>NaN</td>\n",
       "      <td>NaN</td>\n",
       "    </tr>\n",
       "    <tr>\n",
       "      <th>1</th>\n",
       "      <td>2</td>\n",
       "      <td>1</td>\n",
       "      <td>1</td>\n",
       "      <td>Cumings, Mrs. John Bradley (Florence Briggs Th...</td>\n",
       "      <td>female</td>\n",
       "      <td>38.0</td>\n",
       "      <td>1</td>\n",
       "      <td>0</td>\n",
       "      <td>PC 17599</td>\n",
       "      <td>71.2833</td>\n",
       "      <td>C85</td>\n",
       "      <td>C</td>\n",
       "      <td>C</td>\n",
       "      <td>85</td>\n",
       "    </tr>\n",
       "    <tr>\n",
       "      <th>2</th>\n",
       "      <td>3</td>\n",
       "      <td>1</td>\n",
       "      <td>3</td>\n",
       "      <td>Heikkinen, Miss. Laina</td>\n",
       "      <td>female</td>\n",
       "      <td>26.0</td>\n",
       "      <td>0</td>\n",
       "      <td>0</td>\n",
       "      <td>STON/O2. 3101282</td>\n",
       "      <td>7.9250</td>\n",
       "      <td>NaN</td>\n",
       "      <td>S</td>\n",
       "      <td>NaN</td>\n",
       "      <td>NaN</td>\n",
       "    </tr>\n",
       "    <tr>\n",
       "      <th>3</th>\n",
       "      <td>4</td>\n",
       "      <td>1</td>\n",
       "      <td>1</td>\n",
       "      <td>Futrelle, Mrs. Jacques Heath (Lily May Peel)</td>\n",
       "      <td>female</td>\n",
       "      <td>35.0</td>\n",
       "      <td>1</td>\n",
       "      <td>0</td>\n",
       "      <td>113803</td>\n",
       "      <td>53.1000</td>\n",
       "      <td>C123</td>\n",
       "      <td>S</td>\n",
       "      <td>C</td>\n",
       "      <td>123</td>\n",
       "    </tr>\n",
       "    <tr>\n",
       "      <th>4</th>\n",
       "      <td>5</td>\n",
       "      <td>0</td>\n",
       "      <td>3</td>\n",
       "      <td>Allen, Mr. William Henry</td>\n",
       "      <td>male</td>\n",
       "      <td>35.0</td>\n",
       "      <td>0</td>\n",
       "      <td>0</td>\n",
       "      <td>373450</td>\n",
       "      <td>8.0500</td>\n",
       "      <td>NaN</td>\n",
       "      <td>S</td>\n",
       "      <td>NaN</td>\n",
       "      <td>NaN</td>\n",
       "    </tr>\n",
       "  </tbody>\n",
       "</table>\n",
       "</div>"
      ],
      "text/plain": [
       "   PassengerId  Survived  Pclass  \\\n",
       "0            1         0       3   \n",
       "1            2         1       1   \n",
       "2            3         1       3   \n",
       "3            4         1       1   \n",
       "4            5         0       3   \n",
       "\n",
       "                                                Name     Sex   Age  SibSp  \\\n",
       "0                            Braund, Mr. Owen Harris    male  22.0      1   \n",
       "1  Cumings, Mrs. John Bradley (Florence Briggs Th...  female  38.0      1   \n",
       "2                             Heikkinen, Miss. Laina  female  26.0      0   \n",
       "3       Futrelle, Mrs. Jacques Heath (Lily May Peel)  female  35.0      1   \n",
       "4                           Allen, Mr. William Henry    male  35.0      0   \n",
       "\n",
       "   Parch            Ticket     Fare Cabin Embarked Cabin_l Cabin_n  \n",
       "0      0         A/5 21171   7.2500   NaN        S     NaN     NaN  \n",
       "1      0          PC 17599  71.2833   C85        C       C      85  \n",
       "2      0  STON/O2. 3101282   7.9250   NaN        S     NaN     NaN  \n",
       "3      0            113803  53.1000  C123        S       C     123  \n",
       "4      0            373450   8.0500   NaN        S     NaN     NaN  "
      ]
     },
     "execution_count": 7,
     "metadata": {},
     "output_type": "execute_result"
    }
   ],
   "source": [
    "# If we separe the letter and number, this pass a context?\n",
    "df_train[['Cabin_l','Cabin_n']] = df_train['Cabin'].str.extract(r'([A-Za-z]+)(\\d+)')\n",
    "df_train.head()"
   ]
  },
  {
   "cell_type": "code",
   "execution_count": 8,
   "metadata": {},
   "outputs": [
    {
     "data": {
      "text/html": [
       "<div>\n",
       "<style scoped>\n",
       "    .dataframe tbody tr th:only-of-type {\n",
       "        vertical-align: middle;\n",
       "    }\n",
       "\n",
       "    .dataframe tbody tr th {\n",
       "        vertical-align: top;\n",
       "    }\n",
       "\n",
       "    .dataframe thead th {\n",
       "        text-align: right;\n",
       "    }\n",
       "</style>\n",
       "<table border=\"1\" class=\"dataframe\">\n",
       "  <thead>\n",
       "    <tr style=\"text-align: right;\">\n",
       "      <th>Cabin_l</th>\n",
       "      <th>A</th>\n",
       "      <th>B</th>\n",
       "      <th>C</th>\n",
       "      <th>D</th>\n",
       "      <th>E</th>\n",
       "      <th>F</th>\n",
       "      <th>G</th>\n",
       "    </tr>\n",
       "    <tr>\n",
       "      <th>Pclass</th>\n",
       "      <th></th>\n",
       "      <th></th>\n",
       "      <th></th>\n",
       "      <th></th>\n",
       "      <th></th>\n",
       "      <th></th>\n",
       "      <th></th>\n",
       "    </tr>\n",
       "  </thead>\n",
       "  <tbody>\n",
       "    <tr>\n",
       "      <th>1</th>\n",
       "      <td>15</td>\n",
       "      <td>47</td>\n",
       "      <td>59</td>\n",
       "      <td>29</td>\n",
       "      <td>25</td>\n",
       "      <td>0</td>\n",
       "      <td>0</td>\n",
       "    </tr>\n",
       "    <tr>\n",
       "      <th>2</th>\n",
       "      <td>0</td>\n",
       "      <td>0</td>\n",
       "      <td>0</td>\n",
       "      <td>1</td>\n",
       "      <td>4</td>\n",
       "      <td>8</td>\n",
       "      <td>0</td>\n",
       "    </tr>\n",
       "    <tr>\n",
       "      <th>3</th>\n",
       "      <td>0</td>\n",
       "      <td>0</td>\n",
       "      <td>0</td>\n",
       "      <td>0</td>\n",
       "      <td>4</td>\n",
       "      <td>1</td>\n",
       "      <td>7</td>\n",
       "    </tr>\n",
       "  </tbody>\n",
       "</table>\n",
       "</div>"
      ],
      "text/plain": [
       "Cabin_l   A   B   C   D   E  F  G\n",
       "Pclass                           \n",
       "1        15  47  59  29  25  0  0\n",
       "2         0   0   0   1   4  8  0\n",
       "3         0   0   0   0   4  1  7"
      ]
     },
     "execution_count": 8,
     "metadata": {},
     "output_type": "execute_result"
    }
   ],
   "source": [
    "# The cabin can be associated with a ticket and embarkation.\n",
    "ticket_contingency_table = pd.crosstab(df_train['Pclass'], df_train['Cabin_l'])\n",
    "ticket_contingency_table\n",
    "# We only have Pclass 1 in this DataFrame, so it will be difficult to define other classes. However, could the ticket be useful?"
   ]
  },
  {
   "cell_type": "code",
   "execution_count": 9,
   "metadata": {},
   "outputs": [
    {
     "data": {
      "text/html": [
       "<div>\n",
       "<style scoped>\n",
       "    .dataframe tbody tr th:only-of-type {\n",
       "        vertical-align: middle;\n",
       "    }\n",
       "\n",
       "    .dataframe tbody tr th {\n",
       "        vertical-align: top;\n",
       "    }\n",
       "\n",
       "    .dataframe thead th {\n",
       "        text-align: right;\n",
       "    }\n",
       "</style>\n",
       "<table border=\"1\" class=\"dataframe\">\n",
       "  <thead>\n",
       "    <tr style=\"text-align: right;\">\n",
       "      <th>Cabin_l</th>\n",
       "      <th>A</th>\n",
       "      <th>B</th>\n",
       "      <th>C</th>\n",
       "      <th>D</th>\n",
       "      <th>E</th>\n",
       "      <th>F</th>\n",
       "      <th>G</th>\n",
       "    </tr>\n",
       "    <tr>\n",
       "      <th>Ticket</th>\n",
       "      <th></th>\n",
       "      <th></th>\n",
       "      <th></th>\n",
       "      <th></th>\n",
       "      <th></th>\n",
       "      <th></th>\n",
       "      <th></th>\n",
       "    </tr>\n",
       "  </thead>\n",
       "  <tbody>\n",
       "    <tr>\n",
       "      <th>110152</th>\n",
       "      <td>0</td>\n",
       "      <td>3</td>\n",
       "      <td>0</td>\n",
       "      <td>0</td>\n",
       "      <td>0</td>\n",
       "      <td>0</td>\n",
       "      <td>0</td>\n",
       "    </tr>\n",
       "    <tr>\n",
       "      <th>110413</th>\n",
       "      <td>0</td>\n",
       "      <td>0</td>\n",
       "      <td>0</td>\n",
       "      <td>0</td>\n",
       "      <td>3</td>\n",
       "      <td>0</td>\n",
       "      <td>0</td>\n",
       "    </tr>\n",
       "    <tr>\n",
       "      <th>110465</th>\n",
       "      <td>1</td>\n",
       "      <td>0</td>\n",
       "      <td>1</td>\n",
       "      <td>0</td>\n",
       "      <td>0</td>\n",
       "      <td>0</td>\n",
       "      <td>0</td>\n",
       "    </tr>\n",
       "    <tr>\n",
       "      <th>110564</th>\n",
       "      <td>0</td>\n",
       "      <td>0</td>\n",
       "      <td>1</td>\n",
       "      <td>0</td>\n",
       "      <td>0</td>\n",
       "      <td>0</td>\n",
       "      <td>0</td>\n",
       "    </tr>\n",
       "    <tr>\n",
       "      <th>110813</th>\n",
       "      <td>0</td>\n",
       "      <td>0</td>\n",
       "      <td>0</td>\n",
       "      <td>1</td>\n",
       "      <td>0</td>\n",
       "      <td>0</td>\n",
       "      <td>0</td>\n",
       "    </tr>\n",
       "    <tr>\n",
       "      <th>...</th>\n",
       "      <td>...</td>\n",
       "      <td>...</td>\n",
       "      <td>...</td>\n",
       "      <td>...</td>\n",
       "      <td>...</td>\n",
       "      <td>...</td>\n",
       "      <td>...</td>\n",
       "    </tr>\n",
       "    <tr>\n",
       "      <th>PP 9549</th>\n",
       "      <td>0</td>\n",
       "      <td>0</td>\n",
       "      <td>0</td>\n",
       "      <td>0</td>\n",
       "      <td>0</td>\n",
       "      <td>0</td>\n",
       "      <td>2</td>\n",
       "    </tr>\n",
       "    <tr>\n",
       "      <th>S.O./P.P. 3</th>\n",
       "      <td>0</td>\n",
       "      <td>0</td>\n",
       "      <td>0</td>\n",
       "      <td>0</td>\n",
       "      <td>1</td>\n",
       "      <td>0</td>\n",
       "      <td>0</td>\n",
       "    </tr>\n",
       "    <tr>\n",
       "      <th>SOTON/O.Q. 392078</th>\n",
       "      <td>0</td>\n",
       "      <td>0</td>\n",
       "      <td>0</td>\n",
       "      <td>0</td>\n",
       "      <td>1</td>\n",
       "      <td>0</td>\n",
       "      <td>0</td>\n",
       "    </tr>\n",
       "    <tr>\n",
       "      <th>W.E.P. 5734</th>\n",
       "      <td>0</td>\n",
       "      <td>0</td>\n",
       "      <td>0</td>\n",
       "      <td>0</td>\n",
       "      <td>1</td>\n",
       "      <td>0</td>\n",
       "      <td>0</td>\n",
       "    </tr>\n",
       "    <tr>\n",
       "      <th>WE/P 5735</th>\n",
       "      <td>0</td>\n",
       "      <td>2</td>\n",
       "      <td>0</td>\n",
       "      <td>0</td>\n",
       "      <td>0</td>\n",
       "      <td>0</td>\n",
       "      <td>0</td>\n",
       "    </tr>\n",
       "  </tbody>\n",
       "</table>\n",
       "<p>138 rows × 7 columns</p>\n",
       "</div>"
      ],
      "text/plain": [
       "Cabin_l            A  B  C  D  E  F  G\n",
       "Ticket                                \n",
       "110152             0  3  0  0  0  0  0\n",
       "110413             0  0  0  0  3  0  0\n",
       "110465             1  0  1  0  0  0  0\n",
       "110564             0  0  1  0  0  0  0\n",
       "110813             0  0  0  1  0  0  0\n",
       "...               .. .. .. .. .. .. ..\n",
       "PP 9549            0  0  0  0  0  0  2\n",
       "S.O./P.P. 3        0  0  0  0  1  0  0\n",
       "SOTON/O.Q. 392078  0  0  0  0  1  0  0\n",
       "W.E.P. 5734        0  0  0  0  1  0  0\n",
       "WE/P 5735          0  2  0  0  0  0  0\n",
       "\n",
       "[138 rows x 7 columns]"
      ]
     },
     "execution_count": 9,
     "metadata": {},
     "output_type": "execute_result"
    }
   ],
   "source": [
    "ticket_contingency_table = pd.crosstab(df_train['Ticket'], df_train['Cabin_l'])\n",
    "ticket_contingency_table\n",
    "# Ticket is not useful for this modeling, and we can't use it to complement Cabin."
   ]
  },
  {
   "cell_type": "code",
   "execution_count": 10,
   "metadata": {},
   "outputs": [
    {
     "data": {
      "text/html": [
       "<div>\n",
       "<style scoped>\n",
       "    .dataframe tbody tr th:only-of-type {\n",
       "        vertical-align: middle;\n",
       "    }\n",
       "\n",
       "    .dataframe tbody tr th {\n",
       "        vertical-align: top;\n",
       "    }\n",
       "\n",
       "    .dataframe thead th {\n",
       "        text-align: right;\n",
       "    }\n",
       "</style>\n",
       "<table border=\"1\" class=\"dataframe\">\n",
       "  <thead>\n",
       "    <tr style=\"text-align: right;\">\n",
       "      <th>Cabin_l</th>\n",
       "      <th>A</th>\n",
       "      <th>B</th>\n",
       "      <th>C</th>\n",
       "      <th>D</th>\n",
       "      <th>E</th>\n",
       "      <th>F</th>\n",
       "      <th>G</th>\n",
       "    </tr>\n",
       "    <tr>\n",
       "      <th>Survived</th>\n",
       "      <th></th>\n",
       "      <th></th>\n",
       "      <th></th>\n",
       "      <th></th>\n",
       "      <th></th>\n",
       "      <th></th>\n",
       "      <th></th>\n",
       "    </tr>\n",
       "  </thead>\n",
       "  <tbody>\n",
       "    <tr>\n",
       "      <th>0</th>\n",
       "      <td>8</td>\n",
       "      <td>12</td>\n",
       "      <td>24</td>\n",
       "      <td>7</td>\n",
       "      <td>8</td>\n",
       "      <td>2</td>\n",
       "      <td>5</td>\n",
       "    </tr>\n",
       "    <tr>\n",
       "      <th>1</th>\n",
       "      <td>7</td>\n",
       "      <td>35</td>\n",
       "      <td>35</td>\n",
       "      <td>23</td>\n",
       "      <td>25</td>\n",
       "      <td>7</td>\n",
       "      <td>2</td>\n",
       "    </tr>\n",
       "  </tbody>\n",
       "</table>\n",
       "</div>"
      ],
      "text/plain": [
       "Cabin_l   A   B   C   D   E  F  G\n",
       "Survived                         \n",
       "0         8  12  24   7   8  2  5\n",
       "1         7  35  35  23  25  7  2"
      ]
     },
     "execution_count": 10,
     "metadata": {},
     "output_type": "execute_result"
    }
   ],
   "source": [
    "# Is there a relationship between Cabin and Survived?\n",
    "contingency_table = pd.crosstab(df_train['Survived'], df_train['Cabin_l'])\n",
    "contingency_table\n",
    "# Looking at the data, we see Cabins A, B, C, D, E, and G, but we don't have enough data to know if this is real.\n",
    "# Additionally, we only have this data for the first class passengers. We will make a decision to remove this data from the training DataFrame."
   ]
  },
  {
   "cell_type": "markdown",
   "metadata": {},
   "source": [
    "Não foram encontrados padrões no primeiro momento, portanto, a coluna Cabin será excluída da análise."
   ]
  },
  {
   "cell_type": "markdown",
   "metadata": {},
   "source": [
    "#### Análise dos dados categóricos"
   ]
  },
  {
   "cell_type": "markdown",
   "metadata": {},
   "source": [
    "Antes de realizar o teste, precisamos identificar quais campos utilizar para preencher os valores nulos na variável Embarked."
   ]
  },
  {
   "cell_type": "code",
   "execution_count": 11,
   "metadata": {},
   "outputs": [
    {
     "data": {
      "text/plain": [
       "Embarked\n",
       "S    644\n",
       "C    168\n",
       "Q     77\n",
       "Name: count, dtype: int64"
      ]
     },
     "execution_count": 11,
     "metadata": {},
     "output_type": "execute_result"
    }
   ],
   "source": [
    "df_train['Embarked'].value_counts()"
   ]
  },
  {
   "cell_type": "code",
   "execution_count": 12,
   "metadata": {},
   "outputs": [],
   "source": [
    "def plot_categorical_relationship(df, cat_var1, cat_var2, hue=None):\n",
    "    \"\"\"\n",
    "    Plota barplots para duas variáveis categóricas, com a segunda variável categórica representada em colunas.\n",
    "    \n",
    "    Parameters:\n",
    "        df (pd.DataFrame): O dataframe contendo as variáveis.\n",
    "        cat_var1 (str): Nome da primeira variável categórica.\n",
    "        cat_var2 (str): Nome da segunda variável categórica.\n",
    "        hue (str, optional): Nome da variável a ser usada para colorir as barras. Padrão é None.\n",
    "    \"\"\"\n",
    "    \n",
    "    # Verifica se as variáveis estão no DataFrame\n",
    "    if cat_var1 not in df.columns or cat_var2 not in df.columns:\n",
    "        raise ValueError(f\"As variáveis {cat_var1} ou {cat_var2} não estão no DataFrame.\")\n",
    "\n",
    "    # Cria o gráfico usando catplot\n",
    "    plt.figure(figsize=(12, 6))\n",
    "    sns.catplot(\n",
    "        data=df, \n",
    "        x=cat_var1, \n",
    "        kind='count', \n",
    "        col=cat_var2,\n",
    "        hue=hue,  # Adiciona hue como opcional\n",
    "        height=4, \n",
    "        aspect=0.7\n",
    "    )\n",
    "    \n",
    "    plt.subplots_adjust(top=0.8)\n",
    "    plt.suptitle(f'Relação entre {cat_var1} e {cat_var2}', fontsize=16)\n",
    "    \n",
    "    plt.show()"
   ]
  },
  {
   "cell_type": "code",
   "execution_count": 13,
   "metadata": {},
   "outputs": [],
   "source": [
    "col = ['Sex','Pclass','Embarked']"
   ]
  },
  {
   "cell_type": "code",
   "execution_count": 14,
   "metadata": {},
   "outputs": [
    {
     "data": {
      "text/plain": [
       "<Figure size 1200x600 with 0 Axes>"
      ]
     },
     "metadata": {},
     "output_type": "display_data"
    },
    {
     "data": {
      "image/png": "[encoded data removed]",
      "text/plain": [
       "<Figure size 571.111x400 with 2 Axes>"
      ]
     },
     "metadata": {},
     "output_type": "display_data"
    },
    {
     "data": {
      "text/plain": [
       "<Figure size 1200x600 with 0 Axes>"
      ]
     },
     "metadata": {},
     "output_type": "display_data"
    },
    {
     "data": {
      "image/png": "[encoded data removed]",
      "text/plain": [
       "<Figure size 571.111x400 with 2 Axes>"
      ]
     },
     "metadata": {},
     "output_type": "display_data"
    },
    {
     "data": {
      "text/plain": [
       "<Figure size 1200x600 with 0 Axes>"
      ]
     },
     "metadata": {},
     "output_type": "display_data"
    },
    {
     "data": {
      "image/png": "[encoded data removed]",
      "text/plain": [
       "<Figure size 571.111x400 with 2 Axes>"
      ]
     },
     "metadata": {},
     "output_type": "display_data"
    }
   ],
   "source": [
    "for var in col:\n",
    "    plot_categorical_relationship(df=df_train,cat_var1=var,cat_var2='Survived')"
   ]
  },
  {
   "cell_type": "markdown",
   "metadata": {},
   "source": [
    "Ao analisar os dados de sobrevivência em relação às variáveis categóricas, é possível obter alguns insights:\n",
    "- **Classe Social**: A classe social influencia significativamente na sobrevivência. A primeira classe tem a maior probabilidade de sobrevivência, seguida da segunda e terceira.\n",
    "- **Sexo**: O sexo também influencia significativamente na sobrevivência. O sexo feminino tem maior probabilidade de sobrevivência que o sexo masculino.\n",
    "- **Local de Embarcação**: O local de embarcação aparenta uma ligeira diferença em relação à sobrevivência, sendo o embarque em Cherbourg o local com maior probabilidade de sobrevivência. No entanto, existem dúvidas em relação à causalidade. Seria interessante estudar melhor esta variável e validar se influencia a sobrevivência através do teste qui-quadrado.\n"
   ]
  },
  {
   "cell_type": "code",
   "execution_count": 15,
   "metadata": {},
   "outputs": [
    {
     "data": {
      "text/plain": [
       "<Figure size 1200x600 with 0 Axes>"
      ]
     },
     "metadata": {},
     "output_type": "display_data"
    },
    {
     "data": {
      "image/png": "[encoded data removed]",
      "text/plain": [
       "<Figure size 618.875x400 with 2 Axes>"
      ]
     },
     "metadata": {},
     "output_type": "display_data"
    }
   ],
   "source": [
    "# Será que a classe influencia na sobrevivência de acordo com o sexo?\n",
    "plot_categorical_relationship(df=df_train,cat_var1='Sex',cat_var2='Survived',hue='Pclass')"
   ]
  },
  {
   "cell_type": "markdown",
   "metadata": {},
   "source": [
    "Além do gênero, observou-se que a classe social também desempenha um papel significativo na probabilidade de sobrevivência. Passageiros das primeiras e segundas classes apresentam maiores chances de sobrevivência em comparação aos da terceira classe. Entre aqueles que sobreviveram, os homens têm uma probabilidade de sobrevivência inferior à das mulheres, mas ainda assim superior à dos passageiros do sexo masculino da terceira classe."
   ]
  },
  {
   "cell_type": "markdown",
   "metadata": {},
   "source": [
    "#### Teste do Qui-Quadrado\n",
    "\n",
    "O teste do Qui-Quadrado é uma ferramenta valiosa para analisar a relação entre variáveis categóricas e a variável alvo. \n",
    "\n",
    "Basicamente, a hipótese nula estabelece que as variáveis são estatisticamente independentes e não influenciam a variável alvo. Para testar essa hipótese, utiliza-se o valor de p (p-value). \n",
    "\n",
    "Se o p-value for menor que 0.05, podemos rejeitar a hipótese nula, indicando que há uma relação significativa entre a variável em questão e a variável alvo."
   ]
  },
  {
   "cell_type": "code",
   "execution_count": 16,
   "metadata": {},
   "outputs": [],
   "source": [
    "def chi_squared_test(df, target_variable):\n",
    "    \"\"\"\n",
    "    Realiza o teste do Qui-Quadrado para variáveis categóricas em relação à variável alvo.\n",
    "    \n",
    "    Parameters:\n",
    "        df (pd.DataFrame): DataFrame contendo as variáveis categóricas e a variável alvo.\n",
    "        target_variable (str): Nome da coluna da variável alvo categórica.\n",
    "        \n",
    "    Returns:\n",
    "        pd.Series: P-valores para cada variável independente em relação à variável alvo.\n",
    "    \"\"\"\n",
    "    # Cria uma cópia do DataFrame para evitar alterações no original\n",
    "    df_transform = df.copy()\n",
    "    \n",
    "    # Inicializa o LabelEncoder\n",
    "    labelencoder = LabelEncoder()\n",
    "    \n",
    "    # Loop por todas as colunas no DataFrame e aplica o LabelEncoder\n",
    "    for col in df_transform.columns:\n",
    "        df_transform[col] = labelencoder.fit_transform(df_transform[col])\n",
    "    \n",
    "    # Realiza o teste do Qui-Quadrado\n",
    "    chi2_values, p_values = chi2(df_transform.drop(columns=[target_variable]), df_transform[target_variable])\n",
    "    \n",
    "    # Cria um DataFrame com os p-valores\n",
    "    p_values_df = pd.Series(p_values, index=df_transform.drop(columns=[target_variable]).columns)\n",
    "    \n",
    "    return p_values_df\n"
   ]
  },
  {
   "cell_type": "code",
   "execution_count": 17,
   "metadata": {},
   "outputs": [
    {
     "name": "stdout",
     "output_type": "stream",
     "text": [
      "Sex         6.077838e-22\n",
      "Pclass      1.581715e-13\n",
      "Embarked    1.787913e-03\n",
      "dtype: float64\n"
     ]
    }
   ],
   "source": [
    "p_values = chi_squared_test(df_train[col+['Survived']], 'Survived')\n",
    "print(p_values)"
   ]
  },
  {
   "cell_type": "markdown",
   "metadata": {},
   "source": [
    "Com base na análise gráfica e na validação por meio do teste do Qui-Quadrado, concluímos que as variáveis ['Pclass', 'Sex', 'Embarked'] têm influência na sobrevivência e, portanto, serão incluídas na modelagem do problema."
   ]
  },
  {
   "cell_type": "markdown",
   "metadata": {},
   "source": [
    "#### Análise dos dados numéricos"
   ]
  },
  {
   "cell_type": "markdown",
   "metadata": {},
   "source": [
    "##### Distribuição"
   ]
  },
  {
   "cell_type": "code",
   "execution_count": 18,
   "metadata": {},
   "outputs": [],
   "source": [
    "def count_outliers(df, column):\n",
    "    \"\"\"\n",
    "    Conta o número de outliers em uma coluna utilizando o método IQR (Intervalo Interquartil).\n",
    "    \n",
    "    Parameters:\n",
    "        df (pd.DataFrame): DataFrame contendo os dados.\n",
    "        column (str): Nome da coluna para a qual contar os outliers.\n",
    "        \n",
    "    Returns:\n",
    "        int: Número de outliers encontrados.\n",
    "    \"\"\"\n",
    "    Q1 = df[column].quantile(0.25)\n",
    "    Q3 = df[column].quantile(0.75)\n",
    "    IQR = Q3 - Q1\n",
    "    \n",
    "    lower_bound = Q1 - 1.5 * IQR\n",
    "    upper_bound = Q3 + 1.5 * IQR\n",
    "    \n",
    "    return ((df[column] < lower_bound) | (df[column] > upper_bound)).sum()\n",
    "\n",
    "def plot_boxplots_with_outliers(df, columns):\n",
    "    \"\"\"\n",
    "    Plota boxplots para as colunas especificadas e exibe a contagem de outliers em cada gráfico.\n",
    "    \n",
    "    Parameters:\n",
    "        df (pd.DataFrame): DataFrame contendo os dados.\n",
    "        columns (list): Lista de colunas para plotar.\n",
    "    \"\"\"\n",
    "    # Cria subplots para os boxplots\n",
    "    fig, axes = plt.subplots(1, len(columns), figsize=(15, 5))\n",
    "\n",
    "    # Loop pelas colunas e cria boxplots\n",
    "    for ax, column in zip(axes, columns):\n",
    "        sns.boxplot(data=df, x=column, ax=ax)\n",
    "        outlier_count = count_outliers(df, column)\n",
    "        ax.set_title(f'{column} (Outliers: {outlier_count})')\n",
    "\n",
    "    plt.tight_layout()\n",
    "    plt.show()\n"
   ]
  },
  {
   "cell_type": "code",
   "execution_count": 19,
   "metadata": {},
   "outputs": [
    {
     "data": {
      "image/png": "[encoded data removed]",
      "text/plain": [
       "<Figure size 1500x500 with 4 Axes>"
      ]
     },
     "metadata": {},
     "output_type": "display_data"
    }
   ],
   "source": [
    "columns_to_analyze = ['Age', 'SibSp', 'Parch', 'Fare']\n",
    "plot_boxplots_with_outliers(df_train, columns_to_analyze)"
   ]
  },
  {
   "cell_type": "code",
   "execution_count": 20,
   "metadata": {},
   "outputs": [],
   "source": [
    "def count_outliers(df, column):\n",
    "    \"\"\"\n",
    "    Conta o número de outliers em uma coluna utilizando o método IQR (Intervalo Interquartil).\n",
    "    \n",
    "    Parameters:\n",
    "        df (pd.DataFrame): DataFrame contendo os dados.\n",
    "        column (str): Nome da coluna para a qual contar os outliers.\n",
    "        \n",
    "    Returns:\n",
    "        tuple: (número de outliers, limite inferior, limite superior)\n",
    "    \"\"\"\n",
    "    Q1 = df[column].quantile(0.25)\n",
    "    Q3 = df[column].quantile(0.75)\n",
    "    IQR = Q3 - Q1\n",
    "    \n",
    "    lower_bound = Q1 - 1.5 * IQR\n",
    "    upper_bound = Q3 + 1.5 * IQR\n",
    "    \n",
    "    outlier_count = ((df[column] < lower_bound) | (df[column] > upper_bound)).sum()\n",
    "    \n",
    "    return outlier_count, lower_bound, upper_bound\n",
    "\n"
   ]
  },
  {
   "cell_type": "code",
   "execution_count": 21,
   "metadata": {},
   "outputs": [],
   "source": [
    "def plot_boxplots_hist_kde(df, columns):\n",
    "    \"\"\"\n",
    "    Plota boxplots, histogramas e gráficos de densidade (KDE) para as colunas especificadas,\n",
    "    exibindo a contagem de outliers em cada gráfico.\n",
    "    \n",
    "    Parameters:\n",
    "        df (pd.DataFrame): DataFrame contendo os dados.\n",
    "        columns (list): Lista de colunas para plotar.\n",
    "    \"\"\"\n",
    "    # Cria subplots para os boxplots e histogramas\n",
    "    fig, axes = plt.subplots(len(columns), 2, figsize=(12, 5 * len(columns)))\n",
    "\n",
    "    # Loop pelas colunas e cria boxplots e histogramas\n",
    "    for i, column in enumerate(columns):\n",
    "        # Boxplot\n",
    "        sns.boxplot(data=df, x=column, ax=axes[i, 0])\n",
    "        outlier_count, lower_bound, upper_bound = count_outliers(df, column)\n",
    "        axes[i, 0].set_title(f'{column} (Outliers: {outlier_count})')\n",
    "\n",
    "        # Histograma e KDE\n",
    "        sns.histplot(data=df, x=column, kde=True, ax=axes[i, 1], bins=30)\n",
    "\n",
    "        # Adiciona linhas para limites de outliers no histograma\n",
    "        axes[i, 1].axvline(lower_bound, color='red', linestyle='dashed', linewidth=1.5, label='Limite Inferior')\n",
    "        axes[i, 1].axvline(upper_bound, color='green', linestyle='dashed', linewidth=1.5, label='Limite Superior')\n",
    "        \n",
    "        axes[i, 1].set_title(f'{column} - Histograma e KDE')\n",
    "        axes[i, 1].legend()\n",
    "\n",
    "        # Adiciona anotações para os limites no histograma\n",
    "        axes[i, 1].text(lower_bound, axes[i, 1].get_ylim()[1] * 0.9, 'Limite Inferior', color='red')\n",
    "        axes[i, 1].text(upper_bound, axes[i, 1].get_ylim()[1] * 0.9, 'Limite Superior', color='green')\n",
    "\n",
    "    plt.tight_layout()\n",
    "    plt.show()\n"
   ]
  },
  {
   "cell_type": "code",
   "execution_count": 22,
   "metadata": {},
   "outputs": [
    {
     "data": {
      "image/png": "[encoded data removed]",
      "text/plain": [
       "<Figure size 1200x2000 with 8 Axes>"
      ]
     },
     "metadata": {},
     "output_type": "display_data"
    }
   ],
   "source": [
    "columns_to_analyze = ['Age', 'SibSp', 'Parch', 'Fare']\n",
    "plot_boxplots_hist_kde(df_train, columns_to_analyze)"
   ]
  },
  {
   "cell_type": "markdown",
   "metadata": {},
   "source": [
    "Análise dos Dados\n",
    "\n",
    "- **Parch**: \n",
    "  - Indica que pode ser simplificado em uma variável categórica.\n",
    "  - Exemplos de categorias: \n",
    "    - Com filhos \n",
    "    - Com um filho \n",
    "    - Sem filhos\n",
    "\n",
    "- **Fare**: \n",
    "  - A maioria dos valores está concentrada em valores baixos.\n",
    "  - Pode representar a classe do passageiro.\n",
    "  - É necessário estudar como `Fare` se relaciona com as variáveis `Pclass` e `Survived`.\n",
    "\n",
    "- **SibSp**: \n",
    "  - Há uma concentração significativa de valores em `0`.\n",
    "  - Pode ser transformado em uma variável categórica.\n",
    "  - Exemplos de categorias:\n",
    "    - Sozinho\n",
    "    - Família pequena\n",
    "    - Família grande\n",
    "\n",
    "- **Age**: \n",
    "  - Apresenta variações que podem permitir a categorização.\n",
    "  - Sugestões de categorias:\n",
    "    - Criança\n",
    "    - Adolescente\n",
    "    - Adulto\n",
    "    - Idoso\n"
   ]
  },
  {
   "cell_type": "markdown",
   "metadata": {},
   "source": [
    "##### Correlação"
   ]
  },
  {
   "cell_type": "code",
   "execution_count": 23,
   "metadata": {},
   "outputs": [],
   "source": [
    "def plot_correlation_heatmap(df):\n",
    "    \"\"\"\n",
    "    Plota um mapa de calor da correlação entre variáveis numéricas no DataFrame.\n",
    "    \n",
    "    Parameters:\n",
    "        df (pd.DataFrame): DataFrame contendo os dados.\n",
    "    \"\"\"\n",
    "    # Calcula a correlação entre as variáveis numéricas\n",
    "    correlation_matrix = df.select_dtypes(include=['number']).corr()\n",
    "\n",
    "    # Cria o mapa de calor\n",
    "    plt.figure(figsize=(10, 8))\n",
    "    sns.heatmap(correlation_matrix, annot=True, cmap='coolwarm', fmt='.2f', square=True, cbar_kws={\"shrink\": .8})\n",
    "    plt.title('Correlação entre Variáveis Numéricas')\n",
    "    plt.show()"
   ]
  },
  {
   "cell_type": "code",
   "execution_count": 24,
   "metadata": {},
   "outputs": [
    {
     "data": {
      "image/png": "[encoded data removed]",
      "text/plain": [
       "<Figure size 1000x800 with 2 Axes>"
      ]
     },
     "metadata": {},
     "output_type": "display_data"
    }
   ],
   "source": [
    "plot_correlation_heatmap(df_train[['Age', 'SibSp', 'Parch','Fare']])\n"
   ]
  },
  {
   "cell_type": "code",
   "execution_count": 25,
   "metadata": {},
   "outputs": [],
   "source": [
    "def correlation_analysis(df, var1, var2, alpha=0.05):\n",
    "    \"\"\"\n",
    "    Calcula os coeficientes de correlação de Pearson e Spearman entre duas variáveis numéricas\n",
    "    e interpreta os resultados com base no nível de significância.\n",
    "\n",
    "    Parameters:\n",
    "        df (pd.DataFrame): O DataFrame que contém os dados.\n",
    "        var1 (str): Nome da primeira variável numérica.\n",
    "        var2 (str): Nome da segunda variável numérica.\n",
    "        alpha (float, opcional): Nível de significância para os testes. Padrão é 0.05.\n",
    "\n",
    "    Returns:\n",
    "        dict: Um dicionário contendo os coeficientes de correlação, p-valores e a interpretação.\n",
    "    \"\"\"\n",
    "    results = {}\n",
    "\n",
    "    # Coeficiente de Correlação de Pearson\n",
    "    pearson_corr, pearson_p_value = stats.pearsonr(df[var1], df[var2])\n",
    "    results['Pearson Correlation'] = pearson_corr\n",
    "    results['Pearson P-value'] = pearson_p_value\n",
    "\n",
    "    if pearson_p_value < alpha:\n",
    "        results['Pearson Test'] = \"Rejeita a hipótese nula: as variáveis não são independentes.\"\n",
    "    else:\n",
    "        results['Pearson Test'] = \"Não se rejeita a hipótese nula: as variáveis são independentes.\"\n",
    "\n",
    "    # Coeficiente de Correlação de Spearman\n",
    "    spearman_corr, spearman_p_value = stats.spearmanr(df[var1], df[var2])\n",
    "    results['Spearman Correlation'] = spearman_corr\n",
    "    results['Spearman P-value'] = spearman_p_value\n",
    "\n",
    "    if spearman_p_value < alpha:\n",
    "        results['Spearman Test'] = \"Rejeita a hipótese nula: as variáveis não são independentes.\"\n",
    "    else:\n",
    "        results['Spearman Test'] = \"Não se rejeita a hipótese nula: as variáveis são independentes.\"\n",
    "\n",
    "    return results"
   ]
  },
  {
   "cell_type": "code",
   "execution_count": 26,
   "metadata": {},
   "outputs": [
    {
     "name": "stdout",
     "output_type": "stream",
     "text": [
      "Pearson Correlation: 0.4148376986201561\n",
      "Pearson P-value: 2.2418236681408012e-38\n",
      "Pearson Test: Rejeita a hipótese nula: as variáveis não são independentes.\n",
      "Spearman Correlation: 0.4500139710086164\n",
      "Spearman P-value: 1.2260016340713908e-45\n",
      "Spearman Test: Rejeita a hipótese nula: as variáveis não são independentes.\n"
     ]
    }
   ],
   "source": [
    "results = correlation_analysis(df_train, 'SibSp', 'Parch')\n",
    "\n",
    "for key, value in results.items():\n",
    "    print(f\"{key}: {value}\")"
   ]
  },
  {
   "cell_type": "code",
   "execution_count": 27,
   "metadata": {},
   "outputs": [
    {
     "name": "stdout",
     "output_type": "stream",
     "text": [
      "Pearson Correlation: -0.3082467589236567\n",
      "Pearson P-value: 3.5090251937842507e-17\n",
      "Pearson Test: Rejeita a hipótese nula: as variáveis não são independentes.\n",
      "Spearman Correlation: -0.1820612589179174\n",
      "Spearman P-value: 9.717194149362118e-07\n",
      "Spearman Test: Rejeita a hipótese nula: as variáveis não são independentes.\n"
     ]
    }
   ],
   "source": [
    "results = correlation_analysis(df_train[df_train['Age'].notna()], 'SibSp', 'Age')\n",
    "\n",
    "for key, value in results.items():\n",
    "    print(f\"{key}: {value}\")"
   ]
  },
  {
   "cell_type": "code",
   "execution_count": 28,
   "metadata": {},
   "outputs": [
    {
     "name": "stdout",
     "output_type": "stream",
     "text": [
      "Pearson Correlation: -0.18911926263203496\n",
      "Pearson P-value: 3.569949388288717e-07\n",
      "Pearson Test: Rejeita a hipótese nula: as variáveis não são independentes.\n",
      "Spearman Correlation: -0.25421211743018024\n",
      "Spearman P-value: 5.408556597051214e-12\n",
      "Spearman Test: Rejeita a hipótese nula: as variáveis não são independentes.\n"
     ]
    }
   ],
   "source": [
    "results = correlation_analysis(df_train[df_train['Age'].notna()], 'Parch', 'Age')\n",
    "\n",
    "for key, value in results.items():\n",
    "    print(f\"{key}: {value}\")"
   ]
  },
  {
   "cell_type": "markdown",
   "metadata": {},
   "source": [
    "As variáveis ['Age','SibSp','Parch'] apresentam dependência."
   ]
  },
  {
   "cell_type": "markdown",
   "metadata": {},
   "source": [
    "## 3. Preparação dos Dados (Data Preparation)\n",
    "- **Seleção de Dados:** Escolher as colunas ou features que são relevantes para o problema, descartando as que não contribuem.\n",
    "- **Limpeza de Dados:** Tratar valores ausentes, duplicados, ou inconsistentes de maneira adequada (ex.: preenchimento, exclusão ou imputação).\n",
    "- **Transformação de Dados:** Realizar transformações nos dados, como codificação de variáveis categóricas (One-Hot Encoding), normalização ou padronização de variáveis numéricas.\n",
    "- **Criação de Novas Features (Feature Engineering):** Criar novas variáveis ou transformar variáveis existentes para melhor representar o problema (ex.: combinação de variáveis, transformação de colunas temporais, categorias de idade)."
   ]
  },
  {
   "cell_type": "markdown",
   "metadata": {},
   "source": [
    "### Seleção de Dados"
   ]
  },
  {
   "cell_type": "code",
   "execution_count": 29,
   "metadata": {},
   "outputs": [],
   "source": [
    "# - Name, PassengerId, Ticket and Cabin aren't important for causal effects and can be removed.\n",
    "# Drop the columns from the DataFrame\n",
    "df_train.drop(columns=['Name','Ticket','Cabin_l','Cabin_n','Cabin'], inplace=True)"
   ]
  },
  {
   "cell_type": "markdown",
   "metadata": {},
   "source": [
    "### Limpeza de Dados"
   ]
  },
  {
   "cell_type": "markdown",
   "metadata": {},
   "source": [
    "Os outliers não serão removidos"
   ]
  },
  {
   "cell_type": "code",
   "execution_count": 30,
   "metadata": {},
   "outputs": [
    {
     "name": "stdout",
     "output_type": "stream",
     "text": [
      "Moda: S\n",
      "\n"
     ]
    },
    {
     "data": {
      "text/plain": [
       "np.int64(0)"
      ]
     },
     "execution_count": 30,
     "metadata": {},
     "output_type": "execute_result"
    }
   ],
   "source": [
    "# A moda é um valor representativo relacionado ao local de embarque. Como há apenas alguns dados ausentes, vamos preencher os valores nulos com a moda.\n",
    "\n",
    "moda_embarked = df_train['Embarked'].mode()[0]\n",
    "print(f'Moda: {moda_embarked}\\n')\n",
    "# Preencher os valores nulos com a moda\n",
    "df_train['Embarked'] = df_train['Embarked'].fillna(moda_embarked)\n",
    "df_train['Embarked'].isna().sum()"
   ]
  },
  {
   "cell_type": "code",
   "execution_count": 31,
   "metadata": {},
   "outputs": [
    {
     "name": "stdout",
     "output_type": "stream",
     "text": [
      "Mediana: 29.69911764705882\n",
      "\n"
     ]
    },
    {
     "data": {
      "text/plain": [
       "np.int64(0)"
      ]
     },
     "execution_count": 31,
     "metadata": {},
     "output_type": "execute_result"
    }
   ],
   "source": [
    "# A mediana em relação a idade, pode ser representativo\n",
    "\n",
    "mediana_idade = df_train['Age'].mean()\n",
    "print(f'Mediana: {mediana_idade}\\n')\n",
    "\n",
    "# Preencher os valores nulos com a mediana\n",
    "df_train['Age'] = df_train['Age'].fillna(mediana_idade)\n",
    "df_train['Age'].isna().sum()"
   ]
  },
  {
   "cell_type": "code",
   "execution_count": 32,
   "metadata": {},
   "outputs": [],
   "source": [
    "def show_mode_and_median(df: pd.DataFrame):\n",
    "    \"\"\"\n",
    "    Mostra a moda e a mediana de todas as colunas em um DataFrame.\n",
    "    \n",
    "    Parâmetros:\n",
    "        df (pd.DataFrame): DataFrame contendo os dados.\n",
    "        \n",
    "    Retorna:\n",
    "        None: Exibe os resultados no console.\n",
    "    \"\"\"\n",
    "    print(\"Resumo de Moda e Mediana por Coluna:\\n\")\n",
    "    \n",
    "    for column in df.columns:\n",
    "        print(f\"Coluna: {column}\")\n",
    "        \n",
    "        # Moda\n",
    "        mode = df[column].mode()\n",
    "        if not mode.empty:\n",
    "            print(f\"  Moda: {', '.join(map(str, mode.tolist()))}\")\n",
    "        else:\n",
    "            print(\"  Moda: Nenhuma (coluna vazia)\")\n",
    "        \n",
    "        # Mediana (somente para colunas numéricas)\n",
    "        if pd.api.types.is_numeric_dtype(df[column]):\n",
    "            median = df[column].median()\n",
    "            print(f\"  Mediana: {median}\")\n",
    "        else:\n",
    "            print(\"  Mediana: Não aplicável para colunas não numéricas\")\n",
    "        \n",
    "        print(\"-\" * 40)"
   ]
  },
  {
   "cell_type": "code",
   "execution_count": 33,
   "metadata": {},
   "outputs": [
    {
     "name": "stdout",
     "output_type": "stream",
     "text": [
      "Resumo de Moda e Mediana por Coluna:\n",
      "\n",
      "Coluna: PassengerId\n",
      "  Moda: 1, 2, 3, 4, 5, 6, 7, 8, 9, 10, 11, 12, 13, 14, 15, 16, 17, 18, 19, 20, 21, 22, 23, 24, 25, 26, 27, 28, 29, 30, 31, 32, 33, 34, 35, 36, 37, 38, 39, 40, 41, 42, 43, 44, 45, 46, 47, 48, 49, 50, 51, 52, 53, 54, 55, 56, 57, 58, 59, 60, 61, 62, 63, 64, 65, 66, 67, 68, 69, 70, 71, 72, 73, 74, 75, 76, 77, 78, 79, 80, 81, 82, 83, 84, 85, 86, 87, 88, 89, 90, 91, 92, 93, 94, 95, 96, 97, 98, 99, 100, 101, 102, 103, 104, 105, 106, 107, 108, 109, 110, 111, 112, 113, 114, 115, 116, 117, 118, 119, 120, 121, 122, 123, 124, 125, 126, 127, 128, 129, 130, 131, 132, 133, 134, 135, 136, 137, 138, 139, 140, 141, 142, 143, 144, 145, 146, 147, 148, 149, 150, 151, 152, 153, 154, 155, 156, 157, 158, 159, 160, 161, 162, 163, 164, 165, 166, 167, 168, 169, 170, 171, 172, 173, 174, 175, 176, 177, 178, 179, 180, 181, 182, 183, 184, 185, 186, 187, 188, 189, 190, 191, 192, 193, 194, 195, 196, 197, 198, 199, 200, 201, 202, 203, 204, 205, 206, 207, 208, 209, 210, 211, 212, 213, 214, 215, 216, 217, 218, 219, 220, 221, 222, 223, 224, 225, 226, 227, 228, 229, 230, 231, 232, 233, 234, 235, 236, 237, 238, 239, 240, 241, 242, 243, 244, 245, 246, 247, 248, 249, 250, 251, 252, 253, 254, 255, 256, 257, 258, 259, 260, 261, 262, 263, 264, 265, 266, 267, 268, 269, 270, 271, 272, 273, 274, 275, 276, 277, 278, 279, 280, 281, 282, 283, 284, 285, 286, 287, 288, 289, 290, 291, 292, 293, 294, 295, 296, 297, 298, 299, 300, 301, 302, 303, 304, 305, 306, 307, 308, 309, 310, 311, 312, 313, 314, 315, 316, 317, 318, 319, 320, 321, 322, 323, 324, 325, 326, 327, 328, 329, 330, 331, 332, 333, 334, 335, 336, 337, 338, 339, 340, 341, 342, 343, 344, 345, 346, 347, 348, 349, 350, 351, 352, 353, 354, 355, 356, 357, 358, 359, 360, 361, 362, 363, 364, 365, 366, 367, 368, 369, 370, 371, 372, 373, 374, 375, 376, 377, 378, 379, 380, 381, 382, 383, 384, 385, 386, 387, 388, 389, 390, 391, 392, 393, 394, 395, 396, 397, 398, 399, 400, 401, 402, 403, 404, 405, 406, 407, 408, 409, 410, 411, 412, 413, 414, 415, 416, 417, 418, 419, 420, 421, 422, 423, 424, 425, 426, 427, 428, 429, 430, 431, 432, 433, 434, 435, 436, 437, 438, 439, 440, 441, 442, 443, 444, 445, 446, 447, 448, 449, 450, 451, 452, 453, 454, 455, 456, 457, 458, 459, 460, 461, 462, 463, 464, 465, 466, 467, 468, 469, 470, 471, 472, 473, 474, 475, 476, 477, 478, 479, 480, 481, 482, 483, 484, 485, 486, 487, 488, 489, 490, 491, 492, 493, 494, 495, 496, 497, 498, 499, 500, 501, 502, 503, 504, 505, 506, 507, 508, 509, 510, 511, 512, 513, 514, 515, 516, 517, 518, 519, 520, 521, 522, 523, 524, 525, 526, 527, 528, 529, 530, 531, 532, 533, 534, 535, 536, 537, 538, 539, 540, 541, 542, 543, 544, 545, 546, 547, 548, 549, 550, 551, 552, 553, 554, 555, 556, 557, 558, 559, 560, 561, 562, 563, 564, 565, 566, 567, 568, 569, 570, 571, 572, 573, 574, 575, 576, 577, 578, 579, 580, 581, 582, 583, 584, 585, 586, 587, 588, 589, 590, 591, 592, 593, 594, 595, 596, 597, 598, 599, 600, 601, 602, 603, 604, 605, 606, 607, 608, 609, 610, 611, 612, 613, 614, 615, 616, 617, 618, 619, 620, 621, 622, 623, 624, 625, 626, 627, 628, 629, 630, 631, 632, 633, 634, 635, 636, 637, 638, 639, 640, 641, 642, 643, 644, 645, 646, 647, 648, 649, 650, 651, 652, 653, 654, 655, 656, 657, 658, 659, 660, 661, 662, 663, 664, 665, 666, 667, 668, 669, 670, 671, 672, 673, 674, 675, 676, 677, 678, 679, 680, 681, 682, 683, 684, 685, 686, 687, 688, 689, 690, 691, 692, 693, 694, 695, 696, 697, 698, 699, 700, 701, 702, 703, 704, 705, 706, 707, 708, 709, 710, 711, 712, 713, 714, 715, 716, 717, 718, 719, 720, 721, 722, 723, 724, 725, 726, 727, 728, 729, 730, 731, 732, 733, 734, 735, 736, 737, 738, 739, 740, 741, 742, 743, 744, 745, 746, 747, 748, 749, 750, 751, 752, 753, 754, 755, 756, 757, 758, 759, 760, 761, 762, 763, 764, 765, 766, 767, 768, 769, 770, 771, 772, 773, 774, 775, 776, 777, 778, 779, 780, 781, 782, 783, 784, 785, 786, 787, 788, 789, 790, 791, 792, 793, 794, 795, 796, 797, 798, 799, 800, 801, 802, 803, 804, 805, 806, 807, 808, 809, 810, 811, 812, 813, 814, 815, 816, 817, 818, 819, 820, 821, 822, 823, 824, 825, 826, 827, 828, 829, 830, 831, 832, 833, 834, 835, 836, 837, 838, 839, 840, 841, 842, 843, 844, 845, 846, 847, 848, 849, 850, 851, 852, 853, 854, 855, 856, 857, 858, 859, 860, 861, 862, 863, 864, 865, 866, 867, 868, 869, 870, 871, 872, 873, 874, 875, 876, 877, 878, 879, 880, 881, 882, 883, 884, 885, 886, 887, 888, 889, 890, 891\n",
      "  Mediana: 446.0\n",
      "----------------------------------------\n",
      "Coluna: Survived\n",
      "  Moda: 0\n",
      "  Mediana: 0.0\n",
      "----------------------------------------\n",
      "Coluna: Pclass\n",
      "  Moda: 3\n",
      "  Mediana: 3.0\n",
      "----------------------------------------\n",
      "Coluna: Sex\n",
      "  Moda: male\n",
      "  Mediana: Não aplicável para colunas não numéricas\n",
      "----------------------------------------\n",
      "Coluna: Age\n",
      "  Moda: 29.69911764705882\n",
      "  Mediana: 29.69911764705882\n",
      "----------------------------------------\n",
      "Coluna: SibSp\n",
      "  Moda: 0\n",
      "  Mediana: 0.0\n",
      "----------------------------------------\n",
      "Coluna: Parch\n",
      "  Moda: 0\n",
      "  Mediana: 0.0\n",
      "----------------------------------------\n",
      "Coluna: Fare\n",
      "  Moda: 8.05\n",
      "  Mediana: 14.4542\n",
      "----------------------------------------\n",
      "Coluna: Embarked\n",
      "  Moda: S\n",
      "  Mediana: Não aplicável para colunas não numéricas\n",
      "----------------------------------------\n"
     ]
    }
   ],
   "source": [
    "show_mode_and_median(df_train)"
   ]
  },
  {
   "cell_type": "code",
   "execution_count": 34,
   "metadata": {},
   "outputs": [],
   "source": [
    "# Remoção de dados duplicados para balancear o modelo\n",
    "df_train.drop_duplicates(inplace=True)"
   ]
  },
  {
   "cell_type": "markdown",
   "metadata": {},
   "source": [
    "### Transformação de Dados"
   ]
  },
  {
   "cell_type": "code",
   "execution_count": 35,
   "metadata": {},
   "outputs": [
    {
     "name": "stdout",
     "output_type": "stream",
     "text": [
      "<class 'pandas.core.frame.DataFrame'>\n",
      "RangeIndex: 891 entries, 0 to 890\n",
      "Data columns (total 9 columns):\n",
      " #   Column       Non-Null Count  Dtype  \n",
      "---  ------       --------------  -----  \n",
      " 0   PassengerId  891 non-null    int64  \n",
      " 1   Survived     891 non-null    int64  \n",
      " 2   Pclass       891 non-null    int64  \n",
      " 3   Sex          891 non-null    object \n",
      " 4   Age          891 non-null    float64\n",
      " 5   SibSp        891 non-null    int64  \n",
      " 6   Parch        891 non-null    int64  \n",
      " 7   Fare         891 non-null    float64\n",
      " 8   Embarked     891 non-null    object \n",
      "dtypes: float64(2), int64(5), object(2)\n",
      "memory usage: 62.8+ KB\n"
     ]
    }
   ],
   "source": [
    "df_train.info()"
   ]
  },
  {
   "cell_type": "code",
   "execution_count": 36,
   "metadata": {},
   "outputs": [],
   "source": [
    "# Variaveis de entrada\n",
    "df_train['Pclass'] = df_train['Pclass'].astype('category')\n",
    "df_train['Embarked'] = df_train['Embarked'].astype('category')\n",
    "df_train['Sex'] = df_train['Sex'].astype('category')\n",
    "df_train['Age'] = df_train['Age'].astype(int)\n",
    "df_train['SibSp'] = df_train['SibSp'].astype(int)\n",
    "df_train['Parch'] = df_train['Parch'].astype(int)\n",
    "df_train['Fare'] = df_train['Fare'].astype(float)"
   ]
  },
  {
   "cell_type": "code",
   "execution_count": 37,
   "metadata": {},
   "outputs": [],
   "source": [
    "# Variaveis de saída\n",
    "df_train['PassengerId'] = df_train['PassengerId'].astype(str)\n",
    "df_train['Survived'] = df_train['Survived'].astype('category')"
   ]
  },
  {
   "cell_type": "markdown",
   "metadata": {},
   "source": [
    "### Feature Engineering"
   ]
  },
  {
   "cell_type": "markdown",
   "metadata": {},
   "source": [
    "#### Transformando Idade em Categorias\n",
    "\n",
    "- **Age**: \n",
    "  - Apresenta variações que podem permitir a categorização.\n",
    "  - Sugestões de categorias:\n",
    "    - Criança\n",
    "    - Adolescente\n",
    "    - Adulto\n",
    "    - Meia idade\n",
    "    - Idoso"
   ]
  },
  {
   "cell_type": "code",
   "execution_count": 38,
   "metadata": {},
   "outputs": [
    {
     "data": {
      "text/html": [
       "<div>\n",
       "<style scoped>\n",
       "    .dataframe tbody tr th:only-of-type {\n",
       "        vertical-align: middle;\n",
       "    }\n",
       "\n",
       "    .dataframe tbody tr th {\n",
       "        vertical-align: top;\n",
       "    }\n",
       "\n",
       "    .dataframe thead th {\n",
       "        text-align: right;\n",
       "    }\n",
       "</style>\n",
       "<table border=\"1\" class=\"dataframe\">\n",
       "  <thead>\n",
       "    <tr style=\"text-align: right;\">\n",
       "      <th></th>\n",
       "      <th>PassengerId</th>\n",
       "      <th>Survived</th>\n",
       "      <th>Pclass</th>\n",
       "      <th>Sex</th>\n",
       "      <th>Age</th>\n",
       "      <th>SibSp</th>\n",
       "      <th>Parch</th>\n",
       "      <th>Fare</th>\n",
       "      <th>Embarked</th>\n",
       "      <th>Age Group</th>\n",
       "    </tr>\n",
       "  </thead>\n",
       "  <tbody>\n",
       "    <tr>\n",
       "      <th>0</th>\n",
       "      <td>1</td>\n",
       "      <td>0</td>\n",
       "      <td>3</td>\n",
       "      <td>male</td>\n",
       "      <td>22</td>\n",
       "      <td>1</td>\n",
       "      <td>0</td>\n",
       "      <td>7.2500</td>\n",
       "      <td>S</td>\n",
       "      <td>Adulto Jovem</td>\n",
       "    </tr>\n",
       "    <tr>\n",
       "      <th>1</th>\n",
       "      <td>2</td>\n",
       "      <td>1</td>\n",
       "      <td>1</td>\n",
       "      <td>female</td>\n",
       "      <td>38</td>\n",
       "      <td>1</td>\n",
       "      <td>0</td>\n",
       "      <td>71.2833</td>\n",
       "      <td>C</td>\n",
       "      <td>Adulto Jovem</td>\n",
       "    </tr>\n",
       "    <tr>\n",
       "      <th>2</th>\n",
       "      <td>3</td>\n",
       "      <td>1</td>\n",
       "      <td>3</td>\n",
       "      <td>female</td>\n",
       "      <td>26</td>\n",
       "      <td>0</td>\n",
       "      <td>0</td>\n",
       "      <td>7.9250</td>\n",
       "      <td>S</td>\n",
       "      <td>Adulto Jovem</td>\n",
       "    </tr>\n",
       "    <tr>\n",
       "      <th>3</th>\n",
       "      <td>4</td>\n",
       "      <td>1</td>\n",
       "      <td>1</td>\n",
       "      <td>female</td>\n",
       "      <td>35</td>\n",
       "      <td>1</td>\n",
       "      <td>0</td>\n",
       "      <td>53.1000</td>\n",
       "      <td>S</td>\n",
       "      <td>Adulto Jovem</td>\n",
       "    </tr>\n",
       "    <tr>\n",
       "      <th>4</th>\n",
       "      <td>5</td>\n",
       "      <td>0</td>\n",
       "      <td>3</td>\n",
       "      <td>male</td>\n",
       "      <td>35</td>\n",
       "      <td>0</td>\n",
       "      <td>0</td>\n",
       "      <td>8.0500</td>\n",
       "      <td>S</td>\n",
       "      <td>Adulto Jovem</td>\n",
       "    </tr>\n",
       "  </tbody>\n",
       "</table>\n",
       "</div>"
      ],
      "text/plain": [
       "  PassengerId Survived Pclass     Sex  Age  SibSp  Parch     Fare Embarked  \\\n",
       "0           1        0      3    male   22      1      0   7.2500        S   \n",
       "1           2        1      1  female   38      1      0  71.2833        C   \n",
       "2           3        1      3  female   26      0      0   7.9250        S   \n",
       "3           4        1      1  female   35      1      0  53.1000        S   \n",
       "4           5        0      3    male   35      0      0   8.0500        S   \n",
       "\n",
       "      Age Group  \n",
       "0  Adulto Jovem  \n",
       "1  Adulto Jovem  \n",
       "2  Adulto Jovem  \n",
       "3  Adulto Jovem  \n",
       "4  Adulto Jovem  "
      ]
     },
     "execution_count": 38,
     "metadata": {},
     "output_type": "execute_result"
    }
   ],
   "source": [
    "# Definindo os bins e as labels\n",
    "bins = [-1, 12, 19, 39, 64, float('inf')]\n",
    "labels = ['Criança', 'Adolescente', 'Adulto Jovem', 'Adulto Meia Idade', 'Idoso']\n",
    "\n",
    "# Categorizar a coluna 'Age'\n",
    "df_train['Age Group'] = pd.cut(df_train['Age'], bins=bins, labels=labels)\n",
    "df_train.head()"
   ]
  },
  {
   "cell_type": "markdown",
   "metadata": {},
   "source": [
    "#### Transformando SibSp em categorias\n",
    "\n",
    "\n",
    "- **SibSp**: \n",
    "  - Há uma concentração significativa de valores em `0`.\n",
    "  - Pode ser transformado em uma variável categórica.\n",
    "  - Exemplos de categorias:\n",
    "    - Sozinho\n",
    "    - Família pequena\n",
    "    - Família grande"
   ]
  },
  {
   "cell_type": "code",
   "execution_count": 39,
   "metadata": {},
   "outputs": [
    {
     "data": {
      "text/html": [
       "<div>\n",
       "<style scoped>\n",
       "    .dataframe tbody tr th:only-of-type {\n",
       "        vertical-align: middle;\n",
       "    }\n",
       "\n",
       "    .dataframe tbody tr th {\n",
       "        vertical-align: top;\n",
       "    }\n",
       "\n",
       "    .dataframe thead th {\n",
       "        text-align: right;\n",
       "    }\n",
       "</style>\n",
       "<table border=\"1\" class=\"dataframe\">\n",
       "  <thead>\n",
       "    <tr style=\"text-align: right;\">\n",
       "      <th></th>\n",
       "      <th>PassengerId</th>\n",
       "      <th>Survived</th>\n",
       "      <th>Pclass</th>\n",
       "      <th>Sex</th>\n",
       "      <th>Age</th>\n",
       "      <th>SibSp</th>\n",
       "      <th>Parch</th>\n",
       "      <th>Fare</th>\n",
       "      <th>Embarked</th>\n",
       "      <th>Age Group</th>\n",
       "      <th>SibSp Group</th>\n",
       "    </tr>\n",
       "  </thead>\n",
       "  <tbody>\n",
       "    <tr>\n",
       "      <th>0</th>\n",
       "      <td>1</td>\n",
       "      <td>0</td>\n",
       "      <td>3</td>\n",
       "      <td>male</td>\n",
       "      <td>22</td>\n",
       "      <td>1</td>\n",
       "      <td>0</td>\n",
       "      <td>7.2500</td>\n",
       "      <td>S</td>\n",
       "      <td>Adulto Jovem</td>\n",
       "      <td>Família pequena</td>\n",
       "    </tr>\n",
       "    <tr>\n",
       "      <th>1</th>\n",
       "      <td>2</td>\n",
       "      <td>1</td>\n",
       "      <td>1</td>\n",
       "      <td>female</td>\n",
       "      <td>38</td>\n",
       "      <td>1</td>\n",
       "      <td>0</td>\n",
       "      <td>71.2833</td>\n",
       "      <td>C</td>\n",
       "      <td>Adulto Jovem</td>\n",
       "      <td>Família pequena</td>\n",
       "    </tr>\n",
       "    <tr>\n",
       "      <th>2</th>\n",
       "      <td>3</td>\n",
       "      <td>1</td>\n",
       "      <td>3</td>\n",
       "      <td>female</td>\n",
       "      <td>26</td>\n",
       "      <td>0</td>\n",
       "      <td>0</td>\n",
       "      <td>7.9250</td>\n",
       "      <td>S</td>\n",
       "      <td>Adulto Jovem</td>\n",
       "      <td>Sozinho</td>\n",
       "    </tr>\n",
       "    <tr>\n",
       "      <th>3</th>\n",
       "      <td>4</td>\n",
       "      <td>1</td>\n",
       "      <td>1</td>\n",
       "      <td>female</td>\n",
       "      <td>35</td>\n",
       "      <td>1</td>\n",
       "      <td>0</td>\n",
       "      <td>53.1000</td>\n",
       "      <td>S</td>\n",
       "      <td>Adulto Jovem</td>\n",
       "      <td>Família pequena</td>\n",
       "    </tr>\n",
       "    <tr>\n",
       "      <th>4</th>\n",
       "      <td>5</td>\n",
       "      <td>0</td>\n",
       "      <td>3</td>\n",
       "      <td>male</td>\n",
       "      <td>35</td>\n",
       "      <td>0</td>\n",
       "      <td>0</td>\n",
       "      <td>8.0500</td>\n",
       "      <td>S</td>\n",
       "      <td>Adulto Jovem</td>\n",
       "      <td>Sozinho</td>\n",
       "    </tr>\n",
       "  </tbody>\n",
       "</table>\n",
       "</div>"
      ],
      "text/plain": [
       "  PassengerId Survived Pclass     Sex  Age  SibSp  Parch     Fare Embarked  \\\n",
       "0           1        0      3    male   22      1      0   7.2500        S   \n",
       "1           2        1      1  female   38      1      0  71.2833        C   \n",
       "2           3        1      3  female   26      0      0   7.9250        S   \n",
       "3           4        1      1  female   35      1      0  53.1000        S   \n",
       "4           5        0      3    male   35      0      0   8.0500        S   \n",
       "\n",
       "      Age Group      SibSp Group  \n",
       "0  Adulto Jovem  Família pequena  \n",
       "1  Adulto Jovem  Família pequena  \n",
       "2  Adulto Jovem          Sozinho  \n",
       "3  Adulto Jovem  Família pequena  \n",
       "4  Adulto Jovem          Sozinho  "
      ]
     },
     "execution_count": 39,
     "metadata": {},
     "output_type": "execute_result"
    }
   ],
   "source": [
    "# Definindo os bins e as labels\n",
    "bins = [-1, 0, 2, float('inf')]\n",
    "labels = ['Sozinho', 'Família pequena', 'Família grande']\n",
    "\n",
    "# Categorizar a coluna 'Age'\n",
    "df_train['SibSp Group'] = pd.cut(df_train['SibSp'], bins=bins, labels=labels)\n",
    "df_train.head()"
   ]
  },
  {
   "cell_type": "markdown",
   "metadata": {},
   "source": [
    "#### Transformando Parch em categorias\n",
    "\n",
    "\n",
    "- **Parch**: \n",
    "  - Indica que pode ser simplificado em uma variável categórica.\n",
    "  - Exemplos de categorias: \n",
    "    - Com filhos \n",
    "    - Com um filho \n",
    "    - Sem filhos"
   ]
  },
  {
   "cell_type": "code",
   "execution_count": 40,
   "metadata": {},
   "outputs": [
    {
     "data": {
      "text/html": [
       "<div>\n",
       "<style scoped>\n",
       "    .dataframe tbody tr th:only-of-type {\n",
       "        vertical-align: middle;\n",
       "    }\n",
       "\n",
       "    .dataframe tbody tr th {\n",
       "        vertical-align: top;\n",
       "    }\n",
       "\n",
       "    .dataframe thead th {\n",
       "        text-align: right;\n",
       "    }\n",
       "</style>\n",
       "<table border=\"1\" class=\"dataframe\">\n",
       "  <thead>\n",
       "    <tr style=\"text-align: right;\">\n",
       "      <th></th>\n",
       "      <th>PassengerId</th>\n",
       "      <th>Survived</th>\n",
       "      <th>Pclass</th>\n",
       "      <th>Sex</th>\n",
       "      <th>Age</th>\n",
       "      <th>SibSp</th>\n",
       "      <th>Parch</th>\n",
       "      <th>Fare</th>\n",
       "      <th>Embarked</th>\n",
       "      <th>Age Group</th>\n",
       "      <th>SibSp Group</th>\n",
       "      <th>Parch Group</th>\n",
       "    </tr>\n",
       "  </thead>\n",
       "  <tbody>\n",
       "    <tr>\n",
       "      <th>0</th>\n",
       "      <td>1</td>\n",
       "      <td>0</td>\n",
       "      <td>3</td>\n",
       "      <td>male</td>\n",
       "      <td>22</td>\n",
       "      <td>1</td>\n",
       "      <td>0</td>\n",
       "      <td>7.2500</td>\n",
       "      <td>S</td>\n",
       "      <td>Adulto Jovem</td>\n",
       "      <td>Família pequena</td>\n",
       "      <td>Sem filhos</td>\n",
       "    </tr>\n",
       "    <tr>\n",
       "      <th>1</th>\n",
       "      <td>2</td>\n",
       "      <td>1</td>\n",
       "      <td>1</td>\n",
       "      <td>female</td>\n",
       "      <td>38</td>\n",
       "      <td>1</td>\n",
       "      <td>0</td>\n",
       "      <td>71.2833</td>\n",
       "      <td>C</td>\n",
       "      <td>Adulto Jovem</td>\n",
       "      <td>Família pequena</td>\n",
       "      <td>Sem filhos</td>\n",
       "    </tr>\n",
       "    <tr>\n",
       "      <th>2</th>\n",
       "      <td>3</td>\n",
       "      <td>1</td>\n",
       "      <td>3</td>\n",
       "      <td>female</td>\n",
       "      <td>26</td>\n",
       "      <td>0</td>\n",
       "      <td>0</td>\n",
       "      <td>7.9250</td>\n",
       "      <td>S</td>\n",
       "      <td>Adulto Jovem</td>\n",
       "      <td>Sozinho</td>\n",
       "      <td>Sem filhos</td>\n",
       "    </tr>\n",
       "    <tr>\n",
       "      <th>3</th>\n",
       "      <td>4</td>\n",
       "      <td>1</td>\n",
       "      <td>1</td>\n",
       "      <td>female</td>\n",
       "      <td>35</td>\n",
       "      <td>1</td>\n",
       "      <td>0</td>\n",
       "      <td>53.1000</td>\n",
       "      <td>S</td>\n",
       "      <td>Adulto Jovem</td>\n",
       "      <td>Família pequena</td>\n",
       "      <td>Sem filhos</td>\n",
       "    </tr>\n",
       "    <tr>\n",
       "      <th>4</th>\n",
       "      <td>5</td>\n",
       "      <td>0</td>\n",
       "      <td>3</td>\n",
       "      <td>male</td>\n",
       "      <td>35</td>\n",
       "      <td>0</td>\n",
       "      <td>0</td>\n",
       "      <td>8.0500</td>\n",
       "      <td>S</td>\n",
       "      <td>Adulto Jovem</td>\n",
       "      <td>Sozinho</td>\n",
       "      <td>Sem filhos</td>\n",
       "    </tr>\n",
       "  </tbody>\n",
       "</table>\n",
       "</div>"
      ],
      "text/plain": [
       "  PassengerId Survived Pclass     Sex  Age  SibSp  Parch     Fare Embarked  \\\n",
       "0           1        0      3    male   22      1      0   7.2500        S   \n",
       "1           2        1      1  female   38      1      0  71.2833        C   \n",
       "2           3        1      3  female   26      0      0   7.9250        S   \n",
       "3           4        1      1  female   35      1      0  53.1000        S   \n",
       "4           5        0      3    male   35      0      0   8.0500        S   \n",
       "\n",
       "      Age Group      SibSp Group Parch Group  \n",
       "0  Adulto Jovem  Família pequena  Sem filhos  \n",
       "1  Adulto Jovem  Família pequena  Sem filhos  \n",
       "2  Adulto Jovem          Sozinho  Sem filhos  \n",
       "3  Adulto Jovem  Família pequena  Sem filhos  \n",
       "4  Adulto Jovem          Sozinho  Sem filhos  "
      ]
     },
     "execution_count": 40,
     "metadata": {},
     "output_type": "execute_result"
    }
   ],
   "source": [
    "# Definindo os bins e as labels\n",
    "bins = [-1, 0, 1, float('inf')]\n",
    "labels = ['Sem filhos', 'Com um filho', 'Com filhos']\n",
    "\n",
    "# Categorizar a coluna 'Age'\n",
    "df_train['Parch Group'] = pd.cut(df_train['Parch'], bins=bins, labels=labels)\n",
    "df_train.head()"
   ]
  },
  {
   "cell_type": "code",
   "execution_count": 41,
   "metadata": {},
   "outputs": [
    {
     "name": "stdout",
     "output_type": "stream",
     "text": [
      "<class 'pandas.core.frame.DataFrame'>\n",
      "RangeIndex: 891 entries, 0 to 890\n",
      "Data columns (total 12 columns):\n",
      " #   Column       Non-Null Count  Dtype   \n",
      "---  ------       --------------  -----   \n",
      " 0   PassengerId  891 non-null    object  \n",
      " 1   Survived     891 non-null    category\n",
      " 2   Pclass       891 non-null    category\n",
      " 3   Sex          891 non-null    category\n",
      " 4   Age          891 non-null    int64   \n",
      " 5   SibSp        891 non-null    int64   \n",
      " 6   Parch        891 non-null    int64   \n",
      " 7   Fare         891 non-null    float64 \n",
      " 8   Embarked     891 non-null    category\n",
      " 9   Age Group    891 non-null    category\n",
      " 10  SibSp Group  891 non-null    category\n",
      " 11  Parch Group  891 non-null    category\n",
      "dtypes: category(7), float64(1), int64(3), object(1)\n",
      "memory usage: 42.0+ KB\n"
     ]
    }
   ],
   "source": [
    "df_train.info()"
   ]
  },
  {
   "cell_type": "code",
   "execution_count": 42,
   "metadata": {},
   "outputs": [
    {
     "data": {
      "text/plain": [
       "['Survived',\n",
       " 'Pclass',\n",
       " 'Sex',\n",
       " 'Embarked',\n",
       " 'Age Group',\n",
       " 'SibSp Group',\n",
       " 'Parch Group']"
      ]
     },
     "execution_count": 42,
     "metadata": {},
     "output_type": "execute_result"
    }
   ],
   "source": [
    "# Aplicar LabelEncoder em cada coluna categórica\n",
    "categorical_columns = df_train.select_dtypes(include=['category']).columns.tolist()\n",
    "categorical_columns"
   ]
  },
  {
   "cell_type": "code",
   "execution_count": 43,
   "metadata": {},
   "outputs": [],
   "source": [
    "# Inicializar o LabelEncoder\n",
    "label_encoder = LabelEncoder()\n",
    "\n",
    "for column in categorical_columns:\n",
    "    df_train[column] = label_encoder.fit_transform(df_train[column].astype(str))"
   ]
  },
  {
   "cell_type": "markdown",
   "metadata": {},
   "source": [
    "## 4. Modelagem (Modeling)\n",
    "- **Seleção de Algoritmo:** Escolher algoritmos de machine learning ou técnicas analíticas adequadas ao problema (ex.: regressão, classificação, árvore de decisão, redes neurais, clusterização).\n",
    "- **Divisão dos Dados:** Separar o dataset em conjuntos de treino e teste para evitar overfitting e validar o modelo (`train_test_split`).\n",
    "- **Treinamento do Modelo:** Treinar o modelo escolhido com os dados de treino (`model.fit()`).\n",
    "- **Ajuste de Hiperparâmetros (se aplicável):** Ajustar parâmetros do modelo para melhorar o desempenho e a precisão, utilizando técnicas como busca em grade (Grid Search) ou otimização bayesiana.\n",
    "- **Validação Cruzada (se aplicável):** Utilizar técnicas de validação cruzada para verificar a generalização do modelo em diferentes divisões do dataset.\n",
    "\n",
    "### Avaliação (Evaluation)\n",
    "- **Predições:** Fazer previsões com o modelo treinado usando os dados de teste (`model.predict()`).\n",
    "- **Métricas de Desempenho:** Avaliar o modelo com métricas apropriadas ao problema (ex.: acurácia, precisão, recall, F1-score, ROC-AUC para classificação; erro médio quadrático, R² para regressão).\n",
    "- **Análise das Métricas:** Analisar os resultados das métricas para determinar se o modelo atende aos requisitos de negócio. Verificar trade-offs, como precisão vs. recall, se aplicável.\n",
    "- **Importância das Variáveis (se aplicável):** Identificar as variáveis que mais influenciam o modelo (ex.: `model.feature_importances_` para modelos baseados em árvores)."
   ]
  },
  {
   "cell_type": "code",
   "execution_count": 44,
   "metadata": {},
   "outputs": [
    {
     "name": "stdout",
     "output_type": "stream",
     "text": [
      "Accuracy: 0.83\n",
      "Confusion Matrix:\n",
      "[[97  8]\n",
      " [22 52]]\n",
      "\n",
      "Classification Report:\n",
      "              precision    recall  f1-score   support\n",
      "\n",
      "           0       0.82      0.92      0.87       105\n",
      "           1       0.87      0.70      0.78        74\n",
      "\n",
      "    accuracy                           0.83       179\n",
      "   macro avg       0.84      0.81      0.82       179\n",
      "weighted avg       0.84      0.83      0.83       179\n",
      "\n",
      "ROC AUC Score: 0.85\n"
     ]
    },
    {
     "data": {
      "image/png": "[encoded data removed]",
      "text/plain": [
       "<Figure size 640x480 with 1 Axes>"
      ]
     },
     "metadata": {},
     "output_type": "display_data"
    }
   ],
   "source": [
    "import pandas as pd\n",
    "from sklearn.model_selection import train_test_split\n",
    "from sklearn.tree import DecisionTreeClassifier\n",
    "from sklearn.metrics import accuracy_score, confusion_matrix, classification_report, roc_auc_score, RocCurveDisplay\n",
    "import matplotlib.pyplot as plt\n",
    "\n",
    "# Exemplo: carregar o DataFrame (caso não tenha feito isso)\n",
    "# df_train = pd.read_csv('seu_arquivo.csv')\n",
    "\n",
    "# Exemplo: selecionar as colunas relevantes\n",
    "X = df_train[['Pclass', 'Sex', 'Embarked', 'Age Group', 'SibSp Group', 'Parch Group']]  # Características (features)\n",
    "y = df_train['Survived']  # Rótulo (target)\n",
    "\n",
    "# Dividir os dados em conjuntos de treino e teste\n",
    "X_train_tree, X_test_tree, y_train_tree, y_test_tree = train_test_split(X, y, test_size=0.2, random_state=42)\n",
    "\n",
    "# Criar o modelo de Decision Tree\n",
    "model_tree = DecisionTreeClassifier(random_state=42)\n",
    "\n",
    "# Treinar o modelo\n",
    "model_tree.fit(X_train_tree, y_train_tree)\n",
    "\n",
    "# Fazer previsões\n",
    "y_pred_tree = model_tree.predict(X_test_tree)\n",
    "\n",
    "\n",
    "# Calcular as métricas\n",
    "\n",
    "# Acurácia\n",
    "accuracy = accuracy_score(y_test_tree, y_pred_tree)\n",
    "\n",
    "# Matriz de Confusão\n",
    "conf_matrix = confusion_matrix(y_test_tree, y_pred_tree)\n",
    "\n",
    "# Relatório de Classificação\n",
    "class_report = classification_report(y_test_tree, y_pred_tree)\n",
    "\n",
    "# ROC AUC (se aplicável para o seu modelo binário)\n",
    "roc_auc = roc_auc_score(y_test_tree, model_tree.predict_proba(X_test_tree)[:, 1])\n",
    "\n",
    "# Exibir as métricas\n",
    "print(f\"Accuracy: {accuracy:.2f}\")\n",
    "print(\"Confusion Matrix:\")\n",
    "print(conf_matrix)\n",
    "print(\"\\nClassification Report:\")\n",
    "print(class_report)\n",
    "print(f\"ROC AUC Score: {roc_auc:.2f}\")\n",
    "\n",
    "# Opcional: Plot da Curva ROC\n",
    "RocCurveDisplay.from_estimator(model_tree, X_test_tree, y_test_tree)\n",
    "plt.title('ROC Curve for Decision Tree')\n",
    "plt.show()\n"
   ]
  },
  {
   "cell_type": "code",
   "execution_count": 45,
   "metadata": {},
   "outputs": [
    {
     "name": "stdout",
     "output_type": "stream",
     "text": [
      "Scores ROC AUC para cada fold: [0.84881423 0.79572193 0.80086898 0.84913102 0.83998139]\n",
      "Média do ROC AUC: 0.83\n",
      "Desvio Padrão do ROC AUC: 0.02\n"
     ]
    }
   ],
   "source": [
    "from sklearn.model_selection import cross_val_score, StratifiedKFold\n",
    "# Configuração de Validação Cruzada\n",
    "cv = StratifiedKFold(n_splits=5, shuffle=True, random_state=42)\n",
    "cv_scores = cross_val_score(model_tree, X, y, cv=cv, scoring='roc_auc')\n",
    "# Resultados\n",
    "print(f'Scores ROC AUC para cada fold: {cv_scores}')\n",
    "print(f'Média do ROC AUC: {np.mean(cv_scores):.2f}')\n",
    "print(f'Desvio Padrão do ROC AUC: {np.std(cv_scores):.2f}')"
   ]
  },
  {
   "cell_type": "code",
   "execution_count": 46,
   "metadata": {},
   "outputs": [
    {
     "name": "stdout",
     "output_type": "stream",
     "text": [
      "Accuracy: 0.84\n",
      "Confusion Matrix:\n",
      "[[97  8]\n",
      " [21 53]]\n",
      "Classification Report:\n",
      "              precision    recall  f1-score   support\n",
      "\n",
      "           0       0.82      0.92      0.87       105\n",
      "           1       0.87      0.72      0.79        74\n",
      "\n",
      "    accuracy                           0.84       179\n",
      "   macro avg       0.85      0.82      0.83       179\n",
      "weighted avg       0.84      0.84      0.83       179\n",
      "\n",
      "ROC AUC Score: 0.87\n"
     ]
    },
    {
     "data": {
      "image/png": "[encoded data removed]",
      "text/plain": [
       "<Figure size 640x480 with 1 Axes>"
      ]
     },
     "metadata": {},
     "output_type": "display_data"
    }
   ],
   "source": [
    "import pandas as pd\n",
    "from sklearn.ensemble import RandomForestClassifier\n",
    "from sklearn.model_selection import train_test_split\n",
    "from sklearn.metrics import (\n",
    "    accuracy_score,\n",
    "    confusion_matrix,\n",
    "    classification_report,\n",
    "    roc_auc_score,\n",
    "    RocCurveDisplay,\n",
    ")\n",
    "\n",
    "# Define features and target\n",
    "X = df_train[['Pclass', 'Sex', 'Embarked', 'Age Group', 'SibSp Group', 'Parch Group']]  # Características (features)\n",
    "y = df_train['Survived']  # Rótulo (target)\n",
    "\n",
    "# Split the data into training and test sets\n",
    "X_train, X_test, y_train, y_test = train_test_split(X, y, test_size=0.2, random_state=42)\n",
    "\n",
    "# Definir pesos para as classes no Random Forest, penalizando mais os erros na classe minoritária\n",
    "class_weights = {0: 1, 1: 1}  # Aumenta o peso da classe 1 (sobreviveu)\n",
    "\n",
    "# Train the Random Forest model\n",
    "rf = RandomForestClassifier(n_estimators=100, random_state=42,class_weight=class_weights)\n",
    "rf.fit(X_train, y_train)\n",
    "\n",
    "# Make predictions\n",
    "y_pred = rf.predict(X_test)\n",
    "\n",
    "# Evaluate the model\n",
    "accuracy = accuracy_score(y_test, y_pred)\n",
    "conf_matrix = confusion_matrix(y_test, y_pred)\n",
    "class_report = classification_report(y_test, y_pred)\n",
    "roc_auc = roc_auc_score(y_test, rf.predict_proba(X_test)[:, 1])\n",
    "\n",
    "# Print the evaluation results\n",
    "print(f'Accuracy: {accuracy:.2f}')\n",
    "print('Confusion Matrix:')\n",
    "print(conf_matrix)\n",
    "print('Classification Report:')\n",
    "print(class_report)\n",
    "print(f'ROC AUC Score: {roc_auc:.2f}')\n",
    "\n",
    "# Optional: Plot ROC Curve\n",
    "RocCurveDisplay.from_estimator(rf, X_test, y_test)\n",
    "plt.title('ROC Curve for Random Forest')\n",
    "plt.show()"
   ]
  },
  {
   "cell_type": "code",
   "execution_count": 47,
   "metadata": {},
   "outputs": [
    {
     "name": "stdout",
     "output_type": "stream",
     "text": [
      "Scores ROC AUC para cada fold: [0.87055336 0.84231283 0.84324866 0.84859626 0.85620263]\n",
      "Média do ROC AUC: 0.85\n",
      "Desvio Padrão do ROC AUC: 0.01\n"
     ]
    }
   ],
   "source": [
    "from sklearn.model_selection import cross_val_score, StratifiedKFold\n",
    "# Configuração de Validação Cruzada\n",
    "cv = StratifiedKFold(n_splits=5, shuffle=True, random_state=42)\n",
    "cv_scores = cross_val_score(rf, X, y, cv=cv, scoring='roc_auc')\n",
    "# Resultados\n",
    "print(f'Scores ROC AUC para cada fold: {cv_scores}')\n",
    "print(f'Média do ROC AUC: {np.mean(cv_scores):.2f}')\n",
    "print(f'Desvio Padrão do ROC AUC: {np.std(cv_scores):.2f}')"
   ]
  },
  {
   "cell_type": "markdown",
   "metadata": {},
   "source": [
    "## 6. Deploy"
   ]
  },
  {
   "cell_type": "markdown",
   "metadata": {},
   "source": [
    "### Artefato de transformação"
   ]
  },
  {
   "cell_type": "code",
   "execution_count": 48,
   "metadata": {},
   "outputs": [],
   "source": [
    "def transform_data(df_to_predict: pd.DataFrame, fill_strategies: dict = None) -> pd.DataFrame:\n",
    "    \"\"\"\n",
    "    Transforma os dados do DataFrame para preparação de modelo preditivo.\n",
    "    \n",
    "    - Remove colunas irrelevantes.\n",
    "    - Converte os tipos de dados.\n",
    "    - Categoriza variáveis numéricas em grupos.\n",
    "    - Trata valores ausentes com base em estratégias definidas.\n",
    "    - Codifica variáveis categóricas.\n",
    "    \n",
    "    Parâmetros:\n",
    "        df_to_predict (pd.DataFrame): DataFrame contendo os dados a serem transformados.\n",
    "        fill_strategies (dict): Dicionário com estratégias de preenchimento para colunas específicas.\n",
    "        \n",
    "    Retorna:\n",
    "        pd.DataFrame: DataFrame transformado.\n",
    "    \"\"\"\n",
    "\n",
    "    # Estratégias de preenchimento padrão (caso não sejam fornecidas)\n",
    "    if fill_strategies is None:\n",
    "        fill_strategies = {\n",
    "            'Pclass': '3',\n",
    "            'Embarked': 'S',\n",
    "            'Sex': 'male',\n",
    "            'Age': 29,\n",
    "            'SibSp': 0,\n",
    "            'Parch': 0,\n",
    "            'Fare': 14.4542\n",
    "        }\n",
    "\n",
    "    # Verificar se as colunas esperadas estão no DataFrame\n",
    "    expected_columns = {'Name', 'PassengerId', 'Ticket', 'Cabin',\n",
    "                        'Pclass', 'Embarked', 'Sex', 'Age', 'SibSp', 'Parch', 'Fare'}\n",
    "    missing_columns = expected_columns - set(df_to_predict.columns)\n",
    "    if missing_columns:\n",
    "        raise ValueError(f\"Colunas ausentes no DataFrame: {missing_columns}\")\n",
    "    \n",
    "    # Remover colunas irrelevantes\n",
    "    columns_to_drop = ['Name', 'Ticket', 'Cabin']\n",
    "    df_to_predict = df_to_predict.drop(columns=columns_to_drop)\n",
    "\n",
    "    # Converter tipos das variáveis\n",
    "    type_conversions = {\n",
    "        'Pclass': 'category',\n",
    "        'Embarked': 'category',\n",
    "        'Sex': 'category',\n",
    "        'Age': int,\n",
    "        'SibSp': int,\n",
    "        'Parch': int,\n",
    "        'Fare': float,\n",
    "        'PassengerId': str\n",
    "    }\n",
    "\n",
    "    # Tratar valores ausentes usando as estratégias definidas\n",
    "    def fill_missing_values(df, strategies):\n",
    "        for column, strategy in strategies.items():\n",
    "            if column in df.columns:\n",
    "                if strategy == 'median':\n",
    "                    df[column] = df[column].fillna(df[column].median())\n",
    "                elif strategy == 'mode':\n",
    "                    df[column] = df[column].fillna(df[column].mode()[0])\n",
    "                elif isinstance(strategy, (int, float, str)):\n",
    "                    df[column] = df[column].fillna(strategy)\n",
    "                else:\n",
    "                    raise ValueError(f\"Estratégia desconhecida para a coluna {column}: {strategy}\")\n",
    "        return df\n",
    "    \n",
    "    df_to_predict = fill_missing_values(df_to_predict, fill_strategies)\n",
    "\n",
    "    for column, dtype in type_conversions.items():\n",
    "        df_to_predict[column] = df_to_predict[column].astype(dtype)\n",
    "    \n",
    "    # Definir e aplicar bins e labels\n",
    "    def categorize_column(df, column, bins, labels, new_column_name):\n",
    "        df[new_column_name] = pd.cut(df[column], bins=bins, labels=labels)\n",
    "        return df\n",
    "    \n",
    "    age_bins = [-1, 12, 19, 39, 64, float('inf')]\n",
    "    age_labels = ['Criança', 'Adolescente', 'Adulto Jovem', 'Adulto Meia Idade', 'Idoso']\n",
    "    df_to_predict = categorize_column(df_to_predict, 'Age', age_bins, age_labels, 'Age Group')\n",
    "    \n",
    "    sibsp_bins = [-1, 0, 2, float('inf')]\n",
    "    sibsp_labels = ['Sozinho', 'Família pequena', 'Família grande']\n",
    "    df_to_predict = categorize_column(df_to_predict, 'SibSp', sibsp_bins, sibsp_labels, 'SibSp Group')\n",
    "    \n",
    "    parch_bins = [-1, 0, 1, float('inf')]\n",
    "    parch_labels = ['Sem filhos', 'Com um filho', 'Com filhos']\n",
    "    df_to_predict = categorize_column(df_to_predict, 'Parch', parch_bins, parch_labels, 'Parch Group')\n",
    "    \n",
    "    # Aplicar LabelEncoder às colunas categóricas\n",
    "    def encode_categorical_columns(df, columns):\n",
    "        label_encoder = LabelEncoder()\n",
    "        for column in columns:\n",
    "            df[column] = label_encoder.fit_transform(df[column].astype(str))\n",
    "        return df\n",
    "    \n",
    "    categorical_columns = df_to_predict.select_dtypes(include=['category']).columns.tolist()\n",
    "    df_to_predict = encode_categorical_columns(df_to_predict, categorical_columns)\n",
    "    \n",
    "    return df_to_predict\n"
   ]
  },
  {
   "cell_type": "code",
   "execution_count": 49,
   "metadata": {},
   "outputs": [
    {
     "name": "stdout",
     "output_type": "stream",
     "text": [
      "<class 'pandas.core.frame.DataFrame'>\n",
      "Index: 179 entries, 709 to 10\n",
      "Data columns (total 6 columns):\n",
      " #   Column       Non-Null Count  Dtype\n",
      "---  ------       --------------  -----\n",
      " 0   Pclass       179 non-null    int64\n",
      " 1   Sex          179 non-null    int64\n",
      " 2   Embarked     179 non-null    int64\n",
      " 3   Age Group    179 non-null    int64\n",
      " 4   SibSp Group  179 non-null    int64\n",
      " 5   Parch Group  179 non-null    int64\n",
      "dtypes: int64(6)\n",
      "memory usage: 9.8 KB\n"
     ]
    }
   ],
   "source": [
    "X_test.info()"
   ]
  },
  {
   "cell_type": "code",
   "execution_count": 50,
   "metadata": {},
   "outputs": [
    {
     "name": "stdout",
     "output_type": "stream",
     "text": [
      "<class 'pandas.core.frame.DataFrame'>\n",
      "RangeIndex: 418 entries, 0 to 417\n",
      "Data columns (total 11 columns):\n",
      " #   Column       Non-Null Count  Dtype  \n",
      "---  ------       --------------  -----  \n",
      " 0   PassengerId  418 non-null    int64  \n",
      " 1   Pclass       418 non-null    int64  \n",
      " 2   Name         418 non-null    object \n",
      " 3   Sex          418 non-null    object \n",
      " 4   Age          332 non-null    float64\n",
      " 5   SibSp        418 non-null    int64  \n",
      " 6   Parch        418 non-null    int64  \n",
      " 7   Ticket       418 non-null    object \n",
      " 8   Fare         417 non-null    float64\n",
      " 9   Cabin        91 non-null     object \n",
      " 10  Embarked     418 non-null    object \n",
      "dtypes: float64(2), int64(4), object(5)\n",
      "memory usage: 36.1+ KB\n"
     ]
    }
   ],
   "source": [
    "df_test_model.info()"
   ]
  },
  {
   "cell_type": "code",
   "execution_count": 51,
   "metadata": {},
   "outputs": [
    {
     "name": "stdout",
     "output_type": "stream",
     "text": [
      "<class 'pandas.core.frame.DataFrame'>\n",
      "RangeIndex: 418 entries, 0 to 417\n",
      "Data columns (total 6 columns):\n",
      " #   Column       Non-Null Count  Dtype\n",
      "---  ------       --------------  -----\n",
      " 0   Pclass       418 non-null    int64\n",
      " 1   Sex          418 non-null    int64\n",
      " 2   Embarked     418 non-null    int64\n",
      " 3   Age Group    418 non-null    int64\n",
      " 4   SibSp Group  418 non-null    int64\n",
      " 5   Parch Group  418 non-null    int64\n",
      "dtypes: int64(6)\n",
      "memory usage: 19.7 KB\n"
     ]
    }
   ],
   "source": [
    "# Make test prediction\n",
    "df_to_predict = transform_data(df_test_model)\n",
    "df_to_predict = df_to_predict[['Pclass', 'Sex', 'Embarked', 'Age Group', 'SibSp Group', 'Parch Group']]  # Características (features)\n",
    "df_to_predict.info()"
   ]
  },
  {
   "cell_type": "code",
   "execution_count": 52,
   "metadata": {},
   "outputs": [],
   "source": [
    "# Make predictions\n",
    "df_test_model['Survived'] = rf.predict(df_to_predict)\n"
   ]
  },
  {
   "cell_type": "code",
   "execution_count": 53,
   "metadata": {},
   "outputs": [
    {
     "data": {
      "text/html": [
       "<div>\n",
       "<style scoped>\n",
       "    .dataframe tbody tr th:only-of-type {\n",
       "        vertical-align: middle;\n",
       "    }\n",
       "\n",
       "    .dataframe tbody tr th {\n",
       "        vertical-align: top;\n",
       "    }\n",
       "\n",
       "    .dataframe thead th {\n",
       "        text-align: right;\n",
       "    }\n",
       "</style>\n",
       "<table border=\"1\" class=\"dataframe\">\n",
       "  <thead>\n",
       "    <tr style=\"text-align: right;\">\n",
       "      <th></th>\n",
       "      <th>PassengerId</th>\n",
       "      <th>Pclass</th>\n",
       "      <th>Name</th>\n",
       "      <th>Sex</th>\n",
       "      <th>Age</th>\n",
       "      <th>SibSp</th>\n",
       "      <th>Parch</th>\n",
       "      <th>Ticket</th>\n",
       "      <th>Fare</th>\n",
       "      <th>Cabin</th>\n",
       "      <th>Embarked</th>\n",
       "      <th>Survived</th>\n",
       "    </tr>\n",
       "  </thead>\n",
       "  <tbody>\n",
       "    <tr>\n",
       "      <th>0</th>\n",
       "      <td>892</td>\n",
       "      <td>3</td>\n",
       "      <td>Kelly, Mr. James</td>\n",
       "      <td>male</td>\n",
       "      <td>34.5</td>\n",
       "      <td>0</td>\n",
       "      <td>0</td>\n",
       "      <td>330911</td>\n",
       "      <td>7.8292</td>\n",
       "      <td>NaN</td>\n",
       "      <td>Q</td>\n",
       "      <td>0</td>\n",
       "    </tr>\n",
       "    <tr>\n",
       "      <th>1</th>\n",
       "      <td>893</td>\n",
       "      <td>3</td>\n",
       "      <td>Wilkes, Mrs. James (Ellen Needs)</td>\n",
       "      <td>female</td>\n",
       "      <td>47.0</td>\n",
       "      <td>1</td>\n",
       "      <td>0</td>\n",
       "      <td>363272</td>\n",
       "      <td>7.0000</td>\n",
       "      <td>NaN</td>\n",
       "      <td>S</td>\n",
       "      <td>0</td>\n",
       "    </tr>\n",
       "    <tr>\n",
       "      <th>2</th>\n",
       "      <td>894</td>\n",
       "      <td>2</td>\n",
       "      <td>Myles, Mr. Thomas Francis</td>\n",
       "      <td>male</td>\n",
       "      <td>62.0</td>\n",
       "      <td>0</td>\n",
       "      <td>0</td>\n",
       "      <td>240276</td>\n",
       "      <td>9.6875</td>\n",
       "      <td>NaN</td>\n",
       "      <td>Q</td>\n",
       "      <td>0</td>\n",
       "    </tr>\n",
       "    <tr>\n",
       "      <th>3</th>\n",
       "      <td>895</td>\n",
       "      <td>3</td>\n",
       "      <td>Wirz, Mr. Albert</td>\n",
       "      <td>male</td>\n",
       "      <td>27.0</td>\n",
       "      <td>0</td>\n",
       "      <td>0</td>\n",
       "      <td>315154</td>\n",
       "      <td>8.6625</td>\n",
       "      <td>NaN</td>\n",
       "      <td>S</td>\n",
       "      <td>0</td>\n",
       "    </tr>\n",
       "    <tr>\n",
       "      <th>4</th>\n",
       "      <td>896</td>\n",
       "      <td>3</td>\n",
       "      <td>Hirvonen, Mrs. Alexander (Helga E Lindqvist)</td>\n",
       "      <td>female</td>\n",
       "      <td>22.0</td>\n",
       "      <td>1</td>\n",
       "      <td>1</td>\n",
       "      <td>3101298</td>\n",
       "      <td>12.2875</td>\n",
       "      <td>NaN</td>\n",
       "      <td>S</td>\n",
       "      <td>0</td>\n",
       "    </tr>\n",
       "  </tbody>\n",
       "</table>\n",
       "</div>"
      ],
      "text/plain": [
       "   PassengerId  Pclass                                          Name     Sex  \\\n",
       "0          892       3                              Kelly, Mr. James    male   \n",
       "1          893       3              Wilkes, Mrs. James (Ellen Needs)  female   \n",
       "2          894       2                     Myles, Mr. Thomas Francis    male   \n",
       "3          895       3                              Wirz, Mr. Albert    male   \n",
       "4          896       3  Hirvonen, Mrs. Alexander (Helga E Lindqvist)  female   \n",
       "\n",
       "    Age  SibSp  Parch   Ticket     Fare Cabin Embarked  Survived  \n",
       "0  34.5      0      0   330911   7.8292   NaN        Q         0  \n",
       "1  47.0      1      0   363272   7.0000   NaN        S         0  \n",
       "2  62.0      0      0   240276   9.6875   NaN        Q         0  \n",
       "3  27.0      0      0   315154   8.6625   NaN        S         0  \n",
       "4  22.0      1      1  3101298  12.2875   NaN        S         0  "
      ]
     },
     "execution_count": 53,
     "metadata": {},
     "output_type": "execute_result"
    }
   ],
   "source": [
    "df_test_model.head()"
   ]
  },
  {
   "cell_type": "code",
   "execution_count": 54,
   "metadata": {},
   "outputs": [
    {
     "data": {
      "text/html": [
       "<div>\n",
       "<style scoped>\n",
       "    .dataframe tbody tr th:only-of-type {\n",
       "        vertical-align: middle;\n",
       "    }\n",
       "\n",
       "    .dataframe tbody tr th {\n",
       "        vertical-align: top;\n",
       "    }\n",
       "\n",
       "    .dataframe thead th {\n",
       "        text-align: right;\n",
       "    }\n",
       "</style>\n",
       "<table border=\"1\" class=\"dataframe\">\n",
       "  <thead>\n",
       "    <tr style=\"text-align: right;\">\n",
       "      <th></th>\n",
       "      <th>PassengerId</th>\n",
       "      <th>Pclass</th>\n",
       "      <th>Age</th>\n",
       "      <th>SibSp</th>\n",
       "      <th>Parch</th>\n",
       "      <th>Fare</th>\n",
       "      <th>Survived</th>\n",
       "    </tr>\n",
       "  </thead>\n",
       "  <tbody>\n",
       "    <tr>\n",
       "      <th>count</th>\n",
       "      <td>418.000000</td>\n",
       "      <td>418.000000</td>\n",
       "      <td>332.000000</td>\n",
       "      <td>418.000000</td>\n",
       "      <td>418.000000</td>\n",
       "      <td>417.000000</td>\n",
       "      <td>418.000000</td>\n",
       "    </tr>\n",
       "    <tr>\n",
       "      <th>mean</th>\n",
       "      <td>1100.500000</td>\n",
       "      <td>2.265550</td>\n",
       "      <td>30.272590</td>\n",
       "      <td>0.447368</td>\n",
       "      <td>0.392344</td>\n",
       "      <td>35.627188</td>\n",
       "      <td>0.354067</td>\n",
       "    </tr>\n",
       "    <tr>\n",
       "      <th>std</th>\n",
       "      <td>120.810458</td>\n",
       "      <td>0.841838</td>\n",
       "      <td>14.181209</td>\n",
       "      <td>0.896760</td>\n",
       "      <td>0.981429</td>\n",
       "      <td>55.907576</td>\n",
       "      <td>0.478803</td>\n",
       "    </tr>\n",
       "    <tr>\n",
       "      <th>min</th>\n",
       "      <td>892.000000</td>\n",
       "      <td>1.000000</td>\n",
       "      <td>0.170000</td>\n",
       "      <td>0.000000</td>\n",
       "      <td>0.000000</td>\n",
       "      <td>0.000000</td>\n",
       "      <td>0.000000</td>\n",
       "    </tr>\n",
       "    <tr>\n",
       "      <th>25%</th>\n",
       "      <td>996.250000</td>\n",
       "      <td>1.000000</td>\n",
       "      <td>21.000000</td>\n",
       "      <td>0.000000</td>\n",
       "      <td>0.000000</td>\n",
       "      <td>7.895800</td>\n",
       "      <td>0.000000</td>\n",
       "    </tr>\n",
       "    <tr>\n",
       "      <th>50%</th>\n",
       "      <td>1100.500000</td>\n",
       "      <td>3.000000</td>\n",
       "      <td>27.000000</td>\n",
       "      <td>0.000000</td>\n",
       "      <td>0.000000</td>\n",
       "      <td>14.454200</td>\n",
       "      <td>0.000000</td>\n",
       "    </tr>\n",
       "    <tr>\n",
       "      <th>75%</th>\n",
       "      <td>1204.750000</td>\n",
       "      <td>3.000000</td>\n",
       "      <td>39.000000</td>\n",
       "      <td>1.000000</td>\n",
       "      <td>0.000000</td>\n",
       "      <td>31.500000</td>\n",
       "      <td>1.000000</td>\n",
       "    </tr>\n",
       "    <tr>\n",
       "      <th>max</th>\n",
       "      <td>1309.000000</td>\n",
       "      <td>3.000000</td>\n",
       "      <td>76.000000</td>\n",
       "      <td>8.000000</td>\n",
       "      <td>9.000000</td>\n",
       "      <td>512.329200</td>\n",
       "      <td>1.000000</td>\n",
       "    </tr>\n",
       "  </tbody>\n",
       "</table>\n",
       "</div>"
      ],
      "text/plain": [
       "       PassengerId      Pclass         Age       SibSp       Parch  \\\n",
       "count   418.000000  418.000000  332.000000  418.000000  418.000000   \n",
       "mean   1100.500000    2.265550   30.272590    0.447368    0.392344   \n",
       "std     120.810458    0.841838   14.181209    0.896760    0.981429   \n",
       "min     892.000000    1.000000    0.170000    0.000000    0.000000   \n",
       "25%     996.250000    1.000000   21.000000    0.000000    0.000000   \n",
       "50%    1100.500000    3.000000   27.000000    0.000000    0.000000   \n",
       "75%    1204.750000    3.000000   39.000000    1.000000    0.000000   \n",
       "max    1309.000000    3.000000   76.000000    8.000000    9.000000   \n",
       "\n",
       "             Fare    Survived  \n",
       "count  417.000000  418.000000  \n",
       "mean    35.627188    0.354067  \n",
       "std     55.907576    0.478803  \n",
       "min      0.000000    0.000000  \n",
       "25%      7.895800    0.000000  \n",
       "50%     14.454200    0.000000  \n",
       "75%     31.500000    1.000000  \n",
       "max    512.329200    1.000000  "
      ]
     },
     "execution_count": 54,
     "metadata": {},
     "output_type": "execute_result"
    }
   ],
   "source": [
    "df_test_model.describe()"
   ]
  },
  {
   "cell_type": "code",
   "execution_count": 55,
   "metadata": {},
   "outputs": [
    {
     "name": "stdout",
     "output_type": "stream",
     "text": [
      "Arquivo Excel salvo com sucesso!\n"
     ]
    }
   ],
   "source": [
    "# Exportando apenas as colunas PassengerId e Survived para Excel\n",
    "df_test_model[['PassengerId', 'Survived']].to_csv(\"df_test_model.csv\", index=False)\n",
    "print(\"Arquivo Excel salvo com sucesso!\")\n"
   ]
  }
 ],
 "metadata": {
  "kernelspec": {
   "display_name": "bootcamp_cientista_dados",
   "language": "python",
   "name": "python3"
  },
  "language_info": {
   "codemirror_mode": {
    "name": "ipython",
    "version": 3
   },
   "file_extension": ".py",
   "mimetype": "text/x-python",
   "name": "python",
   "nbconvert_exporter": "python",
   "pygments_lexer": "ipython3",
   "version": "3.12.6"
  }
 },
 "nbformat": 4,
 "nbformat_minor": 2
}
