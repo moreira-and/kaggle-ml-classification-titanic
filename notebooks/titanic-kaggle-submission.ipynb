{
 "cells": [
  {
   "cell_type": "markdown",
   "id": "39081df4",
   "metadata": {
    "papermill": {
     "duration": 0.01747,
     "end_time": "2024-11-27T00:20:00.491708",
     "exception": false,
     "start_time": "2024-11-27T00:20:00.474238",
     "status": "completed"
    },
    "tags": []
   },
   "source": [
    "# Titanic - Machine Learning from Disaster\n",
    "\n",
    "\n",
    "\n",
    "Desenvolvido por André Moreira \n",
    "\n",
    "- [Git](https://github.com/moreira-and)\n",
    "\n",
    "- [Linkedin](https://www.linkedin.com/in/moreira-and/)\n",
    "\n",
    "\n",
    "\n",
    "Competição de data science:\n",
    "\n",
    "\n",
    "\n",
    "Will Cukierski. Titanic - Machine Learning from Disaster. https://kaggle.com/competitions/titanic, 2012. Kaggle."
   ]
  },
  {
   "cell_type": "markdown",
   "id": "b6da974f",
   "metadata": {
    "papermill": {
     "duration": 0.014647,
     "end_time": "2024-11-27T00:20:00.521416",
     "exception": false,
     "start_time": "2024-11-27T00:20:00.506769",
     "status": "completed"
    },
    "tags": []
   },
   "source": [
    "## Bibliotecas Necessárias\n",
    "\n",
    "\n",
    "\n",
    "Sempre que surgir a necessidade de utilizar uma nova biblioteca, o cientista de dados deve declarar ela no topo do arquivo."
   ]
  },
  {
   "cell_type": "code",
   "execution_count": 1,
   "id": "12093492",
   "metadata": {
    "execution": {
     "iopub.execute_input": "2024-11-27T00:20:00.553393Z",
     "iopub.status.busy": "2024-11-27T00:20:00.553006Z",
     "iopub.status.idle": "2024-11-27T00:20:03.280948Z",
     "shell.execute_reply": "2024-11-27T00:20:03.280028Z"
    },
    "papermill": {
     "duration": 2.746515,
     "end_time": "2024-11-27T00:20:03.283343",
     "exception": false,
     "start_time": "2024-11-27T00:20:00.536828",
     "status": "completed"
    },
    "tags": []
   },
   "outputs": [],
   "source": [
    "import numpy as np\n",
    "import pandas as pd\n",
    "\n",
    "import matplotlib.pyplot as plt\n",
    "import seaborn as sns\n",
    "\n",
    "from scipy import stats\n",
    "from scipy.stats import chi2_contingency\n",
    "\n",
    "from sklearn.feature_selection import chi2\n",
    "from sklearn.preprocessing import LabelEncoder, StandardScaler\n",
    "\n",
    "from sklearn.model_selection import train_test_split\n",
    "from sklearn.tree import DecisionTreeClassifier\n",
    "\n",
    "from sklearn.metrics import accuracy_score, confusion_matrix, classification_report, roc_auc_score, RocCurveDisplay"
   ]
  },
  {
   "cell_type": "markdown",
   "id": "638fa95f",
   "metadata": {
    "papermill": {
     "duration": 0.014614,
     "end_time": "2024-11-27T00:20:03.313004",
     "exception": false,
     "start_time": "2024-11-27T00:20:03.298390",
     "status": "completed"
    },
    "tags": []
   },
   "source": [
    "## 1. Compreensão do Negócio (Business Understanding)\n",
    "\n",
    "- **Objetivo de Negócio:** Definir o objetivo final do projeto com base nas necessidades do negócio (ex.: previsão, classificação, clusterização).\n",
    "\n",
    "- **Situação Atual:** Entender o contexto e os fatores que motivam o projeto (ex.: por que essa análise é importante? Quais problemas ou oportunidades estão sendo abordados?).\n",
    "\n",
    "- **Critérios de Sucesso:** Definir métricas ou resultados que caracterizam o sucesso do projeto (ex.: precisão mínima, aumento de eficiência, insights acionáveis)."
   ]
  },
  {
   "cell_type": "markdown",
   "id": "1c363f01",
   "metadata": {
    "papermill": {
     "duration": 0.014437,
     "end_time": "2024-11-27T00:20:03.342396",
     "exception": false,
     "start_time": "2024-11-27T00:20:03.327959",
     "status": "completed"
    },
    "tags": []
   },
   "source": [
    "O naufrágio do Titanic é um dos acidentes marítimos mais infames da história.\n",
    "\n",
    "\n",
    "\n",
    "Em 15 de abril de 1912, durante sua viagem inaugural, o amplamente considerado \"inafundável\" RMS Titanic afundou após colidir com um iceberg. Infelizmente, não havia botes salva-vidas suficientes para todos a bordo, resultando na morte de 1502 das 2224 pessoas entre passageiros e tripulação.\n",
    "\n",
    "\n",
    "\n",
    "Embora a sorte tenha desempenhado algum papel na sobrevivência, parece que alguns grupos de pessoas tinham mais chances de sobreviver do que outros.\n",
    "\n",
    "\n",
    "\n",
    "Neste desafio, pedimos que você construa um modelo preditivo que responda à pergunta: “que tipos de pessoas tinham mais chances de sobreviver?” utilizando dados de passageiros (ou seja, nome, idade, gênero, classe socioeconômica, etc.)."
   ]
  },
  {
   "cell_type": "markdown",
   "id": "31c7748a",
   "metadata": {
    "papermill": {
     "duration": 0.014395,
     "end_time": "2024-11-27T00:20:03.371579",
     "exception": false,
     "start_time": "2024-11-27T00:20:03.357184",
     "status": "completed"
    },
    "tags": []
   },
   "source": [
    "## 2. Compreensão dos Dados (Data Understanding)\n",
    "\n",
    "- [**Coleta de Dados:**](#coleta-de-dados) Identificar e adquirir os dados necessários para a análise (ex.: de sistemas internos, APIs, fontes públicas).\n",
    "\n",
    "- [**Exploração Inicial:**](#exploração-inicial-eda---exploratory-data-analysis) Examinar as primeiras linhas do dataset, identificar os tipos de variáveis, verificar as estatísticas descritivas e entender a estrutura dos dados (`df.head()`, `df.info()`, `df.describe()`).\n",
    "\n",
    "- [**Qualidade dos Dados:**](#qualidade-dos-dados) Avaliar a qualidade dos dados, identificando valores ausentes, inconsistências, e possíveis outliers (`df.isnull().sum()`, gráficos de boxplot, etc.).\n",
    "\n",
    "- [**Análise Inicial:**](#análise-inicial) Realizar análises exploratórias básicas para verificar correlações, distribuições e padrões que possam existir nos dados."
   ]
  },
  {
   "cell_type": "markdown",
   "id": "0735655c",
   "metadata": {
    "papermill": {
     "duration": 0.014369,
     "end_time": "2024-11-27T00:20:03.400988",
     "exception": false,
     "start_time": "2024-11-27T00:20:03.386619",
     "status": "completed"
    },
    "tags": []
   },
   "source": [
    "### Coleta de dados\n",
    "\n",
    "\n",
    "\n",
    "Aqui, o cientia de dados deve buscar fontes de informação. Seja com a área de negócio, buscando nos bancos de dados da empresa ou até dados públicos para enriquecer suas análises."
   ]
  },
  {
   "cell_type": "markdown",
   "id": "cc6b54dc",
   "metadata": {
    "papermill": {
     "duration": 0.014191,
     "end_time": "2024-11-27T00:20:03.431011",
     "exception": false,
     "start_time": "2024-11-27T00:20:03.416820",
     "status": "completed"
    },
    "tags": []
   },
   "source": [
    "#### Leitura dos dados"
   ]
  },
  {
   "cell_type": "code",
   "execution_count": 2,
   "id": "4595f8d3",
   "metadata": {
    "execution": {
     "iopub.execute_input": "2024-11-27T00:20:03.462941Z",
     "iopub.status.busy": "2024-11-27T00:20:03.461753Z",
     "iopub.status.idle": "2024-11-27T00:20:03.493363Z",
     "shell.execute_reply": "2024-11-27T00:20:03.491990Z"
    },
    "papermill": {
     "duration": 0.050001,
     "end_time": "2024-11-27T00:20:03.495907",
     "exception": false,
     "start_time": "2024-11-27T00:20:03.445906",
     "status": "completed"
    },
    "tags": []
   },
   "outputs": [],
   "source": [
    "# Este dataframe será utilizado para realizar a analise exploratória e treinar o modelo\n",
    "\n",
    "df_train = pd.read_csv('/kaggle/input/titanic/train.csv')\n",
    "\n",
    "\n",
    "\n",
    "# Este dataframe será utilizado para treinar o modelo de machine learning utilizado e verificar se o mesmo está atendendo os critérios do projeto. NÃO TREINE COM ESSES DADOS!\n",
    "\n",
    "df_test_model = pd.read_csv('/kaggle/input/titanic/test.csv')\n",
    "\n",
    "\n",
    "\n",
    "# Este dataframe será utilizado para gerar os dados que serão submetidos na competição.\n",
    "\n",
    "df_test_sub = pd.read_csv('/kaggle/input/titanic/gender_submission.csv')"
   ]
  },
  {
   "cell_type": "markdown",
   "id": "3f8417c3",
   "metadata": {
    "papermill": {
     "duration": 0.014505,
     "end_time": "2024-11-27T00:20:03.525341",
     "exception": false,
     "start_time": "2024-11-27T00:20:03.510836",
     "status": "completed"
    },
    "tags": []
   },
   "source": [
    "##### Entendimento dos Dados  \n",
    "\n",
    "| Variável  | Definição                                       | Chave                             |\n",
    "\n",
    "|-----------|------------------------------------------------|-----------------------------------|\n",
    "\n",
    "| survival  | Sobrevivência                                   | 0 = Não, 1 = Sim                  |\n",
    "\n",
    "| pclass    | Classe do bilhete                              | 1 = 1ª, 2 = 2ª, 3 = 3ª           |\n",
    "\n",
    "| sex       | Sexo                                           |                                   |\n",
    "\n",
    "| Age       | Idade em anos                                  |                                   |\n",
    "\n",
    "| sibsp     | Número de irmãos / cônjuges a bordo do Titanic |                                   |\n",
    "\n",
    "| parch     | Número de pais / filhos a bordo do Titanic     |                                   |\n",
    "\n",
    "| ticket    | Número do bilhete                              |                                   |\n",
    "\n",
    "| fare      | Tarifa do passageiro                           |                                   |\n",
    "\n",
    "| cabin     | Número da cabine                               |                                   |\n",
    "\n",
    "| embarked  | Porto de Embarque                             | C = Cherbourg, Q = Queenstown, S = Southampton |\n",
    "\n",
    "\n",
    "\n",
    "** Notas sobre as Variáveis:**\n",
    "\n",
    "- **pclass**: Um proxy para o status socioeconômico (SES)  \n",
    "\n",
    "  - 1ª = Alta  \n",
    "\n",
    "  - 2ª = Média  \n",
    "\n",
    "  - 3ª = Baixa  \n",
    "\n",
    "\n",
    "\n",
    "- **age**: A idade é fracionária se for menor que 1. Se a idade for estimada, está na forma xx.5.\n",
    "\n",
    "\n",
    "\n",
    "- **sibsp**: O conjunto de dados define relações familiares desta forma...  \n",
    "\n",
    "  - Irmão = irmão, irmã, meio-irmão, meia-irmã  \n",
    "\n",
    "  - Cônjuge = marido, esposa (amantes e noivos foram ignorados)  \n",
    "\n",
    "\n",
    "\n",
    "- **parch**: O conjunto de dados define relações familiares desta forma...  \n",
    "\n",
    "  - Pai = mãe, pai  \n",
    "\n",
    "  - Filho = filha, filho, enteada, enteado  \n",
    "\n",
    "  - Algumas crianças viajaram apenas com uma babá, portanto `parch=0` para elas.\n"
   ]
  },
  {
   "cell_type": "markdown",
   "id": "e645aa9a",
   "metadata": {
    "papermill": {
     "duration": 0.014283,
     "end_time": "2024-11-27T00:20:03.554303",
     "exception": false,
     "start_time": "2024-11-27T00:20:03.540020",
     "status": "completed"
    },
    "tags": []
   },
   "source": [
    "### Exploração Inicial: (EDA - Exploratory Data Analysis)"
   ]
  },
  {
   "cell_type": "markdown",
   "id": "11e68403",
   "metadata": {
    "papermill": {
     "duration": 0.014314,
     "end_time": "2024-11-27T00:20:03.583342",
     "exception": false,
     "start_time": "2024-11-27T00:20:03.569028",
     "status": "completed"
    },
    "tags": []
   },
   "source": []
  },
  {
   "cell_type": "code",
   "execution_count": 3,
   "id": "cef0c0cd",
   "metadata": {
    "execution": {
     "iopub.execute_input": "2024-11-27T00:20:03.614479Z",
     "iopub.status.busy": "2024-11-27T00:20:03.613651Z",
     "iopub.status.idle": "2024-11-27T00:20:03.641414Z",
     "shell.execute_reply": "2024-11-27T00:20:03.640375Z"
    },
    "papermill": {
     "duration": 0.045731,
     "end_time": "2024-11-27T00:20:03.643649",
     "exception": false,
     "start_time": "2024-11-27T00:20:03.597918",
     "status": "completed"
    },
    "tags": []
   },
   "outputs": [
    {
     "name": "stdout",
     "output_type": "stream",
     "text": [
      "<class 'pandas.core.frame.DataFrame'>\n",
      "RangeIndex: 891 entries, 0 to 890\n",
      "Data columns (total 12 columns):\n",
      " #   Column       Non-Null Count  Dtype  \n",
      "---  ------       --------------  -----  \n",
      " 0   PassengerId  891 non-null    int64  \n",
      " 1   Survived     891 non-null    int64  \n",
      " 2   Pclass       891 non-null    int64  \n",
      " 3   Name         891 non-null    object \n",
      " 4   Sex          891 non-null    object \n",
      " 5   Age          714 non-null    float64\n",
      " 6   SibSp        891 non-null    int64  \n",
      " 7   Parch        891 non-null    int64  \n",
      " 8   Ticket       891 non-null    object \n",
      " 9   Fare         891 non-null    float64\n",
      " 10  Cabin        204 non-null    object \n",
      " 11  Embarked     889 non-null    object \n",
      "dtypes: float64(2), int64(5), object(5)\n",
      "memory usage: 83.7+ KB\n"
     ]
    }
   ],
   "source": [
    "# Verificar os tipos de dados\n",
    "\n",
    "df_train.info()"
   ]
  },
  {
   "cell_type": "markdown",
   "id": "d5faa560",
   "metadata": {
    "papermill": {
     "duration": 0.014271,
     "end_time": "2024-11-27T00:20:03.672769",
     "exception": false,
     "start_time": "2024-11-27T00:20:03.658498",
     "status": "completed"
    },
    "tags": []
   },
   "source": [
    "- Oportunidade de Verificação dos Tipos de Dados:\n",
    "\n",
    "    - **PassengerId**: Este campo representa a chave única de cada passageiro, permitindo a obtenção de informações adicionais relacionadas a eles. No entanto, como não é o foco do exercício, será separado para uso em dados de saída.\n",
    "\n",
    "    - **Survived**: Trata-se de uma variável categórica/booleano, indicando a sobrevivência do passageiro. Será necessário adaptá-la para a análise, e ela será mantida como dado de saída.\n",
    "\n",
    "    - **Pclass**: Esta variável categórica refere-se à classe do passageiro e precisa ser adaptada e analisada para entender seu impacto na sobrevivência.\n",
    "\n",
    "    - **Name**: Embora possa parecer informativo, o nome não fornece causalidade relevante para a predição (ex.: \"Os Matheus sobrevivem mais\"). Portanto, deve ser excluído da análise.\n",
    "\n",
    "    - **Sex**: Uma variável categórica que também requer adaptação e análise, uma vez que pode ter um impacto significativo nas chances de sobrevivência.\n",
    "\n",
    "    - **Age**: Este é um dado numérico, e os valores nulos precisam ser tratados. Além disso, a análise da idade dos passageiros pode revelar insights importantes sobre a sobrevivência.\n",
    "\n",
    "    - **SibSp**: Trata-se de um dado numérico que representa o número de irmãos e cônjuges a bordo. Este campo deve ser analisado para verificar sua relevância na predição.\n",
    "\n",
    "    - **Parch**: Similar a SibSp, é um dado numérico que indica o número de pais e filhos a bordo. Deve ser analisado para compreender seu impacto na sobrevivência.\n",
    "\n",
    "    - **Ticket**: Este campo é uma string e, à primeira vista, parece similar ao nome, não implicando causalidade direta. No entanto, pode haver padrões que ajudem a complementar dados faltantes em outras colunas.\n",
    "\n",
    "    - **Fare**: Um dado numérico que representa o preço da passagem. É importante analisá-lo, pois pode ter correlações com a classe (Pclass) e, eventualmente, pode ser descartado pelo modelo se não contribuir para a predição.\n",
    "\n",
    "    - **Cabin**: Uma variável categórica em formato de string que pode fornecer informações sobre a localização do passageiro no navio. Contudo, apresenta muitos dados nulos. Se não for possível preencher essas informações através de outras variáveis, como Ticket ou Embarked, devemos considerar sua exclusão.\n",
    "\n",
    "    - **Embarked**: Esta variável categórica em string pode oferecer informações sobre os hábitos dos passageiros e como isso pode influenciar suas chances de sobrevivência. Assim como outras variáveis, os dados nulos precisam ser tratados, e uma análise deve ser realizada para compreender seu impacto.\n"
   ]
  },
  {
   "cell_type": "code",
   "execution_count": 4,
   "id": "5f6cd6b3",
   "metadata": {
    "execution": {
     "iopub.execute_input": "2024-11-27T00:20:03.704608Z",
     "iopub.status.busy": "2024-11-27T00:20:03.703673Z",
     "iopub.status.idle": "2024-11-27T00:20:03.727822Z",
     "shell.execute_reply": "2024-11-27T00:20:03.726870Z"
    },
    "papermill": {
     "duration": 0.0427,
     "end_time": "2024-11-27T00:20:03.730065",
     "exception": false,
     "start_time": "2024-11-27T00:20:03.687365",
     "status": "completed"
    },
    "tags": []
   },
   "outputs": [
    {
     "data": {
      "text/html": [
       "<div>\n",
       "<style scoped>\n",
       "    .dataframe tbody tr th:only-of-type {\n",
       "        vertical-align: middle;\n",
       "    }\n",
       "\n",
       "    .dataframe tbody tr th {\n",
       "        vertical-align: top;\n",
       "    }\n",
       "\n",
       "    .dataframe thead th {\n",
       "        text-align: right;\n",
       "    }\n",
       "</style>\n",
       "<table border=\"1\" class=\"dataframe\">\n",
       "  <thead>\n",
       "    <tr style=\"text-align: right;\">\n",
       "      <th></th>\n",
       "      <th>PassengerId</th>\n",
       "      <th>Survived</th>\n",
       "      <th>Pclass</th>\n",
       "      <th>Name</th>\n",
       "      <th>Sex</th>\n",
       "      <th>Age</th>\n",
       "      <th>SibSp</th>\n",
       "      <th>Parch</th>\n",
       "      <th>Ticket</th>\n",
       "      <th>Fare</th>\n",
       "      <th>Cabin</th>\n",
       "      <th>Embarked</th>\n",
       "    </tr>\n",
       "  </thead>\n",
       "  <tbody>\n",
       "    <tr>\n",
       "      <th>765</th>\n",
       "      <td>766</td>\n",
       "      <td>1</td>\n",
       "      <td>1</td>\n",
       "      <td>Hogeboom, Mrs. John C (Anna Andrews)</td>\n",
       "      <td>female</td>\n",
       "      <td>51.0</td>\n",
       "      <td>1</td>\n",
       "      <td>0</td>\n",
       "      <td>13502</td>\n",
       "      <td>77.9583</td>\n",
       "      <td>D11</td>\n",
       "      <td>S</td>\n",
       "    </tr>\n",
       "    <tr>\n",
       "      <th>18</th>\n",
       "      <td>19</td>\n",
       "      <td>0</td>\n",
       "      <td>3</td>\n",
       "      <td>Vander Planke, Mrs. Julius (Emelia Maria Vande...</td>\n",
       "      <td>female</td>\n",
       "      <td>31.0</td>\n",
       "      <td>1</td>\n",
       "      <td>0</td>\n",
       "      <td>345763</td>\n",
       "      <td>18.0000</td>\n",
       "      <td>NaN</td>\n",
       "      <td>S</td>\n",
       "    </tr>\n",
       "    <tr>\n",
       "      <th>457</th>\n",
       "      <td>458</td>\n",
       "      <td>1</td>\n",
       "      <td>1</td>\n",
       "      <td>Kenyon, Mrs. Frederick R (Marion)</td>\n",
       "      <td>female</td>\n",
       "      <td>NaN</td>\n",
       "      <td>1</td>\n",
       "      <td>0</td>\n",
       "      <td>17464</td>\n",
       "      <td>51.8625</td>\n",
       "      <td>D21</td>\n",
       "      <td>S</td>\n",
       "    </tr>\n",
       "    <tr>\n",
       "      <th>615</th>\n",
       "      <td>616</td>\n",
       "      <td>1</td>\n",
       "      <td>2</td>\n",
       "      <td>Herman, Miss. Alice</td>\n",
       "      <td>female</td>\n",
       "      <td>24.0</td>\n",
       "      <td>1</td>\n",
       "      <td>2</td>\n",
       "      <td>220845</td>\n",
       "      <td>65.0000</td>\n",
       "      <td>NaN</td>\n",
       "      <td>S</td>\n",
       "    </tr>\n",
       "    <tr>\n",
       "      <th>567</th>\n",
       "      <td>568</td>\n",
       "      <td>0</td>\n",
       "      <td>3</td>\n",
       "      <td>Palsson, Mrs. Nils (Alma Cornelia Berglund)</td>\n",
       "      <td>female</td>\n",
       "      <td>29.0</td>\n",
       "      <td>0</td>\n",
       "      <td>4</td>\n",
       "      <td>349909</td>\n",
       "      <td>21.0750</td>\n",
       "      <td>NaN</td>\n",
       "      <td>S</td>\n",
       "    </tr>\n",
       "    <tr>\n",
       "      <th>137</th>\n",
       "      <td>138</td>\n",
       "      <td>0</td>\n",
       "      <td>1</td>\n",
       "      <td>Futrelle, Mr. Jacques Heath</td>\n",
       "      <td>male</td>\n",
       "      <td>37.0</td>\n",
       "      <td>1</td>\n",
       "      <td>0</td>\n",
       "      <td>113803</td>\n",
       "      <td>53.1000</td>\n",
       "      <td>C123</td>\n",
       "      <td>S</td>\n",
       "    </tr>\n",
       "    <tr>\n",
       "      <th>837</th>\n",
       "      <td>838</td>\n",
       "      <td>0</td>\n",
       "      <td>3</td>\n",
       "      <td>Sirota, Mr. Maurice</td>\n",
       "      <td>male</td>\n",
       "      <td>NaN</td>\n",
       "      <td>0</td>\n",
       "      <td>0</td>\n",
       "      <td>392092</td>\n",
       "      <td>8.0500</td>\n",
       "      <td>NaN</td>\n",
       "      <td>S</td>\n",
       "    </tr>\n",
       "    <tr>\n",
       "      <th>21</th>\n",
       "      <td>22</td>\n",
       "      <td>1</td>\n",
       "      <td>2</td>\n",
       "      <td>Beesley, Mr. Lawrence</td>\n",
       "      <td>male</td>\n",
       "      <td>34.0</td>\n",
       "      <td>0</td>\n",
       "      <td>0</td>\n",
       "      <td>248698</td>\n",
       "      <td>13.0000</td>\n",
       "      <td>D56</td>\n",
       "      <td>S</td>\n",
       "    </tr>\n",
       "    <tr>\n",
       "      <th>32</th>\n",
       "      <td>33</td>\n",
       "      <td>1</td>\n",
       "      <td>3</td>\n",
       "      <td>Glynn, Miss. Mary Agatha</td>\n",
       "      <td>female</td>\n",
       "      <td>NaN</td>\n",
       "      <td>0</td>\n",
       "      <td>0</td>\n",
       "      <td>335677</td>\n",
       "      <td>7.7500</td>\n",
       "      <td>NaN</td>\n",
       "      <td>Q</td>\n",
       "    </tr>\n",
       "    <tr>\n",
       "      <th>269</th>\n",
       "      <td>270</td>\n",
       "      <td>1</td>\n",
       "      <td>1</td>\n",
       "      <td>Bissette, Miss. Amelia</td>\n",
       "      <td>female</td>\n",
       "      <td>35.0</td>\n",
       "      <td>0</td>\n",
       "      <td>0</td>\n",
       "      <td>PC 17760</td>\n",
       "      <td>135.6333</td>\n",
       "      <td>C99</td>\n",
       "      <td>S</td>\n",
       "    </tr>\n",
       "  </tbody>\n",
       "</table>\n",
       "</div>"
      ],
      "text/plain": [
       "     PassengerId  Survived  Pclass  \\\n",
       "765          766         1       1   \n",
       "18            19         0       3   \n",
       "457          458         1       1   \n",
       "615          616         1       2   \n",
       "567          568         0       3   \n",
       "137          138         0       1   \n",
       "837          838         0       3   \n",
       "21            22         1       2   \n",
       "32            33         1       3   \n",
       "269          270         1       1   \n",
       "\n",
       "                                                  Name     Sex   Age  SibSp  \\\n",
       "765               Hogeboom, Mrs. John C (Anna Andrews)  female  51.0      1   \n",
       "18   Vander Planke, Mrs. Julius (Emelia Maria Vande...  female  31.0      1   \n",
       "457                  Kenyon, Mrs. Frederick R (Marion)  female   NaN      1   \n",
       "615                                Herman, Miss. Alice  female  24.0      1   \n",
       "567        Palsson, Mrs. Nils (Alma Cornelia Berglund)  female  29.0      0   \n",
       "137                        Futrelle, Mr. Jacques Heath    male  37.0      1   \n",
       "837                                Sirota, Mr. Maurice    male   NaN      0   \n",
       "21                               Beesley, Mr. Lawrence    male  34.0      0   \n",
       "32                            Glynn, Miss. Mary Agatha  female   NaN      0   \n",
       "269                             Bissette, Miss. Amelia  female  35.0      0   \n",
       "\n",
       "     Parch    Ticket      Fare Cabin Embarked  \n",
       "765      0     13502   77.9583   D11        S  \n",
       "18       0    345763   18.0000   NaN        S  \n",
       "457      0     17464   51.8625   D21        S  \n",
       "615      2    220845   65.0000   NaN        S  \n",
       "567      4    349909   21.0750   NaN        S  \n",
       "137      0    113803   53.1000  C123        S  \n",
       "837      0    392092    8.0500   NaN        S  \n",
       "21       0    248698   13.0000   D56        S  \n",
       "32       0    335677    7.7500   NaN        Q  \n",
       "269      0  PC 17760  135.6333   C99        S  "
      ]
     },
     "execution_count": 4,
     "metadata": {},
     "output_type": "execute_result"
    }
   ],
   "source": [
    "# Verificar como os dados se organizam pegando 10 amostras aleatórias\n",
    "\n",
    "df_train.sample(10)"
   ]
  },
  {
   "cell_type": "markdown",
   "id": "b644d25c",
   "metadata": {
    "papermill": {
     "duration": 0.014884,
     "end_time": "2024-11-27T00:20:03.760157",
     "exception": false,
     "start_time": "2024-11-27T00:20:03.745273",
     "status": "completed"
    },
    "tags": []
   },
   "source": [
    "### Qualidade dos Dados"
   ]
  },
  {
   "cell_type": "code",
   "execution_count": 5,
   "id": "cd860d0e",
   "metadata": {
    "execution": {
     "iopub.execute_input": "2024-11-27T00:20:03.792832Z",
     "iopub.status.busy": "2024-11-27T00:20:03.791848Z",
     "iopub.status.idle": "2024-11-27T00:20:03.800922Z",
     "shell.execute_reply": "2024-11-27T00:20:03.799881Z"
    },
    "papermill": {
     "duration": 0.027836,
     "end_time": "2024-11-27T00:20:03.803265",
     "exception": false,
     "start_time": "2024-11-27T00:20:03.775429",
     "status": "completed"
    },
    "tags": []
   },
   "outputs": [
    {
     "data": {
      "text/plain": [
       "PassengerId      0\n",
       "Survived         0\n",
       "Pclass           0\n",
       "Name             0\n",
       "Sex              0\n",
       "Age            177\n",
       "SibSp            0\n",
       "Parch            0\n",
       "Ticket           0\n",
       "Fare             0\n",
       "Cabin          687\n",
       "Embarked         2\n",
       "dtype: int64"
      ]
     },
     "execution_count": 5,
     "metadata": {},
     "output_type": "execute_result"
    }
   ],
   "source": [
    "# Verificar a quantidade de dados nulos\n",
    "\n",
    "df_train.isna().sum()\n",
    "\n",
    "\n",
    "\n",
    "#'''\n",
    "\n",
    "#- Tratamentos Necessários\n",
    "\n",
    "#    - **Age**: Esta variável apresenta uma quantidade considerável de dados nulos. É importante analisar sua distribuição para determinar a melhor abordagem, que pode incluir o uso da mediana, média ou, se necessário, a remoção das linhas que contêm esses valores ausentes.\n",
    "\n",
    "#    - **Cabin**: Este campo possui uma quantidade significativa de dados nulos. Se não for possível preencher essas informações a partir de outras colunas, como Ticket ou Embarked, a exclusão desta coluna deve ser considerada.\n",
    "\n",
    "#    - **Embarked**: Com poucos dados nulos, é necessário verificar qual tipo de informação pode ser inserida. A moda da coluna pode ser uma solução adequada para preencher os valores ausentes.\n",
    "\n",
    "#'''"
   ]
  },
  {
   "cell_type": "markdown",
   "id": "80464f48",
   "metadata": {
    "papermill": {
     "duration": 0.015117,
     "end_time": "2024-11-27T00:20:03.834762",
     "exception": false,
     "start_time": "2024-11-27T00:20:03.819645",
     "status": "completed"
    },
    "tags": []
   },
   "source": [
    "### Análise Inicial"
   ]
  },
  {
   "cell_type": "markdown",
   "id": "cc2553f1",
   "metadata": {
    "papermill": {
     "duration": 0.015077,
     "end_time": "2024-11-27T00:20:03.865139",
     "exception": false,
     "start_time": "2024-11-27T00:20:03.850062",
     "status": "completed"
    },
    "tags": []
   },
   "source": [
    "#### Cabin agrega valor a análise?"
   ]
  },
  {
   "cell_type": "code",
   "execution_count": 6,
   "id": "6ebd9445",
   "metadata": {
    "execution": {
     "iopub.execute_input": "2024-11-27T00:20:03.897960Z",
     "iopub.status.busy": "2024-11-27T00:20:03.896780Z",
     "iopub.status.idle": "2024-11-27T00:20:03.932870Z",
     "shell.execute_reply": "2024-11-27T00:20:03.931653Z"
    },
    "papermill": {
     "duration": 0.054729,
     "end_time": "2024-11-27T00:20:03.935140",
     "exception": false,
     "start_time": "2024-11-27T00:20:03.880411",
     "status": "completed"
    },
    "tags": []
   },
   "outputs": [
    {
     "data": {
      "text/html": [
       "<div>\n",
       "<style scoped>\n",
       "    .dataframe tbody tr th:only-of-type {\n",
       "        vertical-align: middle;\n",
       "    }\n",
       "\n",
       "    .dataframe tbody tr th {\n",
       "        vertical-align: top;\n",
       "    }\n",
       "\n",
       "    .dataframe thead th {\n",
       "        text-align: right;\n",
       "    }\n",
       "</style>\n",
       "<table border=\"1\" class=\"dataframe\">\n",
       "  <thead>\n",
       "    <tr style=\"text-align: right;\">\n",
       "      <th>Cabin</th>\n",
       "      <th>A10</th>\n",
       "      <th>A14</th>\n",
       "      <th>A16</th>\n",
       "      <th>A19</th>\n",
       "      <th>A20</th>\n",
       "      <th>A23</th>\n",
       "      <th>A24</th>\n",
       "      <th>A26</th>\n",
       "      <th>A31</th>\n",
       "      <th>A32</th>\n",
       "      <th>...</th>\n",
       "      <th>E8</th>\n",
       "      <th>F E69</th>\n",
       "      <th>F G63</th>\n",
       "      <th>F G73</th>\n",
       "      <th>F2</th>\n",
       "      <th>F33</th>\n",
       "      <th>F38</th>\n",
       "      <th>F4</th>\n",
       "      <th>G6</th>\n",
       "      <th>T</th>\n",
       "    </tr>\n",
       "    <tr>\n",
       "      <th>Pclass</th>\n",
       "      <th></th>\n",
       "      <th></th>\n",
       "      <th></th>\n",
       "      <th></th>\n",
       "      <th></th>\n",
       "      <th></th>\n",
       "      <th></th>\n",
       "      <th></th>\n",
       "      <th></th>\n",
       "      <th></th>\n",
       "      <th></th>\n",
       "      <th></th>\n",
       "      <th></th>\n",
       "      <th></th>\n",
       "      <th></th>\n",
       "      <th></th>\n",
       "      <th></th>\n",
       "      <th></th>\n",
       "      <th></th>\n",
       "      <th></th>\n",
       "      <th></th>\n",
       "    </tr>\n",
       "  </thead>\n",
       "  <tbody>\n",
       "    <tr>\n",
       "      <th>1</th>\n",
       "      <td>1</td>\n",
       "      <td>1</td>\n",
       "      <td>1</td>\n",
       "      <td>1</td>\n",
       "      <td>1</td>\n",
       "      <td>1</td>\n",
       "      <td>1</td>\n",
       "      <td>1</td>\n",
       "      <td>1</td>\n",
       "      <td>1</td>\n",
       "      <td>...</td>\n",
       "      <td>2</td>\n",
       "      <td>0</td>\n",
       "      <td>0</td>\n",
       "      <td>0</td>\n",
       "      <td>0</td>\n",
       "      <td>0</td>\n",
       "      <td>0</td>\n",
       "      <td>0</td>\n",
       "      <td>0</td>\n",
       "      <td>1</td>\n",
       "    </tr>\n",
       "    <tr>\n",
       "      <th>2</th>\n",
       "      <td>0</td>\n",
       "      <td>0</td>\n",
       "      <td>0</td>\n",
       "      <td>0</td>\n",
       "      <td>0</td>\n",
       "      <td>0</td>\n",
       "      <td>0</td>\n",
       "      <td>0</td>\n",
       "      <td>0</td>\n",
       "      <td>0</td>\n",
       "      <td>...</td>\n",
       "      <td>0</td>\n",
       "      <td>0</td>\n",
       "      <td>0</td>\n",
       "      <td>0</td>\n",
       "      <td>3</td>\n",
       "      <td>3</td>\n",
       "      <td>0</td>\n",
       "      <td>2</td>\n",
       "      <td>0</td>\n",
       "      <td>0</td>\n",
       "    </tr>\n",
       "    <tr>\n",
       "      <th>3</th>\n",
       "      <td>0</td>\n",
       "      <td>0</td>\n",
       "      <td>0</td>\n",
       "      <td>0</td>\n",
       "      <td>0</td>\n",
       "      <td>0</td>\n",
       "      <td>0</td>\n",
       "      <td>0</td>\n",
       "      <td>0</td>\n",
       "      <td>0</td>\n",
       "      <td>...</td>\n",
       "      <td>0</td>\n",
       "      <td>1</td>\n",
       "      <td>1</td>\n",
       "      <td>2</td>\n",
       "      <td>0</td>\n",
       "      <td>0</td>\n",
       "      <td>1</td>\n",
       "      <td>0</td>\n",
       "      <td>4</td>\n",
       "      <td>0</td>\n",
       "    </tr>\n",
       "  </tbody>\n",
       "</table>\n",
       "<p>3 rows × 147 columns</p>\n",
       "</div>"
      ],
      "text/plain": [
       "Cabin   A10  A14  A16  A19  A20  A23  A24  A26  A31  A32  ...  E8  F E69  \\\n",
       "Pclass                                                    ...              \n",
       "1         1    1    1    1    1    1    1    1    1    1  ...   2      0   \n",
       "2         0    0    0    0    0    0    0    0    0    0  ...   0      0   \n",
       "3         0    0    0    0    0    0    0    0    0    0  ...   0      1   \n",
       "\n",
       "Cabin   F G63  F G73  F2  F33  F38  F4  G6  T  \n",
       "Pclass                                         \n",
       "1           0      0   0    0    0   0   0  1  \n",
       "2           0      0   3    3    0   2   0  0  \n",
       "3           1      2   0    0    1   0   4  0  \n",
       "\n",
       "[3 rows x 147 columns]"
      ]
     },
     "execution_count": 6,
     "metadata": {},
     "output_type": "execute_result"
    }
   ],
   "source": [
    "# - Cabin can be composed of a ticket and Embarkation.\n",
    "\n",
    "ticket_contingency_table = pd.crosstab(df_train['Pclass'],df_train['Cabin'])\n",
    "\n",
    "ticket_contingency_table"
   ]
  },
  {
   "cell_type": "code",
   "execution_count": 7,
   "id": "191a16eb",
   "metadata": {
    "execution": {
     "iopub.execute_input": "2024-11-27T00:20:03.967861Z",
     "iopub.status.busy": "2024-11-27T00:20:03.967442Z",
     "iopub.status.idle": "2024-11-27T00:20:03.985309Z",
     "shell.execute_reply": "2024-11-27T00:20:03.984324Z"
    },
    "papermill": {
     "duration": 0.036482,
     "end_time": "2024-11-27T00:20:03.987323",
     "exception": false,
     "start_time": "2024-11-27T00:20:03.950841",
     "status": "completed"
    },
    "tags": []
   },
   "outputs": [
    {
     "data": {
      "text/html": [
       "<div>\n",
       "<style scoped>\n",
       "    .dataframe tbody tr th:only-of-type {\n",
       "        vertical-align: middle;\n",
       "    }\n",
       "\n",
       "    .dataframe tbody tr th {\n",
       "        vertical-align: top;\n",
       "    }\n",
       "\n",
       "    .dataframe thead th {\n",
       "        text-align: right;\n",
       "    }\n",
       "</style>\n",
       "<table border=\"1\" class=\"dataframe\">\n",
       "  <thead>\n",
       "    <tr style=\"text-align: right;\">\n",
       "      <th></th>\n",
       "      <th>PassengerId</th>\n",
       "      <th>Survived</th>\n",
       "      <th>Pclass</th>\n",
       "      <th>Name</th>\n",
       "      <th>Sex</th>\n",
       "      <th>Age</th>\n",
       "      <th>SibSp</th>\n",
       "      <th>Parch</th>\n",
       "      <th>Ticket</th>\n",
       "      <th>Fare</th>\n",
       "      <th>Cabin</th>\n",
       "      <th>Embarked</th>\n",
       "      <th>Cabin_l</th>\n",
       "      <th>Cabin_n</th>\n",
       "    </tr>\n",
       "  </thead>\n",
       "  <tbody>\n",
       "    <tr>\n",
       "      <th>0</th>\n",
       "      <td>1</td>\n",
       "      <td>0</td>\n",
       "      <td>3</td>\n",
       "      <td>Braund, Mr. Owen Harris</td>\n",
       "      <td>male</td>\n",
       "      <td>22.0</td>\n",
       "      <td>1</td>\n",
       "      <td>0</td>\n",
       "      <td>A/5 21171</td>\n",
       "      <td>7.2500</td>\n",
       "      <td>NaN</td>\n",
       "      <td>S</td>\n",
       "      <td>NaN</td>\n",
       "      <td>NaN</td>\n",
       "    </tr>\n",
       "    <tr>\n",
       "      <th>1</th>\n",
       "      <td>2</td>\n",
       "      <td>1</td>\n",
       "      <td>1</td>\n",
       "      <td>Cumings, Mrs. John Bradley (Florence Briggs Th...</td>\n",
       "      <td>female</td>\n",
       "      <td>38.0</td>\n",
       "      <td>1</td>\n",
       "      <td>0</td>\n",
       "      <td>PC 17599</td>\n",
       "      <td>71.2833</td>\n",
       "      <td>C85</td>\n",
       "      <td>C</td>\n",
       "      <td>C</td>\n",
       "      <td>85</td>\n",
       "    </tr>\n",
       "    <tr>\n",
       "      <th>2</th>\n",
       "      <td>3</td>\n",
       "      <td>1</td>\n",
       "      <td>3</td>\n",
       "      <td>Heikkinen, Miss. Laina</td>\n",
       "      <td>female</td>\n",
       "      <td>26.0</td>\n",
       "      <td>0</td>\n",
       "      <td>0</td>\n",
       "      <td>STON/O2. 3101282</td>\n",
       "      <td>7.9250</td>\n",
       "      <td>NaN</td>\n",
       "      <td>S</td>\n",
       "      <td>NaN</td>\n",
       "      <td>NaN</td>\n",
       "    </tr>\n",
       "    <tr>\n",
       "      <th>3</th>\n",
       "      <td>4</td>\n",
       "      <td>1</td>\n",
       "      <td>1</td>\n",
       "      <td>Futrelle, Mrs. Jacques Heath (Lily May Peel)</td>\n",
       "      <td>female</td>\n",
       "      <td>35.0</td>\n",
       "      <td>1</td>\n",
       "      <td>0</td>\n",
       "      <td>113803</td>\n",
       "      <td>53.1000</td>\n",
       "      <td>C123</td>\n",
       "      <td>S</td>\n",
       "      <td>C</td>\n",
       "      <td>123</td>\n",
       "    </tr>\n",
       "    <tr>\n",
       "      <th>4</th>\n",
       "      <td>5</td>\n",
       "      <td>0</td>\n",
       "      <td>3</td>\n",
       "      <td>Allen, Mr. William Henry</td>\n",
       "      <td>male</td>\n",
       "      <td>35.0</td>\n",
       "      <td>0</td>\n",
       "      <td>0</td>\n",
       "      <td>373450</td>\n",
       "      <td>8.0500</td>\n",
       "      <td>NaN</td>\n",
       "      <td>S</td>\n",
       "      <td>NaN</td>\n",
       "      <td>NaN</td>\n",
       "    </tr>\n",
       "  </tbody>\n",
       "</table>\n",
       "</div>"
      ],
      "text/plain": [
       "   PassengerId  Survived  Pclass  \\\n",
       "0            1         0       3   \n",
       "1            2         1       1   \n",
       "2            3         1       3   \n",
       "3            4         1       1   \n",
       "4            5         0       3   \n",
       "\n",
       "                                                Name     Sex   Age  SibSp  \\\n",
       "0                            Braund, Mr. Owen Harris    male  22.0      1   \n",
       "1  Cumings, Mrs. John Bradley (Florence Briggs Th...  female  38.0      1   \n",
       "2                             Heikkinen, Miss. Laina  female  26.0      0   \n",
       "3       Futrelle, Mrs. Jacques Heath (Lily May Peel)  female  35.0      1   \n",
       "4                           Allen, Mr. William Henry    male  35.0      0   \n",
       "\n",
       "   Parch            Ticket     Fare Cabin Embarked Cabin_l Cabin_n  \n",
       "0      0         A/5 21171   7.2500   NaN        S     NaN     NaN  \n",
       "1      0          PC 17599  71.2833   C85        C       C      85  \n",
       "2      0  STON/O2. 3101282   7.9250   NaN        S     NaN     NaN  \n",
       "3      0            113803  53.1000  C123        S       C     123  \n",
       "4      0            373450   8.0500   NaN        S     NaN     NaN  "
      ]
     },
     "execution_count": 7,
     "metadata": {},
     "output_type": "execute_result"
    }
   ],
   "source": [
    "# If we separe the letter and number, this pass a context?\n",
    "\n",
    "df_train[['Cabin_l','Cabin_n']] = df_train['Cabin'].str.extract(r'([A-Za-z]+)(\\d+)')\n",
    "\n",
    "df_train.head()"
   ]
  },
  {
   "cell_type": "code",
   "execution_count": 8,
   "id": "d4f87761",
   "metadata": {
    "execution": {
     "iopub.execute_input": "2024-11-27T00:20:04.021418Z",
     "iopub.status.busy": "2024-11-27T00:20:04.020437Z",
     "iopub.status.idle": "2024-11-27T00:20:04.038950Z",
     "shell.execute_reply": "2024-11-27T00:20:04.037849Z"
    },
    "papermill": {
     "duration": 0.037771,
     "end_time": "2024-11-27T00:20:04.041196",
     "exception": false,
     "start_time": "2024-11-27T00:20:04.003425",
     "status": "completed"
    },
    "tags": []
   },
   "outputs": [
    {
     "data": {
      "text/html": [
       "<div>\n",
       "<style scoped>\n",
       "    .dataframe tbody tr th:only-of-type {\n",
       "        vertical-align: middle;\n",
       "    }\n",
       "\n",
       "    .dataframe tbody tr th {\n",
       "        vertical-align: top;\n",
       "    }\n",
       "\n",
       "    .dataframe thead th {\n",
       "        text-align: right;\n",
       "    }\n",
       "</style>\n",
       "<table border=\"1\" class=\"dataframe\">\n",
       "  <thead>\n",
       "    <tr style=\"text-align: right;\">\n",
       "      <th>Cabin_l</th>\n",
       "      <th>A</th>\n",
       "      <th>B</th>\n",
       "      <th>C</th>\n",
       "      <th>D</th>\n",
       "      <th>E</th>\n",
       "      <th>F</th>\n",
       "      <th>G</th>\n",
       "    </tr>\n",
       "    <tr>\n",
       "      <th>Pclass</th>\n",
       "      <th></th>\n",
       "      <th></th>\n",
       "      <th></th>\n",
       "      <th></th>\n",
       "      <th></th>\n",
       "      <th></th>\n",
       "      <th></th>\n",
       "    </tr>\n",
       "  </thead>\n",
       "  <tbody>\n",
       "    <tr>\n",
       "      <th>1</th>\n",
       "      <td>15</td>\n",
       "      <td>47</td>\n",
       "      <td>59</td>\n",
       "      <td>29</td>\n",
       "      <td>25</td>\n",
       "      <td>0</td>\n",
       "      <td>0</td>\n",
       "    </tr>\n",
       "    <tr>\n",
       "      <th>2</th>\n",
       "      <td>0</td>\n",
       "      <td>0</td>\n",
       "      <td>0</td>\n",
       "      <td>1</td>\n",
       "      <td>4</td>\n",
       "      <td>8</td>\n",
       "      <td>0</td>\n",
       "    </tr>\n",
       "    <tr>\n",
       "      <th>3</th>\n",
       "      <td>0</td>\n",
       "      <td>0</td>\n",
       "      <td>0</td>\n",
       "      <td>0</td>\n",
       "      <td>4</td>\n",
       "      <td>1</td>\n",
       "      <td>7</td>\n",
       "    </tr>\n",
       "  </tbody>\n",
       "</table>\n",
       "</div>"
      ],
      "text/plain": [
       "Cabin_l   A   B   C   D   E  F  G\n",
       "Pclass                           \n",
       "1        15  47  59  29  25  0  0\n",
       "2         0   0   0   1   4  8  0\n",
       "3         0   0   0   0   4  1  7"
      ]
     },
     "execution_count": 8,
     "metadata": {},
     "output_type": "execute_result"
    }
   ],
   "source": [
    "# The cabin can be associated with a ticket and embarkation.\n",
    "\n",
    "ticket_contingency_table = pd.crosstab(df_train['Pclass'], df_train['Cabin_l'])\n",
    "\n",
    "ticket_contingency_table\n",
    "\n",
    "# We only have Pclass 1 in this DataFrame, so it will be difficult to define other classes. However, could the ticket be useful?"
   ]
  },
  {
   "cell_type": "code",
   "execution_count": 9,
   "id": "64a34e44",
   "metadata": {
    "execution": {
     "iopub.execute_input": "2024-11-27T00:20:04.076034Z",
     "iopub.status.busy": "2024-11-27T00:20:04.075629Z",
     "iopub.status.idle": "2024-11-27T00:20:04.097678Z",
     "shell.execute_reply": "2024-11-27T00:20:04.096527Z"
    },
    "papermill": {
     "duration": 0.041582,
     "end_time": "2024-11-27T00:20:04.099975",
     "exception": false,
     "start_time": "2024-11-27T00:20:04.058393",
     "status": "completed"
    },
    "tags": []
   },
   "outputs": [
    {
     "data": {
      "text/html": [
       "<div>\n",
       "<style scoped>\n",
       "    .dataframe tbody tr th:only-of-type {\n",
       "        vertical-align: middle;\n",
       "    }\n",
       "\n",
       "    .dataframe tbody tr th {\n",
       "        vertical-align: top;\n",
       "    }\n",
       "\n",
       "    .dataframe thead th {\n",
       "        text-align: right;\n",
       "    }\n",
       "</style>\n",
       "<table border=\"1\" class=\"dataframe\">\n",
       "  <thead>\n",
       "    <tr style=\"text-align: right;\">\n",
       "      <th>Cabin_l</th>\n",
       "      <th>A</th>\n",
       "      <th>B</th>\n",
       "      <th>C</th>\n",
       "      <th>D</th>\n",
       "      <th>E</th>\n",
       "      <th>F</th>\n",
       "      <th>G</th>\n",
       "    </tr>\n",
       "    <tr>\n",
       "      <th>Ticket</th>\n",
       "      <th></th>\n",
       "      <th></th>\n",
       "      <th></th>\n",
       "      <th></th>\n",
       "      <th></th>\n",
       "      <th></th>\n",
       "      <th></th>\n",
       "    </tr>\n",
       "  </thead>\n",
       "  <tbody>\n",
       "    <tr>\n",
       "      <th>110152</th>\n",
       "      <td>0</td>\n",
       "      <td>3</td>\n",
       "      <td>0</td>\n",
       "      <td>0</td>\n",
       "      <td>0</td>\n",
       "      <td>0</td>\n",
       "      <td>0</td>\n",
       "    </tr>\n",
       "    <tr>\n",
       "      <th>110413</th>\n",
       "      <td>0</td>\n",
       "      <td>0</td>\n",
       "      <td>0</td>\n",
       "      <td>0</td>\n",
       "      <td>3</td>\n",
       "      <td>0</td>\n",
       "      <td>0</td>\n",
       "    </tr>\n",
       "    <tr>\n",
       "      <th>110465</th>\n",
       "      <td>1</td>\n",
       "      <td>0</td>\n",
       "      <td>1</td>\n",
       "      <td>0</td>\n",
       "      <td>0</td>\n",
       "      <td>0</td>\n",
       "      <td>0</td>\n",
       "    </tr>\n",
       "    <tr>\n",
       "      <th>110564</th>\n",
       "      <td>0</td>\n",
       "      <td>0</td>\n",
       "      <td>1</td>\n",
       "      <td>0</td>\n",
       "      <td>0</td>\n",
       "      <td>0</td>\n",
       "      <td>0</td>\n",
       "    </tr>\n",
       "    <tr>\n",
       "      <th>110813</th>\n",
       "      <td>0</td>\n",
       "      <td>0</td>\n",
       "      <td>0</td>\n",
       "      <td>1</td>\n",
       "      <td>0</td>\n",
       "      <td>0</td>\n",
       "      <td>0</td>\n",
       "    </tr>\n",
       "    <tr>\n",
       "      <th>...</th>\n",
       "      <td>...</td>\n",
       "      <td>...</td>\n",
       "      <td>...</td>\n",
       "      <td>...</td>\n",
       "      <td>...</td>\n",
       "      <td>...</td>\n",
       "      <td>...</td>\n",
       "    </tr>\n",
       "    <tr>\n",
       "      <th>PP 9549</th>\n",
       "      <td>0</td>\n",
       "      <td>0</td>\n",
       "      <td>0</td>\n",
       "      <td>0</td>\n",
       "      <td>0</td>\n",
       "      <td>0</td>\n",
       "      <td>2</td>\n",
       "    </tr>\n",
       "    <tr>\n",
       "      <th>S.O./P.P. 3</th>\n",
       "      <td>0</td>\n",
       "      <td>0</td>\n",
       "      <td>0</td>\n",
       "      <td>0</td>\n",
       "      <td>1</td>\n",
       "      <td>0</td>\n",
       "      <td>0</td>\n",
       "    </tr>\n",
       "    <tr>\n",
       "      <th>SOTON/O.Q. 392078</th>\n",
       "      <td>0</td>\n",
       "      <td>0</td>\n",
       "      <td>0</td>\n",
       "      <td>0</td>\n",
       "      <td>1</td>\n",
       "      <td>0</td>\n",
       "      <td>0</td>\n",
       "    </tr>\n",
       "    <tr>\n",
       "      <th>W.E.P. 5734</th>\n",
       "      <td>0</td>\n",
       "      <td>0</td>\n",
       "      <td>0</td>\n",
       "      <td>0</td>\n",
       "      <td>1</td>\n",
       "      <td>0</td>\n",
       "      <td>0</td>\n",
       "    </tr>\n",
       "    <tr>\n",
       "      <th>WE/P 5735</th>\n",
       "      <td>0</td>\n",
       "      <td>2</td>\n",
       "      <td>0</td>\n",
       "      <td>0</td>\n",
       "      <td>0</td>\n",
       "      <td>0</td>\n",
       "      <td>0</td>\n",
       "    </tr>\n",
       "  </tbody>\n",
       "</table>\n",
       "<p>138 rows × 7 columns</p>\n",
       "</div>"
      ],
      "text/plain": [
       "Cabin_l            A  B  C  D  E  F  G\n",
       "Ticket                                \n",
       "110152             0  3  0  0  0  0  0\n",
       "110413             0  0  0  0  3  0  0\n",
       "110465             1  0  1  0  0  0  0\n",
       "110564             0  0  1  0  0  0  0\n",
       "110813             0  0  0  1  0  0  0\n",
       "...               .. .. .. .. .. .. ..\n",
       "PP 9549            0  0  0  0  0  0  2\n",
       "S.O./P.P. 3        0  0  0  0  1  0  0\n",
       "SOTON/O.Q. 392078  0  0  0  0  1  0  0\n",
       "W.E.P. 5734        0  0  0  0  1  0  0\n",
       "WE/P 5735          0  2  0  0  0  0  0\n",
       "\n",
       "[138 rows x 7 columns]"
      ]
     },
     "execution_count": 9,
     "metadata": {},
     "output_type": "execute_result"
    }
   ],
   "source": [
    "ticket_contingency_table = pd.crosstab(df_train['Ticket'], df_train['Cabin_l'])\n",
    "\n",
    "ticket_contingency_table\n",
    "\n",
    "# Ticket is not useful for this modeling, and we can't use it to complement Cabin."
   ]
  },
  {
   "cell_type": "code",
   "execution_count": 10,
   "id": "7f68a67c",
   "metadata": {
    "execution": {
     "iopub.execute_input": "2024-11-27T00:20:04.134248Z",
     "iopub.status.busy": "2024-11-27T00:20:04.133873Z",
     "iopub.status.idle": "2024-11-27T00:20:04.151348Z",
     "shell.execute_reply": "2024-11-27T00:20:04.150307Z"
    },
    "papermill": {
     "duration": 0.036911,
     "end_time": "2024-11-27T00:20:04.153517",
     "exception": false,
     "start_time": "2024-11-27T00:20:04.116606",
     "status": "completed"
    },
    "tags": []
   },
   "outputs": [
    {
     "data": {
      "text/html": [
       "<div>\n",
       "<style scoped>\n",
       "    .dataframe tbody tr th:only-of-type {\n",
       "        vertical-align: middle;\n",
       "    }\n",
       "\n",
       "    .dataframe tbody tr th {\n",
       "        vertical-align: top;\n",
       "    }\n",
       "\n",
       "    .dataframe thead th {\n",
       "        text-align: right;\n",
       "    }\n",
       "</style>\n",
       "<table border=\"1\" class=\"dataframe\">\n",
       "  <thead>\n",
       "    <tr style=\"text-align: right;\">\n",
       "      <th>Cabin_l</th>\n",
       "      <th>A</th>\n",
       "      <th>B</th>\n",
       "      <th>C</th>\n",
       "      <th>D</th>\n",
       "      <th>E</th>\n",
       "      <th>F</th>\n",
       "      <th>G</th>\n",
       "    </tr>\n",
       "    <tr>\n",
       "      <th>Survived</th>\n",
       "      <th></th>\n",
       "      <th></th>\n",
       "      <th></th>\n",
       "      <th></th>\n",
       "      <th></th>\n",
       "      <th></th>\n",
       "      <th></th>\n",
       "    </tr>\n",
       "  </thead>\n",
       "  <tbody>\n",
       "    <tr>\n",
       "      <th>0</th>\n",
       "      <td>8</td>\n",
       "      <td>12</td>\n",
       "      <td>24</td>\n",
       "      <td>7</td>\n",
       "      <td>8</td>\n",
       "      <td>2</td>\n",
       "      <td>5</td>\n",
       "    </tr>\n",
       "    <tr>\n",
       "      <th>1</th>\n",
       "      <td>7</td>\n",
       "      <td>35</td>\n",
       "      <td>35</td>\n",
       "      <td>23</td>\n",
       "      <td>25</td>\n",
       "      <td>7</td>\n",
       "      <td>2</td>\n",
       "    </tr>\n",
       "  </tbody>\n",
       "</table>\n",
       "</div>"
      ],
      "text/plain": [
       "Cabin_l   A   B   C   D   E  F  G\n",
       "Survived                         \n",
       "0         8  12  24   7   8  2  5\n",
       "1         7  35  35  23  25  7  2"
      ]
     },
     "execution_count": 10,
     "metadata": {},
     "output_type": "execute_result"
    }
   ],
   "source": [
    "# Is there a relationship between Cabin and Survived?\n",
    "\n",
    "contingency_table = pd.crosstab(df_train['Survived'], df_train['Cabin_l'])\n",
    "\n",
    "contingency_table\n",
    "\n",
    "# Looking at the data, we see Cabins A, B, C, D, E, and G, but we don't have enough data to know if this is real.\n",
    "\n",
    "# Additionally, we only have this data for the first class passengers. We will make a decision to remove this data from the training DataFrame."
   ]
  },
  {
   "cell_type": "markdown",
   "id": "c55bd4a7",
   "metadata": {
    "papermill": {
     "duration": 0.016305,
     "end_time": "2024-11-27T00:20:04.186183",
     "exception": false,
     "start_time": "2024-11-27T00:20:04.169878",
     "status": "completed"
    },
    "tags": []
   },
   "source": [
    "Não foram encontrados padrões no primeiro momento, portanto, a coluna Cabin será excluída da análise."
   ]
  },
  {
   "cell_type": "markdown",
   "id": "dc41e607",
   "metadata": {
    "papermill": {
     "duration": 0.016476,
     "end_time": "2024-11-27T00:20:04.218859",
     "exception": false,
     "start_time": "2024-11-27T00:20:04.202383",
     "status": "completed"
    },
    "tags": []
   },
   "source": [
    "#### Análise dos dados categóricos"
   ]
  },
  {
   "cell_type": "code",
   "execution_count": 11,
   "id": "39ac2191",
   "metadata": {
    "execution": {
     "iopub.execute_input": "2024-11-27T00:20:04.254431Z",
     "iopub.status.busy": "2024-11-27T00:20:04.253582Z",
     "iopub.status.idle": "2024-11-27T00:20:04.261388Z",
     "shell.execute_reply": "2024-11-27T00:20:04.260328Z"
    },
    "papermill": {
     "duration": 0.027972,
     "end_time": "2024-11-27T00:20:04.263508",
     "exception": false,
     "start_time": "2024-11-27T00:20:04.235536",
     "status": "completed"
    },
    "tags": []
   },
   "outputs": [],
   "source": [
    "def plot_categorical_relationship(df, cat_var1, cat_var2, hue=None):\n",
    "\n",
    "    \"\"\"\n",
    "\n",
    "    Plota barplots para duas variáveis categóricas, com a segunda variável categórica representada em colunas.\n",
    "\n",
    "    \n",
    "\n",
    "    Parameters:\n",
    "\n",
    "        df (pd.DataFrame): O dataframe contendo as variáveis.\n",
    "\n",
    "        cat_var1 (str): Nome da primeira variável categórica.\n",
    "\n",
    "        cat_var2 (str): Nome da segunda variável categórica.\n",
    "\n",
    "        hue (str, optional): Nome da variável a ser usada para colorir as barras. Padrão é None.\n",
    "\n",
    "    \"\"\"\n",
    "\n",
    "    \n",
    "\n",
    "    # Verifica se as variáveis estão no DataFrame\n",
    "\n",
    "    if cat_var1 not in df.columns or cat_var2 not in df.columns:\n",
    "\n",
    "        raise ValueError(f\"As variáveis {cat_var1} ou {cat_var2} não estão no DataFrame.\")\n",
    "\n",
    "\n",
    "\n",
    "    # Cria o gráfico usando catplot\n",
    "\n",
    "    plt.figure(figsize=(12, 6))\n",
    "\n",
    "    sns.catplot(\n",
    "\n",
    "        data=df, \n",
    "\n",
    "        x=cat_var1, \n",
    "\n",
    "        kind='count', \n",
    "\n",
    "        col=cat_var2,\n",
    "\n",
    "        hue=hue,  # Adiciona hue como opcional\n",
    "\n",
    "        height=4, \n",
    "\n",
    "        aspect=0.7\n",
    "\n",
    "    )\n",
    "\n",
    "    \n",
    "\n",
    "    plt.subplots_adjust(top=0.8)\n",
    "\n",
    "    plt.suptitle(f'Relação entre {cat_var1} e {cat_var2}', fontsize=16)\n",
    "\n",
    "    \n",
    "\n",
    "    plt.show()"
   ]
  },
  {
   "cell_type": "code",
   "execution_count": 12,
   "id": "e2b8e473",
   "metadata": {
    "execution": {
     "iopub.execute_input": "2024-11-27T00:20:04.298459Z",
     "iopub.status.busy": "2024-11-27T00:20:04.298088Z",
     "iopub.status.idle": "2024-11-27T00:20:04.302753Z",
     "shell.execute_reply": "2024-11-27T00:20:04.301706Z"
    },
    "papermill": {
     "duration": 0.024232,
     "end_time": "2024-11-27T00:20:04.304729",
     "exception": false,
     "start_time": "2024-11-27T00:20:04.280497",
     "status": "completed"
    },
    "tags": []
   },
   "outputs": [],
   "source": [
    "col = ['Sex','Pclass','Embarked']"
   ]
  },
  {
   "cell_type": "code",
   "execution_count": 13,
   "id": "1c7930c0",
   "metadata": {
    "execution": {
     "iopub.execute_input": "2024-11-27T00:20:04.339502Z",
     "iopub.status.busy": "2024-11-27T00:20:04.338716Z",
     "iopub.status.idle": "2024-11-27T00:20:05.558177Z",
     "shell.execute_reply": "2024-11-27T00:20:05.557092Z"
    },
    "papermill": {
     "duration": 1.239215,
     "end_time": "2024-11-27T00:20:05.560473",
     "exception": false,
     "start_time": "2024-11-27T00:20:04.321258",
     "status": "completed"
    },
    "tags": []
   },
   "outputs": [
    {
     "data": {
      "text/plain": [
       "<Figure size 1200x600 with 0 Axes>"
      ]
     },
     "metadata": {},
     "output_type": "display_data"
    },
    {
     "data": {
      "image/png": "[encoded data removed]",
      "text/plain": [
       "<Figure size 560x400 with 2 Axes>"
      ]
     },
     "metadata": {},
     "output_type": "display_data"
    },
    {
     "data": {
      "text/plain": [
       "<Figure size 1200x600 with 0 Axes>"
      ]
     },
     "metadata": {},
     "output_type": "display_data"
    },
    {
     "data": {
      "image/png": "[encoded data removed]",
      "text/plain": [
       "<Figure size 560x400 with 2 Axes>"
      ]
     },
     "metadata": {},
     "output_type": "display_data"
    },
    {
     "data": {
      "text/plain": [
       "<Figure size 1200x600 with 0 Axes>"
      ]
     },
     "metadata": {},
     "output_type": "display_data"
    },
    {
     "data": {
      "image/png": "[encoded data removed]",
      "text/plain": [
       "<Figure size 560x400 with 2 Axes>"
      ]
     },
     "metadata": {},
     "output_type": "display_data"
    }
   ],
   "source": [
    "for var in col:\n",
    "\n",
    "    plot_categorical_relationship(df=df_train,cat_var1=var,cat_var2='Survived')"
   ]
  },
  {
   "cell_type": "markdown",
   "id": "5a635936",
   "metadata": {
    "papermill": {
     "duration": 0.018455,
     "end_time": "2024-11-27T00:20:05.597618",
     "exception": false,
     "start_time": "2024-11-27T00:20:05.579163",
     "status": "completed"
    },
    "tags": []
   },
   "source": [
    "Ao analisar os dados de sobrevivência em relação às variáveis categóricas, é possível obter alguns insights:\n",
    "\n",
    "- **Classe Social**: A classe social influencia significativamente na sobrevivência. A primeira classe tem a maior probabilidade de sobrevivência, seguida da segunda e terceira.\n",
    "\n",
    "- **Sexo**: O sexo também influencia significativamente na sobrevivência. O sexo feminino tem maior probabilidade de sobrevivência que o sexo masculino.\n",
    "\n",
    "- **Local de Embarcação**: O local de embarcação aparenta uma ligeira diferença em relação à sobrevivência, sendo o embarque em Cherbourg o local com maior probabilidade de sobrevivência. No entanto, existem dúvidas em relação à causalidade. Seria interessante estudar melhor esta variável e validar se influencia a sobrevivência através do teste qui-quadrado.\n"
   ]
  },
  {
   "cell_type": "code",
   "execution_count": 14,
   "id": "fe724bba",
   "metadata": {
    "execution": {
     "iopub.execute_input": "2024-11-27T00:20:05.635312Z",
     "iopub.status.busy": "2024-11-27T00:20:05.634482Z",
     "iopub.status.idle": "2024-11-27T00:20:06.241164Z",
     "shell.execute_reply": "2024-11-27T00:20:06.240143Z"
    },
    "papermill": {
     "duration": 0.627689,
     "end_time": "2024-11-27T00:20:06.243247",
     "exception": false,
     "start_time": "2024-11-27T00:20:05.615558",
     "status": "completed"
    },
    "tags": []
   },
   "outputs": [
    {
     "data": {
      "text/plain": [
       "<Figure size 1200x600 with 0 Axes>"
      ]
     },
     "metadata": {},
     "output_type": "display_data"
    },
    {
     "data": {
      "image/png": "[encoded data removed]",
      "text/plain": [
       "<Figure size 618.875x400 with 2 Axes>"
      ]
     },
     "metadata": {},
     "output_type": "display_data"
    }
   ],
   "source": [
    "# Será que a classe influencia na sobrevivência de acordo com o sexo?\n",
    "\n",
    "plot_categorical_relationship(df=df_train,cat_var1='Sex',cat_var2='Survived',hue='Pclass')"
   ]
  },
  {
   "cell_type": "markdown",
   "id": "c895c4eb",
   "metadata": {
    "papermill": {
     "duration": 0.018342,
     "end_time": "2024-11-27T00:20:06.281353",
     "exception": false,
     "start_time": "2024-11-27T00:20:06.263011",
     "status": "completed"
    },
    "tags": []
   },
   "source": [
    "Além do gênero, observou-se que a classe social também desempenha um papel significativo na probabilidade de sobrevivência. Passageiros das primeiras e segundas classes apresentam maiores chances de sobrevivência em comparação aos da terceira classe. Entre aqueles que sobreviveram, os homens têm uma probabilidade de sobrevivência inferior à das mulheres, mas ainda assim superior à dos passageiros do sexo masculino da terceira classe."
   ]
  },
  {
   "cell_type": "markdown",
   "id": "1fb7909a",
   "metadata": {
    "papermill": {
     "duration": 0.017979,
     "end_time": "2024-11-27T00:20:06.317841",
     "exception": false,
     "start_time": "2024-11-27T00:20:06.299862",
     "status": "completed"
    },
    "tags": []
   },
   "source": [
    "#### Teste do Qui-Quadrado\n",
    "\n",
    "\n",
    "\n",
    "O teste do Qui-Quadrado é uma ferramenta valiosa para analisar a relação entre variáveis categóricas e a variável alvo. \n",
    "\n",
    "\n",
    "\n",
    "Basicamente, a hipótese nula estabelece que as variáveis são estatisticamente independentes e não influenciam a variável alvo. Para testar essa hipótese, utiliza-se o valor de p (p-value). \n",
    "\n",
    "\n",
    "\n",
    "Se o p-value for menor que 0.05, podemos rejeitar a hipótese nula, indicando que há uma relação significativa entre a variável em questão e a variável alvo."
   ]
  },
  {
   "cell_type": "code",
   "execution_count": 15,
   "id": "6d8e564f",
   "metadata": {
    "execution": {
     "iopub.execute_input": "2024-11-27T00:20:06.356581Z",
     "iopub.status.busy": "2024-11-27T00:20:06.355665Z",
     "iopub.status.idle": "2024-11-27T00:20:06.362506Z",
     "shell.execute_reply": "2024-11-27T00:20:06.361543Z"
    },
    "papermill": {
     "duration": 0.028208,
     "end_time": "2024-11-27T00:20:06.364587",
     "exception": false,
     "start_time": "2024-11-27T00:20:06.336379",
     "status": "completed"
    },
    "tags": []
   },
   "outputs": [],
   "source": [
    "def chi_squared_test(df, target_variable):\n",
    "\n",
    "    \"\"\"\n",
    "\n",
    "    Realiza o teste do Qui-Quadrado para variáveis categóricas em relação à variável alvo.\n",
    "\n",
    "    \n",
    "\n",
    "    Parameters:\n",
    "\n",
    "        df (pd.DataFrame): DataFrame contendo as variáveis categóricas e a variável alvo.\n",
    "\n",
    "        target_variable (str): Nome da coluna da variável alvo categórica.\n",
    "\n",
    "        \n",
    "\n",
    "    Returns:\n",
    "\n",
    "        pd.Series: P-valores para cada variável independente em relação à variável alvo.\n",
    "\n",
    "    \"\"\"\n",
    "\n",
    "    # Cria uma cópia do DataFrame para evitar alterações no original\n",
    "\n",
    "    df_transform = df.copy()\n",
    "\n",
    "    \n",
    "\n",
    "    # Inicializa o LabelEncoder\n",
    "\n",
    "    labelencoder = LabelEncoder()\n",
    "\n",
    "    \n",
    "\n",
    "    # Loop por todas as colunas no DataFrame e aplica o LabelEncoder\n",
    "\n",
    "    for col in df_transform.columns:\n",
    "\n",
    "        df_transform[col] = labelencoder.fit_transform(df_transform[col])\n",
    "\n",
    "    \n",
    "\n",
    "    # Realiza o teste do Qui-Quadrado\n",
    "\n",
    "    chi2_values, p_values = chi2(df_transform.drop(columns=[target_variable]), df_transform[target_variable])\n",
    "\n",
    "    \n",
    "\n",
    "    # Cria um DataFrame com os p-valores\n",
    "\n",
    "    p_values_df = pd.Series(p_values, index=df_transform.drop(columns=[target_variable]).columns)\n",
    "\n",
    "    \n",
    "\n",
    "    return p_values_df\n"
   ]
  },
  {
   "cell_type": "code",
   "execution_count": 16,
   "id": "bc131c65",
   "metadata": {
    "execution": {
     "iopub.execute_input": "2024-11-27T00:20:06.403508Z",
     "iopub.status.busy": "2024-11-27T00:20:06.403112Z",
     "iopub.status.idle": "2024-11-27T00:20:06.425023Z",
     "shell.execute_reply": "2024-11-27T00:20:06.423994Z"
    },
    "papermill": {
     "duration": 0.044363,
     "end_time": "2024-11-27T00:20:06.427449",
     "exception": false,
     "start_time": "2024-11-27T00:20:06.383086",
     "status": "completed"
    },
    "tags": []
   },
   "outputs": [
    {
     "name": "stdout",
     "output_type": "stream",
     "text": [
      "Sex         6.077838e-22\n",
      "Pclass      1.581715e-13\n",
      "Embarked    1.787913e-03\n",
      "dtype: float64\n"
     ]
    }
   ],
   "source": [
    "p_values = chi_squared_test(df_train[col+['Survived']], 'Survived')\n",
    "\n",
    "print(p_values)"
   ]
  },
  {
   "cell_type": "markdown",
   "id": "c1fa9fa9",
   "metadata": {
    "papermill": {
     "duration": 0.018238,
     "end_time": "2024-11-27T00:20:06.464198",
     "exception": false,
     "start_time": "2024-11-27T00:20:06.445960",
     "status": "completed"
    },
    "tags": []
   },
   "source": [
    "Com base na análise gráfica e na validação por meio do teste do Qui-Quadrado, concluímos que as variáveis ['Pclass', 'Sex', 'Embarked'] têm influência na sobrevivência e, portanto, serão incluídas na modelagem do problema."
   ]
  },
  {
   "cell_type": "markdown",
   "id": "9b114874",
   "metadata": {
    "papermill": {
     "duration": 0.018108,
     "end_time": "2024-11-27T00:20:06.549765",
     "exception": false,
     "start_time": "2024-11-27T00:20:06.531657",
     "status": "completed"
    },
    "tags": []
   },
   "source": [
    "#### Análise dos dados numéricos"
   ]
  },
  {
   "cell_type": "markdown",
   "id": "d2f36d6d",
   "metadata": {
    "papermill": {
     "duration": 0.017901,
     "end_time": "2024-11-27T00:20:06.586052",
     "exception": false,
     "start_time": "2024-11-27T00:20:06.568151",
     "status": "completed"
    },
    "tags": []
   },
   "source": [
    "##### Distribuição"
   ]
  },
  {
   "cell_type": "code",
   "execution_count": 17,
   "id": "e13df385",
   "metadata": {
    "execution": {
     "iopub.execute_input": "2024-11-27T00:20:06.624482Z",
     "iopub.status.busy": "2024-11-27T00:20:06.623723Z",
     "iopub.status.idle": "2024-11-27T00:20:06.631859Z",
     "shell.execute_reply": "2024-11-27T00:20:06.630847Z"
    },
    "papermill": {
     "duration": 0.029732,
     "end_time": "2024-11-27T00:20:06.633861",
     "exception": false,
     "start_time": "2024-11-27T00:20:06.604129",
     "status": "completed"
    },
    "tags": []
   },
   "outputs": [],
   "source": [
    "def count_outliers(df, column):\n",
    "\n",
    "    \"\"\"\n",
    "\n",
    "    Conta o número de outliers em uma coluna utilizando o método IQR (Intervalo Interquartil).\n",
    "\n",
    "    \n",
    "\n",
    "    Parameters:\n",
    "\n",
    "        df (pd.DataFrame): DataFrame contendo os dados.\n",
    "\n",
    "        column (str): Nome da coluna para a qual contar os outliers.\n",
    "\n",
    "        \n",
    "\n",
    "    Returns:\n",
    "\n",
    "        int: Número de outliers encontrados.\n",
    "\n",
    "    \"\"\"\n",
    "\n",
    "    Q1 = df[column].quantile(0.25)\n",
    "\n",
    "    Q3 = df[column].quantile(0.75)\n",
    "\n",
    "    IQR = Q3 - Q1\n",
    "\n",
    "    \n",
    "\n",
    "    lower_bound = Q1 - 1.5 * IQR\n",
    "\n",
    "    upper_bound = Q3 + 1.5 * IQR\n",
    "\n",
    "    \n",
    "\n",
    "    return ((df[column] < lower_bound) | (df[column] > upper_bound)).sum()\n",
    "\n",
    "\n",
    "\n",
    "def plot_boxplots_with_outliers(df, columns):\n",
    "\n",
    "    \"\"\"\n",
    "\n",
    "    Plota boxplots para as colunas especificadas e exibe a contagem de outliers em cada gráfico.\n",
    "\n",
    "    \n",
    "\n",
    "    Parameters:\n",
    "\n",
    "        df (pd.DataFrame): DataFrame contendo os dados.\n",
    "\n",
    "        columns (list): Lista de colunas para plotar.\n",
    "\n",
    "    \"\"\"\n",
    "\n",
    "    # Cria subplots para os boxplots\n",
    "\n",
    "    fig, axes = plt.subplots(1, len(columns), figsize=(15, 5))\n",
    "\n",
    "\n",
    "\n",
    "    # Loop pelas colunas e cria boxplots\n",
    "\n",
    "    for ax, column in zip(axes, columns):\n",
    "\n",
    "        sns.boxplot(data=df, x=column, ax=ax)\n",
    "\n",
    "        outlier_count = count_outliers(df, column)\n",
    "\n",
    "        ax.set_title(f'{column} (Outliers: {outlier_count})')\n",
    "\n",
    "\n",
    "\n",
    "    plt.tight_layout()\n",
    "\n",
    "    plt.show()\n"
   ]
  },
  {
   "cell_type": "code",
   "execution_count": 18,
   "id": "7f170e4c",
   "metadata": {
    "execution": {
     "iopub.execute_input": "2024-11-27T00:20:06.672319Z",
     "iopub.status.busy": "2024-11-27T00:20:06.671926Z",
     "iopub.status.idle": "2024-11-27T00:20:07.321086Z",
     "shell.execute_reply": "2024-11-27T00:20:07.320108Z"
    },
    "papermill": {
     "duration": 0.671142,
     "end_time": "2024-11-27T00:20:07.323479",
     "exception": false,
     "start_time": "2024-11-27T00:20:06.652337",
     "status": "completed"
    },
    "tags": []
   },
   "outputs": [
    {
     "data": {
      "image/png": "[encoded data removed]",
      "text/plain": [
       "<Figure size 1500x500 with 4 Axes>"
      ]
     },
     "metadata": {},
     "output_type": "display_data"
    }
   ],
   "source": [
    "columns_to_analyze = ['Age', 'SibSp', 'Parch', 'Fare']\n",
    "\n",
    "plot_boxplots_with_outliers(df_train, columns_to_analyze)"
   ]
  },
  {
   "cell_type": "code",
   "execution_count": 19,
   "id": "846b847f",
   "metadata": {
    "execution": {
     "iopub.execute_input": "2024-11-27T00:20:07.363731Z",
     "iopub.status.busy": "2024-11-27T00:20:07.363338Z",
     "iopub.status.idle": "2024-11-27T00:20:07.370019Z",
     "shell.execute_reply": "2024-11-27T00:20:07.368839Z"
    },
    "papermill": {
     "duration": 0.029224,
     "end_time": "2024-11-27T00:20:07.372078",
     "exception": false,
     "start_time": "2024-11-27T00:20:07.342854",
     "status": "completed"
    },
    "tags": []
   },
   "outputs": [],
   "source": [
    "def count_outliers(df, column):\n",
    "\n",
    "    \"\"\"\n",
    "\n",
    "    Conta o número de outliers em uma coluna utilizando o método IQR (Intervalo Interquartil).\n",
    "\n",
    "    \n",
    "\n",
    "    Parameters:\n",
    "\n",
    "        df (pd.DataFrame): DataFrame contendo os dados.\n",
    "\n",
    "        column (str): Nome da coluna para a qual contar os outliers.\n",
    "\n",
    "        \n",
    "\n",
    "    Returns:\n",
    "\n",
    "        tuple: (número de outliers, limite inferior, limite superior)\n",
    "\n",
    "    \"\"\"\n",
    "\n",
    "    Q1 = df[column].quantile(0.25)\n",
    "\n",
    "    Q3 = df[column].quantile(0.75)\n",
    "\n",
    "    IQR = Q3 - Q1\n",
    "\n",
    "    \n",
    "\n",
    "    lower_bound = Q1 - 1.5 * IQR\n",
    "\n",
    "    upper_bound = Q3 + 1.5 * IQR\n",
    "\n",
    "    \n",
    "\n",
    "    outlier_count = ((df[column] < lower_bound) | (df[column] > upper_bound)).sum()\n",
    "\n",
    "    \n",
    "\n",
    "    return outlier_count, lower_bound, upper_bound\n",
    "\n",
    "\n"
   ]
  },
  {
   "cell_type": "code",
   "execution_count": 20,
   "id": "2521c917",
   "metadata": {
    "execution": {
     "iopub.execute_input": "2024-11-27T00:20:07.429407Z",
     "iopub.status.busy": "2024-11-27T00:20:07.428810Z",
     "iopub.status.idle": "2024-11-27T00:20:07.440152Z",
     "shell.execute_reply": "2024-11-27T00:20:07.439001Z"
    },
    "papermill": {
     "duration": 0.047568,
     "end_time": "2024-11-27T00:20:07.442935",
     "exception": false,
     "start_time": "2024-11-27T00:20:07.395367",
     "status": "completed"
    },
    "tags": []
   },
   "outputs": [],
   "source": [
    "def plot_boxplots_hist_kde(df, columns):\n",
    "\n",
    "    \"\"\"\n",
    "\n",
    "    Plota boxplots, histogramas e gráficos de densidade (KDE) para as colunas especificadas,\n",
    "\n",
    "    exibindo a contagem de outliers em cada gráfico.\n",
    "\n",
    "    \n",
    "\n",
    "    Parameters:\n",
    "\n",
    "        df (pd.DataFrame): DataFrame contendo os dados.\n",
    "\n",
    "        columns (list): Lista de colunas para plotar.\n",
    "\n",
    "    \"\"\"\n",
    "\n",
    "    # Cria subplots para os boxplots e histogramas\n",
    "\n",
    "    fig, axes = plt.subplots(len(columns), 2, figsize=(12, 5 * len(columns)))\n",
    "\n",
    "\n",
    "\n",
    "    # Loop pelas colunas e cria boxplots e histogramas\n",
    "\n",
    "    for i, column in enumerate(columns):\n",
    "\n",
    "        # Boxplot\n",
    "\n",
    "        sns.boxplot(data=df, x=column, ax=axes[i, 0])\n",
    "\n",
    "        outlier_count, lower_bound, upper_bound = count_outliers(df, column)\n",
    "\n",
    "        axes[i, 0].set_title(f'{column} (Outliers: {outlier_count})')\n",
    "\n",
    "\n",
    "\n",
    "        # Histograma e KDE\n",
    "\n",
    "        sns.histplot(data=df, x=column, kde=True, ax=axes[i, 1], bins=30)\n",
    "\n",
    "\n",
    "\n",
    "        # Adiciona linhas para limites de outliers no histograma\n",
    "\n",
    "        axes[i, 1].axvline(lower_bound, color='red', linestyle='dashed', linewidth=1.5, label='Limite Inferior')\n",
    "\n",
    "        axes[i, 1].axvline(upper_bound, color='green', linestyle='dashed', linewidth=1.5, label='Limite Superior')\n",
    "\n",
    "        \n",
    "\n",
    "        axes[i, 1].set_title(f'{column} - Histograma e KDE')\n",
    "\n",
    "        axes[i, 1].legend()\n",
    "\n",
    "\n",
    "\n",
    "        # Adiciona anotações para os limites no histograma\n",
    "\n",
    "        axes[i, 1].text(lower_bound, axes[i, 1].get_ylim()[1] * 0.9, 'Limite Inferior', color='red')\n",
    "\n",
    "        axes[i, 1].text(upper_bound, axes[i, 1].get_ylim()[1] * 0.9, 'Limite Superior', color='green')\n",
    "\n",
    "\n",
    "\n",
    "    plt.tight_layout()\n",
    "\n",
    "    plt.show()\n"
   ]
  },
  {
   "cell_type": "code",
   "execution_count": 21,
   "id": "1d1d1d4a",
   "metadata": {
    "execution": {
     "iopub.execute_input": "2024-11-27T00:20:07.488894Z",
     "iopub.status.busy": "2024-11-27T00:20:07.487956Z",
     "iopub.status.idle": "2024-11-27T00:20:09.685215Z",
     "shell.execute_reply": "2024-11-27T00:20:09.684054Z"
    },
    "papermill": {
     "duration": 2.222401,
     "end_time": "2024-11-27T00:20:09.688475",
     "exception": false,
     "start_time": "2024-11-27T00:20:07.466074",
     "status": "completed"
    },
    "tags": []
   },
   "outputs": [
    {
     "name": "stderr",
     "output_type": "stream",
     "text": [
      "/opt/conda/lib/python3.10/site-packages/seaborn/_oldcore.py:1119: FutureWarning: use_inf_as_na option is deprecated and will be removed in a future version. Convert inf values to NaN before operating instead.\n",
      "  with pd.option_context('mode.use_inf_as_na', True):\n",
      "/opt/conda/lib/python3.10/site-packages/seaborn/_oldcore.py:1119: FutureWarning: use_inf_as_na option is deprecated and will be removed in a future version. Convert inf values to NaN before operating instead.\n",
      "  with pd.option_context('mode.use_inf_as_na', True):\n",
      "/opt/conda/lib/python3.10/site-packages/seaborn/_oldcore.py:1119: FutureWarning: use_inf_as_na option is deprecated and will be removed in a future version. Convert inf values to NaN before operating instead.\n",
      "  with pd.option_context('mode.use_inf_as_na', True):\n",
      "/opt/conda/lib/python3.10/site-packages/seaborn/_oldcore.py:1119: FutureWarning: use_inf_as_na option is deprecated and will be removed in a future version. Convert inf values to NaN before operating instead.\n",
      "  with pd.option_context('mode.use_inf_as_na', True):\n"
     ]
    },
    {
     "data": {
      "image/png": "[encoded data removed]",
      "text/plain": [
       "<Figure size 1200x2000 with 8 Axes>"
      ]
     },
     "metadata": {},
     "output_type": "display_data"
    }
   ],
   "source": [
    "columns_to_analyze = ['Age', 'SibSp', 'Parch', 'Fare']\n",
    "\n",
    "plot_boxplots_hist_kde(df_train, columns_to_analyze)"
   ]
  },
  {
   "cell_type": "markdown",
   "id": "8d4300bd",
   "metadata": {
    "papermill": {
     "duration": 0.022089,
     "end_time": "2024-11-27T00:20:09.733419",
     "exception": false,
     "start_time": "2024-11-27T00:20:09.711330",
     "status": "completed"
    },
    "tags": []
   },
   "source": [
    "Análise dos Dados\n",
    "\n",
    "\n",
    "\n",
    "- **Parch**: \n",
    "\n",
    "  - Indica que pode ser simplificado em uma variável categórica.\n",
    "\n",
    "  - Exemplos de categorias: \n",
    "\n",
    "    - Com filhos \n",
    "\n",
    "    - Com um filho \n",
    "\n",
    "    - Sem filhos\n",
    "\n",
    "\n",
    "\n",
    "- **Fare**: \n",
    "\n",
    "  - A maioria dos valores está concentrada em valores baixos.\n",
    "\n",
    "  - Pode representar a classe do passageiro.\n",
    "\n",
    "  - É necessário estudar como `Fare` se relaciona com as variáveis `Pclass` e `Survived`.\n",
    "\n",
    "\n",
    "\n",
    "- **SibSp**: \n",
    "\n",
    "  - Há uma concentração significativa de valores em `0`.\n",
    "\n",
    "  - Pode ser transformado em uma variável categórica.\n",
    "\n",
    "  - Exemplos de categorias:\n",
    "\n",
    "    - Sozinho\n",
    "\n",
    "    - Família pequena\n",
    "\n",
    "    - Família grande\n",
    "\n",
    "\n",
    "\n",
    "- **Age**: \n",
    "\n",
    "  - Apresenta variações que podem permitir a categorização.\n",
    "\n",
    "  - Sugestões de categorias:\n",
    "\n",
    "    - Criança\n",
    "\n",
    "    - Adolescente\n",
    "\n",
    "    - Adulto\n",
    "\n",
    "    - Idoso\n"
   ]
  },
  {
   "cell_type": "markdown",
   "id": "73988631",
   "metadata": {
    "papermill": {
     "duration": 0.022258,
     "end_time": "2024-11-27T00:20:09.778035",
     "exception": false,
     "start_time": "2024-11-27T00:20:09.755777",
     "status": "completed"
    },
    "tags": []
   },
   "source": [
    "##### Correlação"
   ]
  },
  {
   "cell_type": "code",
   "execution_count": 22,
   "id": "a46b9569",
   "metadata": {
    "execution": {
     "iopub.execute_input": "2024-11-27T00:20:09.825074Z",
     "iopub.status.busy": "2024-11-27T00:20:09.824285Z",
     "iopub.status.idle": "2024-11-27T00:20:09.830585Z",
     "shell.execute_reply": "2024-11-27T00:20:09.829511Z"
    },
    "papermill": {
     "duration": 0.032174,
     "end_time": "2024-11-27T00:20:09.832628",
     "exception": false,
     "start_time": "2024-11-27T00:20:09.800454",
     "status": "completed"
    },
    "tags": []
   },
   "outputs": [],
   "source": [
    "def plot_correlation_heatmap(df):\n",
    "\n",
    "    \"\"\"\n",
    "\n",
    "    Plota um mapa de calor da correlação entre variáveis numéricas no DataFrame.\n",
    "\n",
    "    \n",
    "\n",
    "    Parameters:\n",
    "\n",
    "        df (pd.DataFrame): DataFrame contendo os dados.\n",
    "\n",
    "    \"\"\"\n",
    "\n",
    "    # Calcula a correlação entre as variáveis numéricas\n",
    "\n",
    "    correlation_matrix = df.select_dtypes(include=['number']).corr()\n",
    "\n",
    "\n",
    "\n",
    "    # Cria o mapa de calor\n",
    "\n",
    "    plt.figure(figsize=(10, 8))\n",
    "\n",
    "    sns.heatmap(correlation_matrix, annot=True, cmap='coolwarm', fmt='.2f', square=True, cbar_kws={\"shrink\": .8})\n",
    "\n",
    "    plt.title('Correlação entre Variáveis Numéricas')\n",
    "\n",
    "    plt.show()"
   ]
  },
  {
   "cell_type": "code",
   "execution_count": 23,
   "id": "227a73a9",
   "metadata": {
    "execution": {
     "iopub.execute_input": "2024-11-27T00:20:09.879815Z",
     "iopub.status.busy": "2024-11-27T00:20:09.879371Z",
     "iopub.status.idle": "2024-11-27T00:20:10.202207Z",
     "shell.execute_reply": "2024-11-27T00:20:10.200769Z"
    },
    "papermill": {
     "duration": 0.349742,
     "end_time": "2024-11-27T00:20:10.204626",
     "exception": false,
     "start_time": "2024-11-27T00:20:09.854884",
     "status": "completed"
    },
    "tags": []
   },
   "outputs": [
    {
     "data": {
      "image/png": "[encoded data removed]",
      "text/plain": [
       "<Figure size 1000x800 with 2 Axes>"
      ]
     },
     "metadata": {},
     "output_type": "display_data"
    }
   ],
   "source": [
    "plot_correlation_heatmap(df_train[['Age', 'SibSp', 'Parch','Fare']])\n"
   ]
  },
  {
   "cell_type": "code",
   "execution_count": 24,
   "id": "66d61f76",
   "metadata": {
    "execution": {
     "iopub.execute_input": "2024-11-27T00:20:10.254610Z",
     "iopub.status.busy": "2024-11-27T00:20:10.254204Z",
     "iopub.status.idle": "2024-11-27T00:20:16.445826Z",
     "shell.execute_reply": "2024-11-27T00:20:16.444549Z"
    },
    "papermill": {
     "duration": 6.221328,
     "end_time": "2024-11-27T00:20:16.449615",
     "exception": false,
     "start_time": "2024-11-27T00:20:10.228287",
     "status": "completed"
    },
    "tags": []
   },
   "outputs": [
    {
     "name": "stderr",
     "output_type": "stream",
     "text": [
      "/opt/conda/lib/python3.10/site-packages/seaborn/_oldcore.py:1119: FutureWarning: use_inf_as_na option is deprecated and will be removed in a future version. Convert inf values to NaN before operating instead.\n",
      "  with pd.option_context('mode.use_inf_as_na', True):\n",
      "/opt/conda/lib/python3.10/site-packages/seaborn/_oldcore.py:1075: FutureWarning: When grouping with a length-1 list-like, you will need to pass a length-1 tuple to get_group in a future version of pandas. Pass `(name,)` instead of `name` to silence this warning.\n",
      "  data_subset = grouped_data.get_group(pd_key)\n",
      "/opt/conda/lib/python3.10/site-packages/seaborn/_oldcore.py:1119: FutureWarning: use_inf_as_na option is deprecated and will be removed in a future version. Convert inf values to NaN before operating instead.\n",
      "  with pd.option_context('mode.use_inf_as_na', True):\n",
      "/opt/conda/lib/python3.10/site-packages/seaborn/_oldcore.py:1075: FutureWarning: When grouping with a length-1 list-like, you will need to pass a length-1 tuple to get_group in a future version of pandas. Pass `(name,)` instead of `name` to silence this warning.\n",
      "  data_subset = grouped_data.get_group(pd_key)\n",
      "/opt/conda/lib/python3.10/site-packages/seaborn/_oldcore.py:1075: FutureWarning: When grouping with a length-1 list-like, you will need to pass a length-1 tuple to get_group in a future version of pandas. Pass `(name,)` instead of `name` to silence this warning.\n",
      "  data_subset = grouped_data.get_group(pd_key)\n",
      "/opt/conda/lib/python3.10/site-packages/seaborn/_oldcore.py:1119: FutureWarning: use_inf_as_na option is deprecated and will be removed in a future version. Convert inf values to NaN before operating instead.\n",
      "  with pd.option_context('mode.use_inf_as_na', True):\n",
      "/opt/conda/lib/python3.10/site-packages/seaborn/_oldcore.py:1075: FutureWarning: When grouping with a length-1 list-like, you will need to pass a length-1 tuple to get_group in a future version of pandas. Pass `(name,)` instead of `name` to silence this warning.\n",
      "  data_subset = grouped_data.get_group(pd_key)\n",
      "/opt/conda/lib/python3.10/site-packages/seaborn/_oldcore.py:1075: FutureWarning: When grouping with a length-1 list-like, you will need to pass a length-1 tuple to get_group in a future version of pandas. Pass `(name,)` instead of `name` to silence this warning.\n",
      "  data_subset = grouped_data.get_group(pd_key)\n",
      "/opt/conda/lib/python3.10/site-packages/seaborn/_oldcore.py:1119: FutureWarning: use_inf_as_na option is deprecated and will be removed in a future version. Convert inf values to NaN before operating instead.\n",
      "  with pd.option_context('mode.use_inf_as_na', True):\n",
      "/opt/conda/lib/python3.10/site-packages/seaborn/_oldcore.py:1075: FutureWarning: When grouping with a length-1 list-like, you will need to pass a length-1 tuple to get_group in a future version of pandas. Pass `(name,)` instead of `name` to silence this warning.\n",
      "  data_subset = grouped_data.get_group(pd_key)\n"
     ]
    },
    {
     "data": {
      "text/plain": [
       "<seaborn.axisgrid.PairGrid at 0x7f9c3a563970>"
      ]
     },
     "execution_count": 24,
     "metadata": {},
     "output_type": "execute_result"
    },
    {
     "data": {
      "image/png": "[encoded data removed]",
      "text/plain": [
       "<Figure size 1072.11x1000 with 20 Axes>"
      ]
     },
     "metadata": {},
     "output_type": "display_data"
    }
   ],
   "source": [
    "sns.pairplot(df_train[['Age', 'SibSp', 'Parch', 'Fare', 'Survived']], hue='Survived')"
   ]
  },
  {
   "cell_type": "code",
   "execution_count": 25,
   "id": "99f2b875",
   "metadata": {
    "execution": {
     "iopub.execute_input": "2024-11-27T00:20:16.507695Z",
     "iopub.status.busy": "2024-11-27T00:20:16.507287Z",
     "iopub.status.idle": "2024-11-27T00:20:16.515126Z",
     "shell.execute_reply": "2024-11-27T00:20:16.513951Z"
    },
    "papermill": {
     "duration": 0.038927,
     "end_time": "2024-11-27T00:20:16.517162",
     "exception": false,
     "start_time": "2024-11-27T00:20:16.478235",
     "status": "completed"
    },
    "tags": []
   },
   "outputs": [],
   "source": [
    "def correlation_analysis(df, var1, var2, alpha=0.05):\n",
    "\n",
    "    \"\"\"\n",
    "\n",
    "    Calcula os coeficientes de correlação de Pearson e Spearman entre duas variáveis numéricas\n",
    "\n",
    "    e interpreta os resultados com base no nível de significância.\n",
    "\n",
    "\n",
    "\n",
    "    Parameters:\n",
    "\n",
    "        df (pd.DataFrame): O DataFrame que contém os dados.\n",
    "\n",
    "        var1 (str): Nome da primeira variável numérica.\n",
    "\n",
    "        var2 (str): Nome da segunda variável numérica.\n",
    "\n",
    "        alpha (float, opcional): Nível de significância para os testes. Padrão é 0.05.\n",
    "\n",
    "\n",
    "\n",
    "    Returns:\n",
    "\n",
    "        dict: Um dicionário contendo os coeficientes de correlação, p-valores e a interpretação.\n",
    "\n",
    "    \"\"\"\n",
    "\n",
    "    results = {}\n",
    "\n",
    "\n",
    "\n",
    "    # Coeficiente de Correlação de Pearson\n",
    "\n",
    "    pearson_corr, pearson_p_value = stats.pearsonr(df[var1], df[var2])\n",
    "\n",
    "    results['Pearson Correlation'] = pearson_corr\n",
    "\n",
    "    results['Pearson P-value'] = pearson_p_value\n",
    "\n",
    "\n",
    "\n",
    "    if pearson_p_value < alpha:\n",
    "\n",
    "        results['Pearson Test'] = \"Rejeita a hipótese nula: as variáveis não são independentes.\"\n",
    "\n",
    "    else:\n",
    "\n",
    "        results['Pearson Test'] = \"Não se rejeita a hipótese nula: as variáveis são independentes.\"\n",
    "\n",
    "\n",
    "\n",
    "    # Coeficiente de Correlação de Spearman\n",
    "\n",
    "    spearman_corr, spearman_p_value = stats.spearmanr(df[var1], df[var2])\n",
    "\n",
    "    results['Spearman Correlation'] = spearman_corr\n",
    "\n",
    "    results['Spearman P-value'] = spearman_p_value\n",
    "\n",
    "\n",
    "\n",
    "    if spearman_p_value < alpha:\n",
    "\n",
    "        results['Spearman Test'] = \"Rejeita a hipótese nula: as variáveis não são independentes.\"\n",
    "\n",
    "    else:\n",
    "\n",
    "        results['Spearman Test'] = \"Não se rejeita a hipótese nula: as variáveis são independentes.\"\n",
    "\n",
    "\n",
    "\n",
    "    return results"
   ]
  },
  {
   "cell_type": "code",
   "execution_count": 26,
   "id": "e3da7027",
   "metadata": {
    "execution": {
     "iopub.execute_input": "2024-11-27T00:20:16.572899Z",
     "iopub.status.busy": "2024-11-27T00:20:16.571746Z",
     "iopub.status.idle": "2024-11-27T00:20:16.583289Z",
     "shell.execute_reply": "2024-11-27T00:20:16.582135Z"
    },
    "papermill": {
     "duration": 0.04178,
     "end_time": "2024-11-27T00:20:16.585408",
     "exception": false,
     "start_time": "2024-11-27T00:20:16.543628",
     "status": "completed"
    },
    "tags": []
   },
   "outputs": [
    {
     "name": "stdout",
     "output_type": "stream",
     "text": [
      "Pearson Correlation: 0.4148376986201561\n",
      "Pearson P-value: 2.2418236681407813e-38\n",
      "Pearson Test: Rejeita a hipótese nula: as variáveis não são independentes.\n",
      "Spearman Correlation: 0.4500139710086164\n",
      "Spearman P-value: 1.226001634071391e-45\n",
      "Spearman Test: Rejeita a hipótese nula: as variáveis não são independentes.\n"
     ]
    }
   ],
   "source": [
    "results = correlation_analysis(df_train, 'SibSp', 'Parch')\n",
    "\n",
    "\n",
    "\n",
    "for key, value in results.items():\n",
    "\n",
    "    print(f\"{key}: {value}\")"
   ]
  },
  {
   "cell_type": "code",
   "execution_count": 27,
   "id": "f8b6e596",
   "metadata": {
    "execution": {
     "iopub.execute_input": "2024-11-27T00:20:16.640896Z",
     "iopub.status.busy": "2024-11-27T00:20:16.640481Z",
     "iopub.status.idle": "2024-11-27T00:20:16.651999Z",
     "shell.execute_reply": "2024-11-27T00:20:16.650904Z"
    },
    "papermill": {
     "duration": 0.042017,
     "end_time": "2024-11-27T00:20:16.654153",
     "exception": false,
     "start_time": "2024-11-27T00:20:16.612136",
     "status": "completed"
    },
    "tags": []
   },
   "outputs": [
    {
     "name": "stdout",
     "output_type": "stream",
     "text": [
      "Pearson Correlation: -0.3082467589236567\n",
      "Pearson P-value: 3.509025193784254e-17\n",
      "Pearson Test: Rejeita a hipótese nula: as variáveis não são independentes.\n",
      "Spearman Correlation: -0.1820612589179174\n",
      "Spearman P-value: 9.717194149362118e-07\n",
      "Spearman Test: Rejeita a hipótese nula: as variáveis não são independentes.\n"
     ]
    }
   ],
   "source": [
    "results = correlation_analysis(df_train[df_train['Age'].notna()], 'SibSp', 'Age')\n",
    "\n",
    "\n",
    "\n",
    "for key, value in results.items():\n",
    "\n",
    "    print(f\"{key}: {value}\")"
   ]
  },
  {
   "cell_type": "code",
   "execution_count": 28,
   "id": "5b59356c",
   "metadata": {
    "execution": {
     "iopub.execute_input": "2024-11-27T00:20:16.710594Z",
     "iopub.status.busy": "2024-11-27T00:20:16.710220Z",
     "iopub.status.idle": "2024-11-27T00:20:16.721774Z",
     "shell.execute_reply": "2024-11-27T00:20:16.720492Z"
    },
    "papermill": {
     "duration": 0.042959,
     "end_time": "2024-11-27T00:20:16.724143",
     "exception": false,
     "start_time": "2024-11-27T00:20:16.681184",
     "status": "completed"
    },
    "tags": []
   },
   "outputs": [
    {
     "name": "stdout",
     "output_type": "stream",
     "text": [
      "Pearson Correlation: -0.18911926263203496\n",
      "Pearson P-value: 3.5699493882886996e-07\n",
      "Pearson Test: Rejeita a hipótese nula: as variáveis não são independentes.\n",
      "Spearman Correlation: -0.25421211743018024\n",
      "Spearman P-value: 5.408556597051214e-12\n",
      "Spearman Test: Rejeita a hipótese nula: as variáveis não são independentes.\n"
     ]
    }
   ],
   "source": [
    "results = correlation_analysis(df_train[df_train['Age'].notna()], 'Parch', 'Age')\n",
    "\n",
    "\n",
    "\n",
    "for key, value in results.items():\n",
    "\n",
    "    print(f\"{key}: {value}\")"
   ]
  },
  {
   "cell_type": "markdown",
   "id": "c851ef26",
   "metadata": {
    "papermill": {
     "duration": 0.027671,
     "end_time": "2024-11-27T00:20:16.779565",
     "exception": false,
     "start_time": "2024-11-27T00:20:16.751894",
     "status": "completed"
    },
    "tags": []
   },
   "source": [
    "As variáveis ['Age','SibSp','Parch'] apresentam dependência."
   ]
  },
  {
   "cell_type": "markdown",
   "id": "2860b464",
   "metadata": {
    "papermill": {
     "duration": 0.026968,
     "end_time": "2024-11-27T00:20:16.834611",
     "exception": false,
     "start_time": "2024-11-27T00:20:16.807643",
     "status": "completed"
    },
    "tags": []
   },
   "source": [
    "### Associação"
   ]
  },
  {
   "cell_type": "code",
   "execution_count": 29,
   "id": "f6d3894c",
   "metadata": {
    "execution": {
     "iopub.execute_input": "2024-11-27T00:20:16.891099Z",
     "iopub.status.busy": "2024-11-27T00:20:16.890667Z",
     "iopub.status.idle": "2024-11-27T00:20:16.895486Z",
     "shell.execute_reply": "2024-11-27T00:20:16.894357Z"
    },
    "papermill": {
     "duration": 0.035719,
     "end_time": "2024-11-27T00:20:16.897699",
     "exception": false,
     "start_time": "2024-11-27T00:20:16.861980",
     "status": "completed"
    },
    "tags": []
   },
   "outputs": [],
   "source": [
    "# Saber se o Fare deve ser representado por Pclass e vice-versa. Ignorar Fare?"
   ]
  },
  {
   "cell_type": "markdown",
   "id": "0b7970f5",
   "metadata": {
    "papermill": {
     "duration": 0.02661,
     "end_time": "2024-11-27T00:20:16.951535",
     "exception": false,
     "start_time": "2024-11-27T00:20:16.924925",
     "status": "completed"
    },
    "tags": []
   },
   "source": [
    "## 3. Preparação dos Dados (Data Preparation)\n",
    "\n",
    "- **Seleção de Dados:** Escolher as colunas ou features que são relevantes para o problema, descartando as que não contribuem.\n",
    "\n",
    "- **Limpeza de Dados:** Tratar valores ausentes, duplicados, ou inconsistentes de maneira adequada (ex.: preenchimento, exclusão ou imputação).\n",
    "\n",
    "- **Transformação de Dados:** Realizar transformações nos dados, como codificação de variáveis categóricas (One-Hot Encoding), normalização ou padronização de variáveis numéricas.\n",
    "\n",
    "- **Criação de Novas Features (Feature Engineering):** Criar novas variáveis ou transformar variáveis existentes para melhor representar o problema (ex.: combinação de variáveis, transformação de colunas temporais, categorias de idade)."
   ]
  },
  {
   "cell_type": "markdown",
   "id": "e9682d86",
   "metadata": {
    "papermill": {
     "duration": 0.027116,
     "end_time": "2024-11-27T00:20:17.005537",
     "exception": false,
     "start_time": "2024-11-27T00:20:16.978421",
     "status": "completed"
    },
    "tags": []
   },
   "source": [
    "### Seleção de Dados"
   ]
  },
  {
   "cell_type": "code",
   "execution_count": 30,
   "id": "88e06651",
   "metadata": {
    "execution": {
     "iopub.execute_input": "2024-11-27T00:20:17.062481Z",
     "iopub.status.busy": "2024-11-27T00:20:17.061702Z",
     "iopub.status.idle": "2024-11-27T00:20:17.068132Z",
     "shell.execute_reply": "2024-11-27T00:20:17.067037Z"
    },
    "papermill": {
     "duration": 0.037862,
     "end_time": "2024-11-27T00:20:17.070232",
     "exception": false,
     "start_time": "2024-11-27T00:20:17.032370",
     "status": "completed"
    },
    "tags": []
   },
   "outputs": [],
   "source": [
    "# - Name, PassengerId, Ticket and Cabin aren't important for causal effects and can be removed.\n",
    "\n",
    "# Drop the columns from the DataFrame\n",
    "\n",
    "df_train.drop(columns=['Name','Ticket','Cabin_l','Cabin_n','Cabin'], inplace=True)"
   ]
  },
  {
   "cell_type": "markdown",
   "id": "df7b42e4",
   "metadata": {
    "papermill": {
     "duration": 0.027141,
     "end_time": "2024-11-27T00:20:17.124662",
     "exception": false,
     "start_time": "2024-11-27T00:20:17.097521",
     "status": "completed"
    },
    "tags": []
   },
   "source": [
    "### Limpeza de Dados"
   ]
  },
  {
   "cell_type": "markdown",
   "id": "bb8fdeb7",
   "metadata": {
    "papermill": {
     "duration": 0.02658,
     "end_time": "2024-11-27T00:20:17.178233",
     "exception": false,
     "start_time": "2024-11-27T00:20:17.151653",
     "status": "completed"
    },
    "tags": []
   },
   "source": [
    "Os outliers não serão removidos"
   ]
  },
  {
   "cell_type": "code",
   "execution_count": 31,
   "id": "80144046",
   "metadata": {
    "execution": {
     "iopub.execute_input": "2024-11-27T00:20:17.233754Z",
     "iopub.status.busy": "2024-11-27T00:20:17.233360Z",
     "iopub.status.idle": "2024-11-27T00:20:17.243419Z",
     "shell.execute_reply": "2024-11-27T00:20:17.242360Z"
    },
    "papermill": {
     "duration": 0.040015,
     "end_time": "2024-11-27T00:20:17.245301",
     "exception": false,
     "start_time": "2024-11-27T00:20:17.205286",
     "status": "completed"
    },
    "tags": []
   },
   "outputs": [
    {
     "name": "stdout",
     "output_type": "stream",
     "text": [
      "Moda: S\n",
      "\n"
     ]
    },
    {
     "data": {
      "text/plain": [
       "0"
      ]
     },
     "execution_count": 31,
     "metadata": {},
     "output_type": "execute_result"
    }
   ],
   "source": [
    "# A moda é um valor representativo relacionado ao local de embarque. Como há apenas alguns dados ausentes, vamos preencher os valores nulos com a moda.\n",
    "\n",
    "\n",
    "\n",
    "moda_embarked = df_train['Embarked'].mode()[0]\n",
    "\n",
    "print(f'Moda: {moda_embarked}\\n')\n",
    "\n",
    "# Preencher os valores nulos com a moda\n",
    "\n",
    "df_train['Embarked'] = df_train['Embarked'].fillna(moda_embarked)\n",
    "\n",
    "df_train['Embarked'].isna().sum()"
   ]
  },
  {
   "cell_type": "code",
   "execution_count": 32,
   "id": "7d54bc65",
   "metadata": {
    "execution": {
     "iopub.execute_input": "2024-11-27T00:20:17.300957Z",
     "iopub.status.busy": "2024-11-27T00:20:17.300504Z",
     "iopub.status.idle": "2024-11-27T00:20:17.310732Z",
     "shell.execute_reply": "2024-11-27T00:20:17.309689Z"
    },
    "papermill": {
     "duration": 0.040824,
     "end_time": "2024-11-27T00:20:17.312960",
     "exception": false,
     "start_time": "2024-11-27T00:20:17.272136",
     "status": "completed"
    },
    "tags": []
   },
   "outputs": [
    {
     "name": "stdout",
     "output_type": "stream",
     "text": [
      "Mediana: 29.69911764705882\n",
      "\n"
     ]
    },
    {
     "data": {
      "text/plain": [
       "0"
      ]
     },
     "execution_count": 32,
     "metadata": {},
     "output_type": "execute_result"
    }
   ],
   "source": [
    "# A mediana em relação a idade, pode ser representativo\n",
    "\n",
    "\n",
    "\n",
    "mediana_idade = df_train['Age'].mean()\n",
    "\n",
    "print(f'Mediana: {mediana_idade}\\n')\n",
    "\n",
    "\n",
    "\n",
    "# Preencher os valores nulos com a mediana\n",
    "\n",
    "df_train['Age'] = df_train['Age'].fillna(mediana_idade)\n",
    "\n",
    "df_train['Age'].isna().sum()"
   ]
  },
  {
   "cell_type": "code",
   "execution_count": 33,
   "id": "e6ce94d0",
   "metadata": {
    "execution": {
     "iopub.execute_input": "2024-11-27T00:20:17.370901Z",
     "iopub.status.busy": "2024-11-27T00:20:17.370457Z",
     "iopub.status.idle": "2024-11-27T00:20:17.377628Z",
     "shell.execute_reply": "2024-11-27T00:20:17.376588Z"
    },
    "papermill": {
     "duration": 0.038821,
     "end_time": "2024-11-27T00:20:17.379761",
     "exception": false,
     "start_time": "2024-11-27T00:20:17.340940",
     "status": "completed"
    },
    "tags": []
   },
   "outputs": [],
   "source": [
    "def show_mode_and_median(df: pd.DataFrame):\n",
    "\n",
    "    \"\"\"\n",
    "\n",
    "    Mostra a moda e a mediana de todas as colunas em um DataFrame.\n",
    "\n",
    "    \n",
    "\n",
    "    Parâmetros:\n",
    "\n",
    "        df (pd.DataFrame): DataFrame contendo os dados.\n",
    "\n",
    "        \n",
    "\n",
    "    Retorna:\n",
    "\n",
    "        None: Exibe os resultados no console.\n",
    "\n",
    "    \"\"\"\n",
    "\n",
    "    print(\"Resumo de Moda e Mediana por Coluna:\\n\")\n",
    "\n",
    "    \n",
    "\n",
    "    for column in df.columns:\n",
    "\n",
    "        print(f\"Coluna: {column}\")\n",
    "\n",
    "        \n",
    "\n",
    "        # Moda\n",
    "\n",
    "        mode = df[column].mode()\n",
    "\n",
    "        if not mode.empty:\n",
    "\n",
    "            print(f\"  Moda: {', '.join(map(str, mode.tolist()))}\")\n",
    "\n",
    "        else:\n",
    "\n",
    "            print(\"  Moda: Nenhuma (coluna vazia)\")\n",
    "\n",
    "        \n",
    "\n",
    "        # Mediana (somente para colunas numéricas)\n",
    "\n",
    "        if pd.api.types.is_numeric_dtype(df[column]):\n",
    "\n",
    "            median = df[column].median()\n",
    "\n",
    "            print(f\"  Mediana: {median}\")\n",
    "\n",
    "        else:\n",
    "\n",
    "            print(\"  Mediana: Não aplicável para colunas não numéricas\")\n",
    "\n",
    "        \n",
    "\n",
    "        print(\"-\" * 40)"
   ]
  },
  {
   "cell_type": "code",
   "execution_count": 34,
   "id": "235ae009",
   "metadata": {
    "execution": {
     "iopub.execute_input": "2024-11-27T00:20:17.440963Z",
     "iopub.status.busy": "2024-11-27T00:20:17.440510Z",
     "iopub.status.idle": "2024-11-27T00:20:17.456423Z",
     "shell.execute_reply": "2024-11-27T00:20:17.455298Z"
    },
    "papermill": {
     "duration": 0.049155,
     "end_time": "2024-11-27T00:20:17.458987",
     "exception": false,
     "start_time": "2024-11-27T00:20:17.409832",
     "status": "completed"
    },
    "tags": []
   },
   "outputs": [
    {
     "name": "stdout",
     "output_type": "stream",
     "text": [
      "Resumo de Moda e Mediana por Coluna:\n",
      "\n",
      "Coluna: PassengerId\n",
      "  Moda: 1, 2, 3, 4, 5, 6, 7, 8, 9, 10, 11, 12, 13, 14, 15, 16, 17, 18, 19, 20, 21, 22, 23, 24, 25, 26, 27, 28, 29, 30, 31, 32, 33, 34, 35, 36, 37, 38, 39, 40, 41, 42, 43, 44, 45, 46, 47, 48, 49, 50, 51, 52, 53, 54, 55, 56, 57, 58, 59, 60, 61, 62, 63, 64, 65, 66, 67, 68, 69, 70, 71, 72, 73, 74, 75, 76, 77, 78, 79, 80, 81, 82, 83, 84, 85, 86, 87, 88, 89, 90, 91, 92, 93, 94, 95, 96, 97, 98, 99, 100, 101, 102, 103, 104, 105, 106, 107, 108, 109, 110, 111, 112, 113, 114, 115, 116, 117, 118, 119, 120, 121, 122, 123, 124, 125, 126, 127, 128, 129, 130, 131, 132, 133, 134, 135, 136, 137, 138, 139, 140, 141, 142, 143, 144, 145, 146, 147, 148, 149, 150, 151, 152, 153, 154, 155, 156, 157, 158, 159, 160, 161, 162, 163, 164, 165, 166, 167, 168, 169, 170, 171, 172, 173, 174, 175, 176, 177, 178, 179, 180, 181, 182, 183, 184, 185, 186, 187, 188, 189, 190, 191, 192, 193, 194, 195, 196, 197, 198, 199, 200, 201, 202, 203, 204, 205, 206, 207, 208, 209, 210, 211, 212, 213, 214, 215, 216, 217, 218, 219, 220, 221, 222, 223, 224, 225, 226, 227, 228, 229, 230, 231, 232, 233, 234, 235, 236, 237, 238, 239, 240, 241, 242, 243, 244, 245, 246, 247, 248, 249, 250, 251, 252, 253, 254, 255, 256, 257, 258, 259, 260, 261, 262, 263, 264, 265, 266, 267, 268, 269, 270, 271, 272, 273, 274, 275, 276, 277, 278, 279, 280, 281, 282, 283, 284, 285, 286, 287, 288, 289, 290, 291, 292, 293, 294, 295, 296, 297, 298, 299, 300, 301, 302, 303, 304, 305, 306, 307, 308, 309, 310, 311, 312, 313, 314, 315, 316, 317, 318, 319, 320, 321, 322, 323, 324, 325, 326, 327, 328, 329, 330, 331, 332, 333, 334, 335, 336, 337, 338, 339, 340, 341, 342, 343, 344, 345, 346, 347, 348, 349, 350, 351, 352, 353, 354, 355, 356, 357, 358, 359, 360, 361, 362, 363, 364, 365, 366, 367, 368, 369, 370, 371, 372, 373, 374, 375, 376, 377, 378, 379, 380, 381, 382, 383, 384, 385, 386, 387, 388, 389, 390, 391, 392, 393, 394, 395, 396, 397, 398, 399, 400, 401, 402, 403, 404, 405, 406, 407, 408, 409, 410, 411, 412, 413, 414, 415, 416, 417, 418, 419, 420, 421, 422, 423, 424, 425, 426, 427, 428, 429, 430, 431, 432, 433, 434, 435, 436, 437, 438, 439, 440, 441, 442, 443, 444, 445, 446, 447, 448, 449, 450, 451, 452, 453, 454, 455, 456, 457, 458, 459, 460, 461, 462, 463, 464, 465, 466, 467, 468, 469, 470, 471, 472, 473, 474, 475, 476, 477, 478, 479, 480, 481, 482, 483, 484, 485, 486, 487, 488, 489, 490, 491, 492, 493, 494, 495, 496, 497, 498, 499, 500, 501, 502, 503, 504, 505, 506, 507, 508, 509, 510, 511, 512, 513, 514, 515, 516, 517, 518, 519, 520, 521, 522, 523, 524, 525, 526, 527, 528, 529, 530, 531, 532, 533, 534, 535, 536, 537, 538, 539, 540, 541, 542, 543, 544, 545, 546, 547, 548, 549, 550, 551, 552, 553, 554, 555, 556, 557, 558, 559, 560, 561, 562, 563, 564, 565, 566, 567, 568, 569, 570, 571, 572, 573, 574, 575, 576, 577, 578, 579, 580, 581, 582, 583, 584, 585, 586, 587, 588, 589, 590, 591, 592, 593, 594, 595, 596, 597, 598, 599, 600, 601, 602, 603, 604, 605, 606, 607, 608, 609, 610, 611, 612, 613, 614, 615, 616, 617, 618, 619, 620, 621, 622, 623, 624, 625, 626, 627, 628, 629, 630, 631, 632, 633, 634, 635, 636, 637, 638, 639, 640, 641, 642, 643, 644, 645, 646, 647, 648, 649, 650, 651, 652, 653, 654, 655, 656, 657, 658, 659, 660, 661, 662, 663, 664, 665, 666, 667, 668, 669, 670, 671, 672, 673, 674, 675, 676, 677, 678, 679, 680, 681, 682, 683, 684, 685, 686, 687, 688, 689, 690, 691, 692, 693, 694, 695, 696, 697, 698, 699, 700, 701, 702, 703, 704, 705, 706, 707, 708, 709, 710, 711, 712, 713, 714, 715, 716, 717, 718, 719, 720, 721, 722, 723, 724, 725, 726, 727, 728, 729, 730, 731, 732, 733, 734, 735, 736, 737, 738, 739, 740, 741, 742, 743, 744, 745, 746, 747, 748, 749, 750, 751, 752, 753, 754, 755, 756, 757, 758, 759, 760, 761, 762, 763, 764, 765, 766, 767, 768, 769, 770, 771, 772, 773, 774, 775, 776, 777, 778, 779, 780, 781, 782, 783, 784, 785, 786, 787, 788, 789, 790, 791, 792, 793, 794, 795, 796, 797, 798, 799, 800, 801, 802, 803, 804, 805, 806, 807, 808, 809, 810, 811, 812, 813, 814, 815, 816, 817, 818, 819, 820, 821, 822, 823, 824, 825, 826, 827, 828, 829, 830, 831, 832, 833, 834, 835, 836, 837, 838, 839, 840, 841, 842, 843, 844, 845, 846, 847, 848, 849, 850, 851, 852, 853, 854, 855, 856, 857, 858, 859, 860, 861, 862, 863, 864, 865, 866, 867, 868, 869, 870, 871, 872, 873, 874, 875, 876, 877, 878, 879, 880, 881, 882, 883, 884, 885, 886, 887, 888, 889, 890, 891\n",
      "  Mediana: 446.0\n",
      "----------------------------------------\n",
      "Coluna: Survived\n",
      "  Moda: 0\n",
      "  Mediana: 0.0\n",
      "----------------------------------------\n",
      "Coluna: Pclass\n",
      "  Moda: 3\n",
      "  Mediana: 3.0\n",
      "----------------------------------------\n",
      "Coluna: Sex\n",
      "  Moda: male\n",
      "  Mediana: Não aplicável para colunas não numéricas\n",
      "----------------------------------------\n",
      "Coluna: Age\n",
      "  Moda: 29.69911764705882\n",
      "  Mediana: 29.69911764705882\n",
      "----------------------------------------\n",
      "Coluna: SibSp\n",
      "  Moda: 0\n",
      "  Mediana: 0.0\n",
      "----------------------------------------\n",
      "Coluna: Parch\n",
      "  Moda: 0\n",
      "  Mediana: 0.0\n",
      "----------------------------------------\n",
      "Coluna: Fare\n",
      "  Moda: 8.05\n",
      "  Mediana: 14.4542\n",
      "----------------------------------------\n",
      "Coluna: Embarked\n",
      "  Moda: S\n",
      "  Mediana: Não aplicável para colunas não numéricas\n",
      "----------------------------------------\n"
     ]
    }
   ],
   "source": [
    "show_mode_and_median(df_train)"
   ]
  },
  {
   "cell_type": "code",
   "execution_count": 35,
   "id": "ee587797",
   "metadata": {
    "execution": {
     "iopub.execute_input": "2024-11-27T00:20:17.526582Z",
     "iopub.status.busy": "2024-11-27T00:20:17.526094Z",
     "iopub.status.idle": "2024-11-27T00:20:17.535556Z",
     "shell.execute_reply": "2024-11-27T00:20:17.534410Z"
    },
    "papermill": {
     "duration": 0.051142,
     "end_time": "2024-11-27T00:20:17.538541",
     "exception": false,
     "start_time": "2024-11-27T00:20:17.487399",
     "status": "completed"
    },
    "tags": []
   },
   "outputs": [],
   "source": [
    "# Remoção de dados duplicados para balancear o modelo\n",
    "\n",
    "df_train.drop_duplicates(inplace=True)"
   ]
  },
  {
   "cell_type": "markdown",
   "id": "4ceea389",
   "metadata": {
    "papermill": {
     "duration": 0.02749,
     "end_time": "2024-11-27T00:20:17.601405",
     "exception": false,
     "start_time": "2024-11-27T00:20:17.573915",
     "status": "completed"
    },
    "tags": []
   },
   "source": [
    "### Transformação de Dados"
   ]
  },
  {
   "cell_type": "code",
   "execution_count": 36,
   "id": "d6d07c65",
   "metadata": {
    "execution": {
     "iopub.execute_input": "2024-11-27T00:20:17.659343Z",
     "iopub.status.busy": "2024-11-27T00:20:17.658608Z",
     "iopub.status.idle": "2024-11-27T00:20:17.670854Z",
     "shell.execute_reply": "2024-11-27T00:20:17.669710Z"
    },
    "papermill": {
     "duration": 0.044068,
     "end_time": "2024-11-27T00:20:17.673186",
     "exception": false,
     "start_time": "2024-11-27T00:20:17.629118",
     "status": "completed"
    },
    "tags": []
   },
   "outputs": [
    {
     "name": "stdout",
     "output_type": "stream",
     "text": [
      "<class 'pandas.core.frame.DataFrame'>\n",
      "RangeIndex: 891 entries, 0 to 890\n",
      "Data columns (total 9 columns):\n",
      " #   Column       Non-Null Count  Dtype  \n",
      "---  ------       --------------  -----  \n",
      " 0   PassengerId  891 non-null    int64  \n",
      " 1   Survived     891 non-null    int64  \n",
      " 2   Pclass       891 non-null    int64  \n",
      " 3   Sex          891 non-null    object \n",
      " 4   Age          891 non-null    float64\n",
      " 5   SibSp        891 non-null    int64  \n",
      " 6   Parch        891 non-null    int64  \n",
      " 7   Fare         891 non-null    float64\n",
      " 8   Embarked     891 non-null    object \n",
      "dtypes: float64(2), int64(5), object(2)\n",
      "memory usage: 62.8+ KB\n"
     ]
    }
   ],
   "source": [
    "df_train.info()"
   ]
  },
  {
   "cell_type": "code",
   "execution_count": 37,
   "id": "db3f742a",
   "metadata": {
    "execution": {
     "iopub.execute_input": "2024-11-27T00:20:17.729516Z",
     "iopub.status.busy": "2024-11-27T00:20:17.728953Z",
     "iopub.status.idle": "2024-11-27T00:20:17.740291Z",
     "shell.execute_reply": "2024-11-27T00:20:17.739183Z"
    },
    "papermill": {
     "duration": 0.042221,
     "end_time": "2024-11-27T00:20:17.742666",
     "exception": false,
     "start_time": "2024-11-27T00:20:17.700445",
     "status": "completed"
    },
    "tags": []
   },
   "outputs": [],
   "source": [
    "# Variaveis de entrada\n",
    "\n",
    "df_train['Pclass'] = df_train['Pclass'].astype('category')\n",
    "\n",
    "df_train['Embarked'] = df_train['Embarked'].astype('category')\n",
    "\n",
    "df_train['Sex'] = df_train['Sex'].astype('category')\n",
    "\n",
    "df_train['Age'] = df_train['Age'].astype(int)\n",
    "\n",
    "df_train['SibSp'] = df_train['SibSp'].astype(int)\n",
    "\n",
    "df_train['Parch'] = df_train['Parch'].astype(int)\n",
    "\n",
    "df_train['Fare'] = df_train['Fare'].astype(float)"
   ]
  },
  {
   "cell_type": "code",
   "execution_count": 38,
   "id": "ac519524",
   "metadata": {
    "execution": {
     "iopub.execute_input": "2024-11-27T00:20:17.800996Z",
     "iopub.status.busy": "2024-11-27T00:20:17.799925Z",
     "iopub.status.idle": "2024-11-27T00:20:17.807097Z",
     "shell.execute_reply": "2024-11-27T00:20:17.805984Z"
    },
    "papermill": {
     "duration": 0.038144,
     "end_time": "2024-11-27T00:20:17.809232",
     "exception": false,
     "start_time": "2024-11-27T00:20:17.771088",
     "status": "completed"
    },
    "tags": []
   },
   "outputs": [],
   "source": [
    "# Variaveis de saída\n",
    "\n",
    "df_train['PassengerId'] = df_train['PassengerId'].astype(str)\n",
    "\n",
    "df_train['Survived'] = df_train['Survived'].astype('category')"
   ]
  },
  {
   "cell_type": "markdown",
   "id": "44b97422",
   "metadata": {
    "papermill": {
     "duration": 0.027006,
     "end_time": "2024-11-27T00:20:17.863532",
     "exception": false,
     "start_time": "2024-11-27T00:20:17.836526",
     "status": "completed"
    },
    "tags": []
   },
   "source": [
    "### Feature Engineering"
   ]
  },
  {
   "cell_type": "markdown",
   "id": "70c3c37d",
   "metadata": {
    "papermill": {
     "duration": 0.026995,
     "end_time": "2024-11-27T00:20:17.918521",
     "exception": false,
     "start_time": "2024-11-27T00:20:17.891526",
     "status": "completed"
    },
    "tags": []
   },
   "source": [
    "#### Transformando Idade em Categorias\n",
    "\n",
    "\n",
    "\n",
    "- **Age**: \n",
    "\n",
    "  - Apresenta variações que podem permitir a categorização.\n",
    "\n",
    "  - Sugestões de categorias:\n",
    "\n",
    "    - Criança\n",
    "\n",
    "    - Adolescente\n",
    "\n",
    "    - Adulto\n",
    "\n",
    "    - Meia idade\n",
    "\n",
    "    - Idoso"
   ]
  },
  {
   "cell_type": "code",
   "execution_count": 39,
   "id": "7f3a68fb",
   "metadata": {
    "execution": {
     "iopub.execute_input": "2024-11-27T00:20:17.975347Z",
     "iopub.status.busy": "2024-11-27T00:20:17.974240Z",
     "iopub.status.idle": "2024-11-27T00:20:17.994965Z",
     "shell.execute_reply": "2024-11-27T00:20:17.993556Z"
    },
    "papermill": {
     "duration": 0.051133,
     "end_time": "2024-11-27T00:20:17.997138",
     "exception": false,
     "start_time": "2024-11-27T00:20:17.946005",
     "status": "completed"
    },
    "tags": []
   },
   "outputs": [
    {
     "data": {
      "text/html": [
       "<div>\n",
       "<style scoped>\n",
       "    .dataframe tbody tr th:only-of-type {\n",
       "        vertical-align: middle;\n",
       "    }\n",
       "\n",
       "    .dataframe tbody tr th {\n",
       "        vertical-align: top;\n",
       "    }\n",
       "\n",
       "    .dataframe thead th {\n",
       "        text-align: right;\n",
       "    }\n",
       "</style>\n",
       "<table border=\"1\" class=\"dataframe\">\n",
       "  <thead>\n",
       "    <tr style=\"text-align: right;\">\n",
       "      <th></th>\n",
       "      <th>PassengerId</th>\n",
       "      <th>Survived</th>\n",
       "      <th>Pclass</th>\n",
       "      <th>Sex</th>\n",
       "      <th>Age</th>\n",
       "      <th>SibSp</th>\n",
       "      <th>Parch</th>\n",
       "      <th>Fare</th>\n",
       "      <th>Embarked</th>\n",
       "      <th>Age Group</th>\n",
       "    </tr>\n",
       "  </thead>\n",
       "  <tbody>\n",
       "    <tr>\n",
       "      <th>0</th>\n",
       "      <td>1</td>\n",
       "      <td>0</td>\n",
       "      <td>3</td>\n",
       "      <td>male</td>\n",
       "      <td>22</td>\n",
       "      <td>1</td>\n",
       "      <td>0</td>\n",
       "      <td>7.2500</td>\n",
       "      <td>S</td>\n",
       "      <td>Adulto Jovem</td>\n",
       "    </tr>\n",
       "    <tr>\n",
       "      <th>1</th>\n",
       "      <td>2</td>\n",
       "      <td>1</td>\n",
       "      <td>1</td>\n",
       "      <td>female</td>\n",
       "      <td>38</td>\n",
       "      <td>1</td>\n",
       "      <td>0</td>\n",
       "      <td>71.2833</td>\n",
       "      <td>C</td>\n",
       "      <td>Adulto Jovem</td>\n",
       "    </tr>\n",
       "    <tr>\n",
       "      <th>2</th>\n",
       "      <td>3</td>\n",
       "      <td>1</td>\n",
       "      <td>3</td>\n",
       "      <td>female</td>\n",
       "      <td>26</td>\n",
       "      <td>0</td>\n",
       "      <td>0</td>\n",
       "      <td>7.9250</td>\n",
       "      <td>S</td>\n",
       "      <td>Adulto Jovem</td>\n",
       "    </tr>\n",
       "    <tr>\n",
       "      <th>3</th>\n",
       "      <td>4</td>\n",
       "      <td>1</td>\n",
       "      <td>1</td>\n",
       "      <td>female</td>\n",
       "      <td>35</td>\n",
       "      <td>1</td>\n",
       "      <td>0</td>\n",
       "      <td>53.1000</td>\n",
       "      <td>S</td>\n",
       "      <td>Adulto Jovem</td>\n",
       "    </tr>\n",
       "    <tr>\n",
       "      <th>4</th>\n",
       "      <td>5</td>\n",
       "      <td>0</td>\n",
       "      <td>3</td>\n",
       "      <td>male</td>\n",
       "      <td>35</td>\n",
       "      <td>0</td>\n",
       "      <td>0</td>\n",
       "      <td>8.0500</td>\n",
       "      <td>S</td>\n",
       "      <td>Adulto Jovem</td>\n",
       "    </tr>\n",
       "  </tbody>\n",
       "</table>\n",
       "</div>"
      ],
      "text/plain": [
       "  PassengerId Survived Pclass     Sex  Age  SibSp  Parch     Fare Embarked  \\\n",
       "0           1        0      3    male   22      1      0   7.2500        S   \n",
       "1           2        1      1  female   38      1      0  71.2833        C   \n",
       "2           3        1      3  female   26      0      0   7.9250        S   \n",
       "3           4        1      1  female   35      1      0  53.1000        S   \n",
       "4           5        0      3    male   35      0      0   8.0500        S   \n",
       "\n",
       "      Age Group  \n",
       "0  Adulto Jovem  \n",
       "1  Adulto Jovem  \n",
       "2  Adulto Jovem  \n",
       "3  Adulto Jovem  \n",
       "4  Adulto Jovem  "
      ]
     },
     "execution_count": 39,
     "metadata": {},
     "output_type": "execute_result"
    }
   ],
   "source": [
    "# Definindo os bins e as labels\n",
    "\n",
    "bins = [-1, 12, 19, 39, 64, float('inf')]\n",
    "\n",
    "labels = ['Criança', 'Adolescente', 'Adulto Jovem', 'Adulto Meia Idade', 'Idoso']\n",
    "\n",
    "\n",
    "\n",
    "# Categorizar a coluna 'Age'\n",
    "\n",
    "df_train['Age Group'] = pd.cut(df_train['Age'], bins=bins, labels=labels)\n",
    "\n",
    "df_train.head()"
   ]
  },
  {
   "cell_type": "markdown",
   "id": "6b0b21d6",
   "metadata": {
    "papermill": {
     "duration": 0.027387,
     "end_time": "2024-11-27T00:20:18.051958",
     "exception": false,
     "start_time": "2024-11-27T00:20:18.024571",
     "status": "completed"
    },
    "tags": []
   },
   "source": [
    "#### Transformando SibSp em categorias\n",
    "\n",
    "\n",
    "\n",
    "\n",
    "\n",
    "- **SibSp**: \n",
    "\n",
    "  - Há uma concentração significativa de valores em `0`.\n",
    "\n",
    "  - Pode ser transformado em uma variável categórica.\n",
    "\n",
    "  - Exemplos de categorias:\n",
    "\n",
    "    - Sozinho\n",
    "\n",
    "    - Família pequena\n",
    "\n",
    "    - Família grande"
   ]
  },
  {
   "cell_type": "code",
   "execution_count": 40,
   "id": "0b2de752",
   "metadata": {
    "execution": {
     "iopub.execute_input": "2024-11-27T00:20:18.108630Z",
     "iopub.status.busy": "2024-11-27T00:20:18.107910Z",
     "iopub.status.idle": "2024-11-27T00:20:18.127362Z",
     "shell.execute_reply": "2024-11-27T00:20:18.126263Z"
    },
    "papermill": {
     "duration": 0.050059,
     "end_time": "2024-11-27T00:20:18.129381",
     "exception": false,
     "start_time": "2024-11-27T00:20:18.079322",
     "status": "completed"
    },
    "tags": []
   },
   "outputs": [
    {
     "data": {
      "text/html": [
       "<div>\n",
       "<style scoped>\n",
       "    .dataframe tbody tr th:only-of-type {\n",
       "        vertical-align: middle;\n",
       "    }\n",
       "\n",
       "    .dataframe tbody tr th {\n",
       "        vertical-align: top;\n",
       "    }\n",
       "\n",
       "    .dataframe thead th {\n",
       "        text-align: right;\n",
       "    }\n",
       "</style>\n",
       "<table border=\"1\" class=\"dataframe\">\n",
       "  <thead>\n",
       "    <tr style=\"text-align: right;\">\n",
       "      <th></th>\n",
       "      <th>PassengerId</th>\n",
       "      <th>Survived</th>\n",
       "      <th>Pclass</th>\n",
       "      <th>Sex</th>\n",
       "      <th>Age</th>\n",
       "      <th>SibSp</th>\n",
       "      <th>Parch</th>\n",
       "      <th>Fare</th>\n",
       "      <th>Embarked</th>\n",
       "      <th>Age Group</th>\n",
       "      <th>SibSp Group</th>\n",
       "    </tr>\n",
       "  </thead>\n",
       "  <tbody>\n",
       "    <tr>\n",
       "      <th>0</th>\n",
       "      <td>1</td>\n",
       "      <td>0</td>\n",
       "      <td>3</td>\n",
       "      <td>male</td>\n",
       "      <td>22</td>\n",
       "      <td>1</td>\n",
       "      <td>0</td>\n",
       "      <td>7.2500</td>\n",
       "      <td>S</td>\n",
       "      <td>Adulto Jovem</td>\n",
       "      <td>Família pequena</td>\n",
       "    </tr>\n",
       "    <tr>\n",
       "      <th>1</th>\n",
       "      <td>2</td>\n",
       "      <td>1</td>\n",
       "      <td>1</td>\n",
       "      <td>female</td>\n",
       "      <td>38</td>\n",
       "      <td>1</td>\n",
       "      <td>0</td>\n",
       "      <td>71.2833</td>\n",
       "      <td>C</td>\n",
       "      <td>Adulto Jovem</td>\n",
       "      <td>Família pequena</td>\n",
       "    </tr>\n",
       "    <tr>\n",
       "      <th>2</th>\n",
       "      <td>3</td>\n",
       "      <td>1</td>\n",
       "      <td>3</td>\n",
       "      <td>female</td>\n",
       "      <td>26</td>\n",
       "      <td>0</td>\n",
       "      <td>0</td>\n",
       "      <td>7.9250</td>\n",
       "      <td>S</td>\n",
       "      <td>Adulto Jovem</td>\n",
       "      <td>Sozinho</td>\n",
       "    </tr>\n",
       "    <tr>\n",
       "      <th>3</th>\n",
       "      <td>4</td>\n",
       "      <td>1</td>\n",
       "      <td>1</td>\n",
       "      <td>female</td>\n",
       "      <td>35</td>\n",
       "      <td>1</td>\n",
       "      <td>0</td>\n",
       "      <td>53.1000</td>\n",
       "      <td>S</td>\n",
       "      <td>Adulto Jovem</td>\n",
       "      <td>Família pequena</td>\n",
       "    </tr>\n",
       "    <tr>\n",
       "      <th>4</th>\n",
       "      <td>5</td>\n",
       "      <td>0</td>\n",
       "      <td>3</td>\n",
       "      <td>male</td>\n",
       "      <td>35</td>\n",
       "      <td>0</td>\n",
       "      <td>0</td>\n",
       "      <td>8.0500</td>\n",
       "      <td>S</td>\n",
       "      <td>Adulto Jovem</td>\n",
       "      <td>Sozinho</td>\n",
       "    </tr>\n",
       "  </tbody>\n",
       "</table>\n",
       "</div>"
      ],
      "text/plain": [
       "  PassengerId Survived Pclass     Sex  Age  SibSp  Parch     Fare Embarked  \\\n",
       "0           1        0      3    male   22      1      0   7.2500        S   \n",
       "1           2        1      1  female   38      1      0  71.2833        C   \n",
       "2           3        1      3  female   26      0      0   7.9250        S   \n",
       "3           4        1      1  female   35      1      0  53.1000        S   \n",
       "4           5        0      3    male   35      0      0   8.0500        S   \n",
       "\n",
       "      Age Group      SibSp Group  \n",
       "0  Adulto Jovem  Família pequena  \n",
       "1  Adulto Jovem  Família pequena  \n",
       "2  Adulto Jovem          Sozinho  \n",
       "3  Adulto Jovem  Família pequena  \n",
       "4  Adulto Jovem          Sozinho  "
      ]
     },
     "execution_count": 40,
     "metadata": {},
     "output_type": "execute_result"
    }
   ],
   "source": [
    "# Definindo os bins e as labels\n",
    "\n",
    "bins = [-1, 0, 2, float('inf')]\n",
    "\n",
    "labels = ['Sozinho', 'Família pequena', 'Família grande']\n",
    "\n",
    "\n",
    "\n",
    "# Categorizar a coluna 'Age'\n",
    "\n",
    "df_train['SibSp Group'] = pd.cut(df_train['SibSp'], bins=bins, labels=labels)\n",
    "\n",
    "df_train.head()"
   ]
  },
  {
   "cell_type": "markdown",
   "id": "63d90d84",
   "metadata": {
    "papermill": {
     "duration": 0.028159,
     "end_time": "2024-11-27T00:20:18.186598",
     "exception": false,
     "start_time": "2024-11-27T00:20:18.158439",
     "status": "completed"
    },
    "tags": []
   },
   "source": [
    "#### Transformando Parch em categorias\n",
    "\n",
    "\n",
    "\n",
    "\n",
    "\n",
    "- **Parch**: \n",
    "\n",
    "  - Indica que pode ser simplificado em uma variável categórica.\n",
    "\n",
    "  - Exemplos de categorias: \n",
    "\n",
    "    - Com filhos \n",
    "\n",
    "    - Com um filho \n",
    "\n",
    "    - Sem filhos"
   ]
  },
  {
   "cell_type": "code",
   "execution_count": 41,
   "id": "bfaf63bd",
   "metadata": {
    "execution": {
     "iopub.execute_input": "2024-11-27T00:20:18.245542Z",
     "iopub.status.busy": "2024-11-27T00:20:18.245122Z",
     "iopub.status.idle": "2024-11-27T00:20:18.265431Z",
     "shell.execute_reply": "2024-11-27T00:20:18.264336Z"
    },
    "papermill": {
     "duration": 0.051973,
     "end_time": "2024-11-27T00:20:18.267621",
     "exception": false,
     "start_time": "2024-11-27T00:20:18.215648",
     "status": "completed"
    },
    "tags": []
   },
   "outputs": [
    {
     "data": {
      "text/html": [
       "<div>\n",
       "<style scoped>\n",
       "    .dataframe tbody tr th:only-of-type {\n",
       "        vertical-align: middle;\n",
       "    }\n",
       "\n",
       "    .dataframe tbody tr th {\n",
       "        vertical-align: top;\n",
       "    }\n",
       "\n",
       "    .dataframe thead th {\n",
       "        text-align: right;\n",
       "    }\n",
       "</style>\n",
       "<table border=\"1\" class=\"dataframe\">\n",
       "  <thead>\n",
       "    <tr style=\"text-align: right;\">\n",
       "      <th></th>\n",
       "      <th>PassengerId</th>\n",
       "      <th>Survived</th>\n",
       "      <th>Pclass</th>\n",
       "      <th>Sex</th>\n",
       "      <th>Age</th>\n",
       "      <th>SibSp</th>\n",
       "      <th>Parch</th>\n",
       "      <th>Fare</th>\n",
       "      <th>Embarked</th>\n",
       "      <th>Age Group</th>\n",
       "      <th>SibSp Group</th>\n",
       "      <th>Parch Group</th>\n",
       "    </tr>\n",
       "  </thead>\n",
       "  <tbody>\n",
       "    <tr>\n",
       "      <th>0</th>\n",
       "      <td>1</td>\n",
       "      <td>0</td>\n",
       "      <td>3</td>\n",
       "      <td>male</td>\n",
       "      <td>22</td>\n",
       "      <td>1</td>\n",
       "      <td>0</td>\n",
       "      <td>7.2500</td>\n",
       "      <td>S</td>\n",
       "      <td>Adulto Jovem</td>\n",
       "      <td>Família pequena</td>\n",
       "      <td>Sem filhos</td>\n",
       "    </tr>\n",
       "    <tr>\n",
       "      <th>1</th>\n",
       "      <td>2</td>\n",
       "      <td>1</td>\n",
       "      <td>1</td>\n",
       "      <td>female</td>\n",
       "      <td>38</td>\n",
       "      <td>1</td>\n",
       "      <td>0</td>\n",
       "      <td>71.2833</td>\n",
       "      <td>C</td>\n",
       "      <td>Adulto Jovem</td>\n",
       "      <td>Família pequena</td>\n",
       "      <td>Sem filhos</td>\n",
       "    </tr>\n",
       "    <tr>\n",
       "      <th>2</th>\n",
       "      <td>3</td>\n",
       "      <td>1</td>\n",
       "      <td>3</td>\n",
       "      <td>female</td>\n",
       "      <td>26</td>\n",
       "      <td>0</td>\n",
       "      <td>0</td>\n",
       "      <td>7.9250</td>\n",
       "      <td>S</td>\n",
       "      <td>Adulto Jovem</td>\n",
       "      <td>Sozinho</td>\n",
       "      <td>Sem filhos</td>\n",
       "    </tr>\n",
       "    <tr>\n",
       "      <th>3</th>\n",
       "      <td>4</td>\n",
       "      <td>1</td>\n",
       "      <td>1</td>\n",
       "      <td>female</td>\n",
       "      <td>35</td>\n",
       "      <td>1</td>\n",
       "      <td>0</td>\n",
       "      <td>53.1000</td>\n",
       "      <td>S</td>\n",
       "      <td>Adulto Jovem</td>\n",
       "      <td>Família pequena</td>\n",
       "      <td>Sem filhos</td>\n",
       "    </tr>\n",
       "    <tr>\n",
       "      <th>4</th>\n",
       "      <td>5</td>\n",
       "      <td>0</td>\n",
       "      <td>3</td>\n",
       "      <td>male</td>\n",
       "      <td>35</td>\n",
       "      <td>0</td>\n",
       "      <td>0</td>\n",
       "      <td>8.0500</td>\n",
       "      <td>S</td>\n",
       "      <td>Adulto Jovem</td>\n",
       "      <td>Sozinho</td>\n",
       "      <td>Sem filhos</td>\n",
       "    </tr>\n",
       "  </tbody>\n",
       "</table>\n",
       "</div>"
      ],
      "text/plain": [
       "  PassengerId Survived Pclass     Sex  Age  SibSp  Parch     Fare Embarked  \\\n",
       "0           1        0      3    male   22      1      0   7.2500        S   \n",
       "1           2        1      1  female   38      1      0  71.2833        C   \n",
       "2           3        1      3  female   26      0      0   7.9250        S   \n",
       "3           4        1      1  female   35      1      0  53.1000        S   \n",
       "4           5        0      3    male   35      0      0   8.0500        S   \n",
       "\n",
       "      Age Group      SibSp Group Parch Group  \n",
       "0  Adulto Jovem  Família pequena  Sem filhos  \n",
       "1  Adulto Jovem  Família pequena  Sem filhos  \n",
       "2  Adulto Jovem          Sozinho  Sem filhos  \n",
       "3  Adulto Jovem  Família pequena  Sem filhos  \n",
       "4  Adulto Jovem          Sozinho  Sem filhos  "
      ]
     },
     "execution_count": 41,
     "metadata": {},
     "output_type": "execute_result"
    }
   ],
   "source": [
    "# Definindo os bins e as labels\n",
    "\n",
    "bins = [-1, 0, 1, float('inf')]\n",
    "\n",
    "labels = ['Sem filhos', 'Com um filho', 'Com filhos']\n",
    "\n",
    "\n",
    "\n",
    "# Categorizar a coluna 'Age'\n",
    "\n",
    "df_train['Parch Group'] = pd.cut(df_train['Parch'], bins=bins, labels=labels)\n",
    "\n",
    "df_train.head()"
   ]
  },
  {
   "cell_type": "code",
   "execution_count": 42,
   "id": "e155492e",
   "metadata": {
    "execution": {
     "iopub.execute_input": "2024-11-27T00:20:18.325266Z",
     "iopub.status.busy": "2024-11-27T00:20:18.324583Z",
     "iopub.status.idle": "2024-11-27T00:20:18.340407Z",
     "shell.execute_reply": "2024-11-27T00:20:18.339133Z"
    },
    "papermill": {
     "duration": 0.047026,
     "end_time": "2024-11-27T00:20:18.342691",
     "exception": false,
     "start_time": "2024-11-27T00:20:18.295665",
     "status": "completed"
    },
    "tags": []
   },
   "outputs": [
    {
     "name": "stdout",
     "output_type": "stream",
     "text": [
      "<class 'pandas.core.frame.DataFrame'>\n",
      "RangeIndex: 891 entries, 0 to 890\n",
      "Data columns (total 12 columns):\n",
      " #   Column       Non-Null Count  Dtype   \n",
      "---  ------       --------------  -----   \n",
      " 0   PassengerId  891 non-null    object  \n",
      " 1   Survived     891 non-null    category\n",
      " 2   Pclass       891 non-null    category\n",
      " 3   Sex          891 non-null    category\n",
      " 4   Age          891 non-null    int64   \n",
      " 5   SibSp        891 non-null    int64   \n",
      " 6   Parch        891 non-null    int64   \n",
      " 7   Fare         891 non-null    float64 \n",
      " 8   Embarked     891 non-null    category\n",
      " 9   Age Group    891 non-null    category\n",
      " 10  SibSp Group  891 non-null    category\n",
      " 11  Parch Group  891 non-null    category\n",
      "dtypes: category(7), float64(1), int64(3), object(1)\n",
      "memory usage: 42.0+ KB\n"
     ]
    }
   ],
   "source": [
    "df_train.info()"
   ]
  },
  {
   "cell_type": "code",
   "execution_count": 43,
   "id": "01c4c3ef",
   "metadata": {
    "execution": {
     "iopub.execute_input": "2024-11-27T00:20:18.401153Z",
     "iopub.status.busy": "2024-11-27T00:20:18.400146Z",
     "iopub.status.idle": "2024-11-27T00:20:18.408318Z",
     "shell.execute_reply": "2024-11-27T00:20:18.407085Z"
    },
    "papermill": {
     "duration": 0.039626,
     "end_time": "2024-11-27T00:20:18.410406",
     "exception": false,
     "start_time": "2024-11-27T00:20:18.370780",
     "status": "completed"
    },
    "tags": []
   },
   "outputs": [
    {
     "data": {
      "text/plain": [
       "['Survived',\n",
       " 'Pclass',\n",
       " 'Sex',\n",
       " 'Embarked',\n",
       " 'Age Group',\n",
       " 'SibSp Group',\n",
       " 'Parch Group']"
      ]
     },
     "execution_count": 43,
     "metadata": {},
     "output_type": "execute_result"
    }
   ],
   "source": [
    "# Aplicar LabelEncoder em cada coluna categórica\n",
    "\n",
    "categorical_columns = df_train.select_dtypes(include=['category']).columns.tolist()\n",
    "\n",
    "categorical_columns"
   ]
  },
  {
   "cell_type": "code",
   "execution_count": 44,
   "id": "c6dadd3c",
   "metadata": {
    "execution": {
     "iopub.execute_input": "2024-11-27T00:20:18.470516Z",
     "iopub.status.busy": "2024-11-27T00:20:18.470138Z",
     "iopub.status.idle": "2024-11-27T00:20:18.480770Z",
     "shell.execute_reply": "2024-11-27T00:20:18.480017Z"
    },
    "papermill": {
     "duration": 0.043921,
     "end_time": "2024-11-27T00:20:18.483030",
     "exception": false,
     "start_time": "2024-11-27T00:20:18.439109",
     "status": "completed"
    },
    "tags": []
   },
   "outputs": [],
   "source": [
    "# Inicializar o LabelEncoder\n",
    "\n",
    "label_encoder = LabelEncoder()\n",
    "\n",
    "\n",
    "\n",
    "for column in categorical_columns:\n",
    "\n",
    "    df_train[column] = label_encoder.fit_transform(df_train[column].astype(str))"
   ]
  },
  {
   "cell_type": "markdown",
   "id": "dacbfa97",
   "metadata": {
    "papermill": {
     "duration": 0.029742,
     "end_time": "2024-11-27T00:20:18.541559",
     "exception": false,
     "start_time": "2024-11-27T00:20:18.511817",
     "status": "completed"
    },
    "tags": []
   },
   "source": [
    "## 4. Modelagem (Modeling)\n",
    "\n",
    "- **Seleção de Algoritmo:** Escolher algoritmos de machine learning ou técnicas analíticas adequadas ao problema (ex.: regressão, classificação, árvore de decisão, redes neurais, clusterização).\n",
    "\n",
    "- **Divisão dos Dados:** Separar o dataset em conjuntos de treino e teste para evitar overfitting e validar o modelo (`train_test_split`).\n",
    "\n",
    "- **Treinamento do Modelo:** Treinar o modelo escolhido com os dados de treino (`model.fit()`).\n",
    "\n",
    "- **Ajuste de Hiperparâmetros (se aplicável):** Ajustar parâmetros do modelo para melhorar o desempenho e a precisão, utilizando técnicas como busca em grade (Grid Search) ou otimização bayesiana.\n",
    "\n",
    "- **Validação Cruzada (se aplicável):** Utilizar técnicas de validação cruzada para verificar a generalização do modelo em diferentes divisões do dataset.\n",
    "\n",
    "\n",
    "\n",
    "### Avaliação (Evaluation)\n",
    "\n",
    "- **Predições:** Fazer previsões com o modelo treinado usando os dados de teste (`model.predict()`).\n",
    "\n",
    "- **Métricas de Desempenho:** Avaliar o modelo com métricas apropriadas ao problema (ex.: acurácia, precisão, recall, F1-score, ROC-AUC para classificação; erro médio quadrático, R² para regressão).\n",
    "\n",
    "- **Análise das Métricas:** Analisar os resultados das métricas para determinar se o modelo atende aos requisitos de negócio. Verificar trade-offs, como precisão vs. recall, se aplicável.\n",
    "\n",
    "- **Importância das Variáveis (se aplicável):** Identificar as variáveis que mais influenciam o modelo (ex.: `model.feature_importances_` para modelos baseados em árvores)."
   ]
  },
  {
   "cell_type": "code",
   "execution_count": 45,
   "id": "f3d11cf6",
   "metadata": {
    "execution": {
     "iopub.execute_input": "2024-11-27T00:20:18.601160Z",
     "iopub.status.busy": "2024-11-27T00:20:18.600011Z",
     "iopub.status.idle": "2024-11-27T00:20:18.870708Z",
     "shell.execute_reply": "2024-11-27T00:20:18.869553Z"
    },
    "papermill": {
     "duration": 0.303285,
     "end_time": "2024-11-27T00:20:18.873513",
     "exception": false,
     "start_time": "2024-11-27T00:20:18.570228",
     "status": "completed"
    },
    "tags": []
   },
   "outputs": [
    {
     "name": "stdout",
     "output_type": "stream",
     "text": [
      "Accuracy: 0.83\n",
      "Confusion Matrix:\n",
      "[[97  8]\n",
      " [22 52]]\n",
      "\n",
      "Classification Report:\n",
      "              precision    recall  f1-score   support\n",
      "\n",
      "           0       0.82      0.92      0.87       105\n",
      "           1       0.87      0.70      0.78        74\n",
      "\n",
      "    accuracy                           0.83       179\n",
      "   macro avg       0.84      0.81      0.82       179\n",
      "weighted avg       0.84      0.83      0.83       179\n",
      "\n",
      "ROC AUC Score: 0.85\n"
     ]
    },
    {
     "data": {
      "image/png": "[encoded data removed]",
      "text/plain": [
       "<Figure size 640x480 with 1 Axes>"
      ]
     },
     "metadata": {},
     "output_type": "display_data"
    }
   ],
   "source": [
    "# selecionar as colunas relevantes\n",
    "\n",
    "X = df_train[['Pclass', 'Sex', 'Embarked', 'Age Group', 'SibSp Group', 'Parch Group']]  # Características (features)\n",
    "\n",
    "y = df_train['Survived']  # Rótulo (target)\n",
    "\n",
    "\n",
    "\n",
    "# Dividir os dados em conjuntos de treino e teste\n",
    "\n",
    "X_train_tree, X_test_tree, y_train_tree, y_test_tree = train_test_split(X, y, test_size=0.2, random_state=42)\n",
    "\n",
    "\n",
    "\n",
    "# Criar o modelo de Decision Tree\n",
    "\n",
    "model_tree = DecisionTreeClassifier(random_state=42)\n",
    "\n",
    "\n",
    "\n",
    "# Treinar o modelo\n",
    "\n",
    "model_tree.fit(X_train_tree, y_train_tree)\n",
    "\n",
    "\n",
    "\n",
    "# Fazer previsões\n",
    "\n",
    "y_pred_tree = model_tree.predict(X_test_tree)\n",
    "\n",
    "\n",
    "\n",
    "\n",
    "\n",
    "# Calcular as métricas\n",
    "\n",
    "\n",
    "\n",
    "# Acurácia\n",
    "\n",
    "accuracy = accuracy_score(y_test_tree, y_pred_tree)\n",
    "\n",
    "\n",
    "\n",
    "# Matriz de Confusão\n",
    "\n",
    "conf_matrix = confusion_matrix(y_test_tree, y_pred_tree)\n",
    "\n",
    "\n",
    "\n",
    "# Relatório de Classificação\n",
    "\n",
    "class_report = classification_report(y_test_tree, y_pred_tree)\n",
    "\n",
    "\n",
    "\n",
    "# ROC AUC (se aplicável para o seu modelo binário)\n",
    "\n",
    "roc_auc = roc_auc_score(y_test_tree, model_tree.predict_proba(X_test_tree)[:, 1])\n",
    "\n",
    "\n",
    "\n",
    "# Exibir as métricas\n",
    "\n",
    "print(f\"Accuracy: {accuracy:.2f}\")\n",
    "\n",
    "print(\"Confusion Matrix:\")\n",
    "\n",
    "print(conf_matrix)\n",
    "\n",
    "print(\"\\nClassification Report:\")\n",
    "\n",
    "print(class_report)\n",
    "\n",
    "print(f\"ROC AUC Score: {roc_auc:.2f}\")\n",
    "\n",
    "\n",
    "\n",
    "# Opcional: Plot da Curva ROC\n",
    "\n",
    "RocCurveDisplay.from_estimator(model_tree, X_test_tree, y_test_tree)\n",
    "\n",
    "plt.title('ROC Curve for Decision Tree')\n",
    "\n",
    "plt.show()\n"
   ]
  },
  {
   "cell_type": "code",
   "execution_count": 46,
   "id": "d35b6cfd",
   "metadata": {
    "execution": {
     "iopub.execute_input": "2024-11-27T00:20:18.933365Z",
     "iopub.status.busy": "2024-11-27T00:20:18.932927Z",
     "iopub.status.idle": "2024-11-27T00:20:18.978077Z",
     "shell.execute_reply": "2024-11-27T00:20:18.976903Z"
    },
    "papermill": {
     "duration": 0.077509,
     "end_time": "2024-11-27T00:20:18.980379",
     "exception": false,
     "start_time": "2024-11-27T00:20:18.902870",
     "status": "completed"
    },
    "tags": []
   },
   "outputs": [
    {
     "name": "stdout",
     "output_type": "stream",
     "text": [
      "Scores ROC AUC para cada fold: [0.84881423 0.79572193 0.80086898 0.84913102 0.83998139]\n",
      "Média do ROC AUC: 0.83\n",
      "Desvio Padrão do ROC AUC: 0.02\n"
     ]
    }
   ],
   "source": [
    "from sklearn.model_selection import cross_val_score, StratifiedKFold\n",
    "\n",
    "# Configuração de Validação Cruzada\n",
    "\n",
    "cv = StratifiedKFold(n_splits=5, shuffle=True, random_state=42)\n",
    "\n",
    "cv_scores = cross_val_score(model_tree, X, y, cv=cv, scoring='roc_auc')\n",
    "\n",
    "# Resultados\n",
    "\n",
    "print(f'Scores ROC AUC para cada fold: {cv_scores}')\n",
    "\n",
    "print(f'Média do ROC AUC: {np.mean(cv_scores):.2f}')\n",
    "\n",
    "print(f'Desvio Padrão do ROC AUC: {np.std(cv_scores):.2f}')"
   ]
  },
  {
   "cell_type": "code",
   "execution_count": 47,
   "id": "daf889f2",
   "metadata": {
    "execution": {
     "iopub.execute_input": "2024-11-27T00:20:19.041385Z",
     "iopub.status.busy": "2024-11-27T00:20:19.040457Z",
     "iopub.status.idle": "2024-11-27T00:20:19.559814Z",
     "shell.execute_reply": "2024-11-27T00:20:19.558573Z"
    },
    "papermill": {
     "duration": 0.552965,
     "end_time": "2024-11-27T00:20:19.562100",
     "exception": false,
     "start_time": "2024-11-27T00:20:19.009135",
     "status": "completed"
    },
    "tags": []
   },
   "outputs": [
    {
     "name": "stdout",
     "output_type": "stream",
     "text": [
      "Accuracy: 0.84\n",
      "Confusion Matrix:\n",
      "[[97  8]\n",
      " [21 53]]\n",
      "Classification Report:\n",
      "              precision    recall  f1-score   support\n",
      "\n",
      "           0       0.82      0.92      0.87       105\n",
      "           1       0.87      0.72      0.79        74\n",
      "\n",
      "    accuracy                           0.84       179\n",
      "   macro avg       0.85      0.82      0.83       179\n",
      "weighted avg       0.84      0.84      0.83       179\n",
      "\n",
      "ROC AUC Score: 0.87\n"
     ]
    },
    {
     "data": {
      "image/png": "[encoded data removed]",
      "text/plain": [
       "<Figure size 640x480 with 1 Axes>"
      ]
     },
     "metadata": {},
     "output_type": "display_data"
    }
   ],
   "source": [
    "import pandas as pd\n",
    "\n",
    "from sklearn.ensemble import RandomForestClassifier\n",
    "\n",
    "from sklearn.model_selection import train_test_split\n",
    "\n",
    "from sklearn.metrics import (\n",
    "\n",
    "    accuracy_score,\n",
    "\n",
    "    confusion_matrix,\n",
    "\n",
    "    classification_report,\n",
    "\n",
    "    roc_auc_score,\n",
    "\n",
    "    RocCurveDisplay,\n",
    "\n",
    ")\n",
    "\n",
    "\n",
    "\n",
    "# Define features and target\n",
    "\n",
    "X = df_train[['Pclass', 'Sex', 'Embarked', 'Age Group', 'SibSp Group', 'Parch Group']]  # Características (features)\n",
    "\n",
    "y = df_train['Survived']  # Rótulo (target)\n",
    "\n",
    "\n",
    "\n",
    "# Split the data into training and test sets\n",
    "\n",
    "X_train, X_test, y_train, y_test = train_test_split(X, y, test_size=0.2, random_state=42)\n",
    "\n",
    "\n",
    "\n",
    "# Definir pesos para as classes no Random Forest, penalizando mais os erros na classe minoritária\n",
    "\n",
    "class_weights = {0: 1, 1: 1}  # Aumenta o peso da classe 1 (sobreviveu)\n",
    "\n",
    "\n",
    "\n",
    "# Train the Random Forest model\n",
    "\n",
    "rf = RandomForestClassifier(n_estimators=100, random_state=42,class_weight=class_weights)\n",
    "\n",
    "rf.fit(X_train, y_train)\n",
    "\n",
    "\n",
    "\n",
    "# Make predictions\n",
    "\n",
    "y_pred = rf.predict(X_test)\n",
    "\n",
    "\n",
    "\n",
    "# Evaluate the model\n",
    "\n",
    "accuracy = accuracy_score(y_test, y_pred)\n",
    "\n",
    "conf_matrix = confusion_matrix(y_test, y_pred)\n",
    "\n",
    "class_report = classification_report(y_test, y_pred)\n",
    "\n",
    "roc_auc = roc_auc_score(y_test, rf.predict_proba(X_test)[:, 1])\n",
    "\n",
    "\n",
    "\n",
    "# Print the evaluation results\n",
    "\n",
    "print(f'Accuracy: {accuracy:.2f}')\n",
    "\n",
    "print('Confusion Matrix:')\n",
    "\n",
    "print(conf_matrix)\n",
    "\n",
    "print('Classification Report:')\n",
    "\n",
    "print(class_report)\n",
    "\n",
    "print(f'ROC AUC Score: {roc_auc:.2f}')\n",
    "\n",
    "\n",
    "\n",
    "# Optional: Plot ROC Curve\n",
    "\n",
    "RocCurveDisplay.from_estimator(rf, X_test, y_test)\n",
    "\n",
    "plt.title('ROC Curve for Random Forest')\n",
    "\n",
    "plt.show()"
   ]
  },
  {
   "cell_type": "code",
   "execution_count": 48,
   "id": "84c0382c",
   "metadata": {
    "execution": {
     "iopub.execute_input": "2024-11-27T00:20:19.625171Z",
     "iopub.status.busy": "2024-11-27T00:20:19.624750Z",
     "iopub.status.idle": "2024-11-27T00:20:20.513079Z",
     "shell.execute_reply": "2024-11-27T00:20:20.511979Z"
    },
    "papermill": {
     "duration": 0.92185,
     "end_time": "2024-11-27T00:20:20.515482",
     "exception": false,
     "start_time": "2024-11-27T00:20:19.593632",
     "status": "completed"
    },
    "tags": []
   },
   "outputs": [
    {
     "name": "stdout",
     "output_type": "stream",
     "text": [
      "Scores ROC AUC para cada fold: [0.87055336 0.84231283 0.84324866 0.84859626 0.85620263]\n",
      "Média do ROC AUC: 0.85\n",
      "Desvio Padrão do ROC AUC: 0.01\n"
     ]
    }
   ],
   "source": [
    "from sklearn.model_selection import cross_val_score, StratifiedKFold\n",
    "\n",
    "# Configuração de Validação Cruzada\n",
    "\n",
    "cv = StratifiedKFold(n_splits=5, shuffle=True, random_state=42)\n",
    "\n",
    "cv_scores = cross_val_score(rf, X, y, cv=cv, scoring='roc_auc')\n",
    "\n",
    "# Resultados\n",
    "\n",
    "print(f'Scores ROC AUC para cada fold: {cv_scores}')\n",
    "\n",
    "print(f'Média do ROC AUC: {np.mean(cv_scores):.2f}')\n",
    "\n",
    "print(f'Desvio Padrão do ROC AUC: {np.std(cv_scores):.2f}')"
   ]
  },
  {
   "cell_type": "markdown",
   "id": "5eb7aab4",
   "metadata": {
    "papermill": {
     "duration": 0.029612,
     "end_time": "2024-11-27T00:20:20.574916",
     "exception": false,
     "start_time": "2024-11-27T00:20:20.545304",
     "status": "completed"
    },
    "tags": []
   },
   "source": [
    "## 6. Deploy"
   ]
  },
  {
   "cell_type": "markdown",
   "id": "1629c31e",
   "metadata": {
    "papermill": {
     "duration": 0.029242,
     "end_time": "2024-11-27T00:20:20.633961",
     "exception": false,
     "start_time": "2024-11-27T00:20:20.604719",
     "status": "completed"
    },
    "tags": []
   },
   "source": [
    "### Artefato de transformação"
   ]
  },
  {
   "cell_type": "code",
   "execution_count": 49,
   "id": "1e9139cb",
   "metadata": {
    "execution": {
     "iopub.execute_input": "2024-11-27T00:20:20.694991Z",
     "iopub.status.busy": "2024-11-27T00:20:20.694558Z",
     "iopub.status.idle": "2024-11-27T00:20:20.710704Z",
     "shell.execute_reply": "2024-11-27T00:20:20.709653Z"
    },
    "papermill": {
     "duration": 0.049532,
     "end_time": "2024-11-27T00:20:20.712865",
     "exception": false,
     "start_time": "2024-11-27T00:20:20.663333",
     "status": "completed"
    },
    "tags": []
   },
   "outputs": [],
   "source": [
    "def transform_data(df_to_predict: pd.DataFrame, fill_strategies: dict = None) -> pd.DataFrame:\n",
    "\n",
    "    \"\"\"\n",
    "\n",
    "    Transforma os dados do DataFrame para preparação de modelo preditivo.\n",
    "\n",
    "    \n",
    "\n",
    "    - Remove colunas irrelevantes.\n",
    "\n",
    "    - Converte os tipos de dados.\n",
    "\n",
    "    - Categoriza variáveis numéricas em grupos.\n",
    "\n",
    "    - Trata valores ausentes com base em estratégias definidas.\n",
    "\n",
    "    - Codifica variáveis categóricas.\n",
    "\n",
    "    \n",
    "\n",
    "    Parâmetros:\n",
    "\n",
    "        df_to_predict (pd.DataFrame): DataFrame contendo os dados a serem transformados.\n",
    "\n",
    "        fill_strategies (dict): Dicionário com estratégias de preenchimento para colunas específicas.\n",
    "\n",
    "        \n",
    "\n",
    "    Retorna:\n",
    "\n",
    "        pd.DataFrame: DataFrame transformado.\n",
    "\n",
    "    \"\"\"\n",
    "\n",
    "\n",
    "\n",
    "    # Estratégias de preenchimento padrão (caso não sejam fornecidas)\n",
    "\n",
    "    if fill_strategies is None:\n",
    "\n",
    "        fill_strategies = {\n",
    "\n",
    "            'Pclass': '3',\n",
    "\n",
    "            'Embarked': 'S',\n",
    "\n",
    "            'Sex': 'male',\n",
    "\n",
    "            'Age': 29,\n",
    "\n",
    "            'SibSp': 0,\n",
    "\n",
    "            'Parch': 0,\n",
    "\n",
    "            'Fare': 14.4542\n",
    "\n",
    "        }\n",
    "\n",
    "\n",
    "\n",
    "    # Verificar se as colunas esperadas estão no DataFrame\n",
    "\n",
    "    expected_columns = {'Name', 'PassengerId', 'Ticket', 'Cabin',\n",
    "\n",
    "                        'Pclass', 'Embarked', 'Sex', 'Age', 'SibSp', 'Parch', 'Fare'}\n",
    "\n",
    "    missing_columns = expected_columns - set(df_to_predict.columns)\n",
    "\n",
    "    if missing_columns:\n",
    "\n",
    "        raise ValueError(f\"Colunas ausentes no DataFrame: {missing_columns}\")\n",
    "\n",
    "    \n",
    "\n",
    "    # Remover colunas irrelevantes\n",
    "\n",
    "    columns_to_drop = ['Name', 'Ticket', 'Cabin']\n",
    "\n",
    "    df_to_predict = df_to_predict.drop(columns=columns_to_drop)\n",
    "\n",
    "\n",
    "\n",
    "    # Converter tipos das variáveis\n",
    "\n",
    "    type_conversions = {\n",
    "\n",
    "        'Pclass': 'category',\n",
    "\n",
    "        'Embarked': 'category',\n",
    "\n",
    "        'Sex': 'category',\n",
    "\n",
    "        'Age': int,\n",
    "\n",
    "        'SibSp': int,\n",
    "\n",
    "        'Parch': int,\n",
    "\n",
    "        'Fare': float,\n",
    "\n",
    "        'PassengerId': str\n",
    "\n",
    "    }\n",
    "\n",
    "\n",
    "\n",
    "    # Tratar valores ausentes usando as estratégias definidas\n",
    "\n",
    "    def fill_missing_values(df, strategies):\n",
    "\n",
    "        for column, strategy in strategies.items():\n",
    "\n",
    "            if column in df.columns:\n",
    "\n",
    "                if strategy == 'median':\n",
    "\n",
    "                    df[column] = df[column].fillna(df[column].median())\n",
    "\n",
    "                elif strategy == 'mode':\n",
    "\n",
    "                    df[column] = df[column].fillna(df[column].mode()[0])\n",
    "\n",
    "                elif isinstance(strategy, (int, float, str)):\n",
    "\n",
    "                    df[column] = df[column].fillna(strategy)\n",
    "\n",
    "                else:\n",
    "\n",
    "                    raise ValueError(f\"Estratégia desconhecida para a coluna {column}: {strategy}\")\n",
    "\n",
    "        return df\n",
    "\n",
    "    \n",
    "\n",
    "    df_to_predict = fill_missing_values(df_to_predict, fill_strategies)\n",
    "\n",
    "\n",
    "\n",
    "    for column, dtype in type_conversions.items():\n",
    "\n",
    "        df_to_predict[column] = df_to_predict[column].astype(dtype)\n",
    "\n",
    "    \n",
    "\n",
    "    # Definir e aplicar bins e labels\n",
    "\n",
    "    def categorize_column(df, column, bins, labels, new_column_name):\n",
    "\n",
    "        df[new_column_name] = pd.cut(df[column], bins=bins, labels=labels)\n",
    "\n",
    "        return df\n",
    "\n",
    "    \n",
    "\n",
    "    age_bins = [-1, 12, 19, 39, 64, float('inf')]\n",
    "\n",
    "    age_labels = ['Criança', 'Adolescente', 'Adulto Jovem', 'Adulto Meia Idade', 'Idoso']\n",
    "\n",
    "    df_to_predict = categorize_column(df_to_predict, 'Age', age_bins, age_labels, 'Age Group')\n",
    "\n",
    "    \n",
    "\n",
    "    sibsp_bins = [-1, 0, 2, float('inf')]\n",
    "\n",
    "    sibsp_labels = ['Sozinho', 'Família pequena', 'Família grande']\n",
    "\n",
    "    df_to_predict = categorize_column(df_to_predict, 'SibSp', sibsp_bins, sibsp_labels, 'SibSp Group')\n",
    "\n",
    "    \n",
    "\n",
    "    parch_bins = [-1, 0, 1, float('inf')]\n",
    "\n",
    "    parch_labels = ['Sem filhos', 'Com um filho', 'Com filhos']\n",
    "\n",
    "    df_to_predict = categorize_column(df_to_predict, 'Parch', parch_bins, parch_labels, 'Parch Group')\n",
    "\n",
    "    \n",
    "\n",
    "    # Aplicar LabelEncoder às colunas categóricas\n",
    "\n",
    "    def encode_categorical_columns(df, columns):\n",
    "\n",
    "        label_encoder = LabelEncoder()\n",
    "\n",
    "        for column in columns:\n",
    "\n",
    "            df[column] = label_encoder.fit_transform(df[column].astype(str))\n",
    "\n",
    "        return df\n",
    "\n",
    "    \n",
    "\n",
    "    categorical_columns = df_to_predict.select_dtypes(include=['category']).columns.tolist()\n",
    "\n",
    "    df_to_predict = encode_categorical_columns(df_to_predict, categorical_columns)\n",
    "\n",
    "    \n",
    "\n",
    "    return df_to_predict\n"
   ]
  },
  {
   "cell_type": "code",
   "execution_count": 50,
   "id": "1b96a67e",
   "metadata": {
    "execution": {
     "iopub.execute_input": "2024-11-27T00:20:20.773908Z",
     "iopub.status.busy": "2024-11-27T00:20:20.773472Z",
     "iopub.status.idle": "2024-11-27T00:20:20.785656Z",
     "shell.execute_reply": "2024-11-27T00:20:20.784511Z"
    },
    "papermill": {
     "duration": 0.0454,
     "end_time": "2024-11-27T00:20:20.787758",
     "exception": false,
     "start_time": "2024-11-27T00:20:20.742358",
     "status": "completed"
    },
    "tags": []
   },
   "outputs": [
    {
     "name": "stdout",
     "output_type": "stream",
     "text": [
      "<class 'pandas.core.frame.DataFrame'>\n",
      "RangeIndex: 418 entries, 0 to 417\n",
      "Data columns (total 11 columns):\n",
      " #   Column       Non-Null Count  Dtype  \n",
      "---  ------       --------------  -----  \n",
      " 0   PassengerId  418 non-null    int64  \n",
      " 1   Pclass       418 non-null    int64  \n",
      " 2   Name         418 non-null    object \n",
      " 3   Sex          418 non-null    object \n",
      " 4   Age          332 non-null    float64\n",
      " 5   SibSp        418 non-null    int64  \n",
      " 6   Parch        418 non-null    int64  \n",
      " 7   Ticket       418 non-null    object \n",
      " 8   Fare         417 non-null    float64\n",
      " 9   Cabin        91 non-null     object \n",
      " 10  Embarked     418 non-null    object \n",
      "dtypes: float64(2), int64(4), object(5)\n",
      "memory usage: 36.0+ KB\n"
     ]
    }
   ],
   "source": [
    "df_test_model.info()"
   ]
  },
  {
   "cell_type": "code",
   "execution_count": 51,
   "id": "8e8afbc3",
   "metadata": {
    "execution": {
     "iopub.execute_input": "2024-11-27T00:20:20.849222Z",
     "iopub.status.busy": "2024-11-27T00:20:20.848755Z",
     "iopub.status.idle": "2024-11-27T00:20:20.873500Z",
     "shell.execute_reply": "2024-11-27T00:20:20.872264Z"
    },
    "papermill": {
     "duration": 0.058534,
     "end_time": "2024-11-27T00:20:20.876135",
     "exception": false,
     "start_time": "2024-11-27T00:20:20.817601",
     "status": "completed"
    },
    "tags": []
   },
   "outputs": [
    {
     "name": "stdout",
     "output_type": "stream",
     "text": [
      "<class 'pandas.core.frame.DataFrame'>\n",
      "RangeIndex: 418 entries, 0 to 417\n",
      "Data columns (total 6 columns):\n",
      " #   Column       Non-Null Count  Dtype\n",
      "---  ------       --------------  -----\n",
      " 0   Pclass       418 non-null    int64\n",
      " 1   Sex          418 non-null    int64\n",
      " 2   Embarked     418 non-null    int64\n",
      " 3   Age Group    418 non-null    int64\n",
      " 4   SibSp Group  418 non-null    int64\n",
      " 5   Parch Group  418 non-null    int64\n",
      "dtypes: int64(6)\n",
      "memory usage: 19.7 KB\n"
     ]
    }
   ],
   "source": [
    "# Make test prediction\n",
    "\n",
    "df_to_predict = transform_data(df_test_model)\n",
    "\n",
    "df_to_predict = df_to_predict[['Pclass', 'Sex', 'Embarked', 'Age Group', 'SibSp Group', 'Parch Group']]  # Características (features)\n",
    "\n",
    "df_to_predict.info()"
   ]
  },
  {
   "cell_type": "code",
   "execution_count": 52,
   "id": "316abe55",
   "metadata": {
    "execution": {
     "iopub.execute_input": "2024-11-27T00:20:20.937407Z",
     "iopub.status.busy": "2024-11-27T00:20:20.937001Z",
     "iopub.status.idle": "2024-11-27T00:20:20.954229Z",
     "shell.execute_reply": "2024-11-27T00:20:20.953207Z"
    },
    "papermill": {
     "duration": 0.050554,
     "end_time": "2024-11-27T00:20:20.956632",
     "exception": false,
     "start_time": "2024-11-27T00:20:20.906078",
     "status": "completed"
    },
    "tags": []
   },
   "outputs": [],
   "source": [
    "# Make predictions\n",
    "\n",
    "df_test_model['Survived'] = rf.predict(df_to_predict)\n"
   ]
  },
  {
   "cell_type": "code",
   "execution_count": 53,
   "id": "234ce299",
   "metadata": {
    "execution": {
     "iopub.execute_input": "2024-11-27T00:20:21.018471Z",
     "iopub.status.busy": "2024-11-27T00:20:21.017707Z",
     "iopub.status.idle": "2024-11-27T00:20:21.032430Z",
     "shell.execute_reply": "2024-11-27T00:20:21.031067Z"
    },
    "papermill": {
     "duration": 0.0479,
     "end_time": "2024-11-27T00:20:21.034678",
     "exception": false,
     "start_time": "2024-11-27T00:20:20.986778",
     "status": "completed"
    },
    "tags": []
   },
   "outputs": [
    {
     "data": {
      "text/html": [
       "<div>\n",
       "<style scoped>\n",
       "    .dataframe tbody tr th:only-of-type {\n",
       "        vertical-align: middle;\n",
       "    }\n",
       "\n",
       "    .dataframe tbody tr th {\n",
       "        vertical-align: top;\n",
       "    }\n",
       "\n",
       "    .dataframe thead th {\n",
       "        text-align: right;\n",
       "    }\n",
       "</style>\n",
       "<table border=\"1\" class=\"dataframe\">\n",
       "  <thead>\n",
       "    <tr style=\"text-align: right;\">\n",
       "      <th></th>\n",
       "      <th>PassengerId</th>\n",
       "      <th>Pclass</th>\n",
       "      <th>Name</th>\n",
       "      <th>Sex</th>\n",
       "      <th>Age</th>\n",
       "      <th>SibSp</th>\n",
       "      <th>Parch</th>\n",
       "      <th>Ticket</th>\n",
       "      <th>Fare</th>\n",
       "      <th>Cabin</th>\n",
       "      <th>Embarked</th>\n",
       "      <th>Survived</th>\n",
       "    </tr>\n",
       "  </thead>\n",
       "  <tbody>\n",
       "    <tr>\n",
       "      <th>0</th>\n",
       "      <td>892</td>\n",
       "      <td>3</td>\n",
       "      <td>Kelly, Mr. James</td>\n",
       "      <td>male</td>\n",
       "      <td>34.5</td>\n",
       "      <td>0</td>\n",
       "      <td>0</td>\n",
       "      <td>330911</td>\n",
       "      <td>7.8292</td>\n",
       "      <td>NaN</td>\n",
       "      <td>Q</td>\n",
       "      <td>0</td>\n",
       "    </tr>\n",
       "    <tr>\n",
       "      <th>1</th>\n",
       "      <td>893</td>\n",
       "      <td>3</td>\n",
       "      <td>Wilkes, Mrs. James (Ellen Needs)</td>\n",
       "      <td>female</td>\n",
       "      <td>47.0</td>\n",
       "      <td>1</td>\n",
       "      <td>0</td>\n",
       "      <td>363272</td>\n",
       "      <td>7.0000</td>\n",
       "      <td>NaN</td>\n",
       "      <td>S</td>\n",
       "      <td>0</td>\n",
       "    </tr>\n",
       "    <tr>\n",
       "      <th>2</th>\n",
       "      <td>894</td>\n",
       "      <td>2</td>\n",
       "      <td>Myles, Mr. Thomas Francis</td>\n",
       "      <td>male</td>\n",
       "      <td>62.0</td>\n",
       "      <td>0</td>\n",
       "      <td>0</td>\n",
       "      <td>240276</td>\n",
       "      <td>9.6875</td>\n",
       "      <td>NaN</td>\n",
       "      <td>Q</td>\n",
       "      <td>0</td>\n",
       "    </tr>\n",
       "    <tr>\n",
       "      <th>3</th>\n",
       "      <td>895</td>\n",
       "      <td>3</td>\n",
       "      <td>Wirz, Mr. Albert</td>\n",
       "      <td>male</td>\n",
       "      <td>27.0</td>\n",
       "      <td>0</td>\n",
       "      <td>0</td>\n",
       "      <td>315154</td>\n",
       "      <td>8.6625</td>\n",
       "      <td>NaN</td>\n",
       "      <td>S</td>\n",
       "      <td>0</td>\n",
       "    </tr>\n",
       "    <tr>\n",
       "      <th>4</th>\n",
       "      <td>896</td>\n",
       "      <td>3</td>\n",
       "      <td>Hirvonen, Mrs. Alexander (Helga E Lindqvist)</td>\n",
       "      <td>female</td>\n",
       "      <td>22.0</td>\n",
       "      <td>1</td>\n",
       "      <td>1</td>\n",
       "      <td>3101298</td>\n",
       "      <td>12.2875</td>\n",
       "      <td>NaN</td>\n",
       "      <td>S</td>\n",
       "      <td>0</td>\n",
       "    </tr>\n",
       "  </tbody>\n",
       "</table>\n",
       "</div>"
      ],
      "text/plain": [
       "   PassengerId  Pclass                                          Name     Sex  \\\n",
       "0          892       3                              Kelly, Mr. James    male   \n",
       "1          893       3              Wilkes, Mrs. James (Ellen Needs)  female   \n",
       "2          894       2                     Myles, Mr. Thomas Francis    male   \n",
       "3          895       3                              Wirz, Mr. Albert    male   \n",
       "4          896       3  Hirvonen, Mrs. Alexander (Helga E Lindqvist)  female   \n",
       "\n",
       "    Age  SibSp  Parch   Ticket     Fare Cabin Embarked  Survived  \n",
       "0  34.5      0      0   330911   7.8292   NaN        Q         0  \n",
       "1  47.0      1      0   363272   7.0000   NaN        S         0  \n",
       "2  62.0      0      0   240276   9.6875   NaN        Q         0  \n",
       "3  27.0      0      0   315154   8.6625   NaN        S         0  \n",
       "4  22.0      1      1  3101298  12.2875   NaN        S         0  "
      ]
     },
     "execution_count": 53,
     "metadata": {},
     "output_type": "execute_result"
    }
   ],
   "source": [
    "df_test_model.head()"
   ]
  },
  {
   "cell_type": "code",
   "execution_count": 54,
   "id": "4ba0e57c",
   "metadata": {
    "execution": {
     "iopub.execute_input": "2024-11-27T00:20:21.099111Z",
     "iopub.status.busy": "2024-11-27T00:20:21.098655Z",
     "iopub.status.idle": "2024-11-27T00:20:21.126822Z",
     "shell.execute_reply": "2024-11-27T00:20:21.125377Z"
    },
    "papermill": {
     "duration": 0.063812,
     "end_time": "2024-11-27T00:20:21.129356",
     "exception": false,
     "start_time": "2024-11-27T00:20:21.065544",
     "status": "completed"
    },
    "tags": []
   },
   "outputs": [
    {
     "data": {
      "text/html": [
       "<div>\n",
       "<style scoped>\n",
       "    .dataframe tbody tr th:only-of-type {\n",
       "        vertical-align: middle;\n",
       "    }\n",
       "\n",
       "    .dataframe tbody tr th {\n",
       "        vertical-align: top;\n",
       "    }\n",
       "\n",
       "    .dataframe thead th {\n",
       "        text-align: right;\n",
       "    }\n",
       "</style>\n",
       "<table border=\"1\" class=\"dataframe\">\n",
       "  <thead>\n",
       "    <tr style=\"text-align: right;\">\n",
       "      <th></th>\n",
       "      <th>PassengerId</th>\n",
       "      <th>Pclass</th>\n",
       "      <th>Age</th>\n",
       "      <th>SibSp</th>\n",
       "      <th>Parch</th>\n",
       "      <th>Fare</th>\n",
       "      <th>Survived</th>\n",
       "    </tr>\n",
       "  </thead>\n",
       "  <tbody>\n",
       "    <tr>\n",
       "      <th>count</th>\n",
       "      <td>418.000000</td>\n",
       "      <td>418.000000</td>\n",
       "      <td>332.000000</td>\n",
       "      <td>418.000000</td>\n",
       "      <td>418.000000</td>\n",
       "      <td>417.000000</td>\n",
       "      <td>418.000000</td>\n",
       "    </tr>\n",
       "    <tr>\n",
       "      <th>mean</th>\n",
       "      <td>1100.500000</td>\n",
       "      <td>2.265550</td>\n",
       "      <td>30.272590</td>\n",
       "      <td>0.447368</td>\n",
       "      <td>0.392344</td>\n",
       "      <td>35.627188</td>\n",
       "      <td>0.354067</td>\n",
       "    </tr>\n",
       "    <tr>\n",
       "      <th>std</th>\n",
       "      <td>120.810458</td>\n",
       "      <td>0.841838</td>\n",
       "      <td>14.181209</td>\n",
       "      <td>0.896760</td>\n",
       "      <td>0.981429</td>\n",
       "      <td>55.907576</td>\n",
       "      <td>0.478803</td>\n",
       "    </tr>\n",
       "    <tr>\n",
       "      <th>min</th>\n",
       "      <td>892.000000</td>\n",
       "      <td>1.000000</td>\n",
       "      <td>0.170000</td>\n",
       "      <td>0.000000</td>\n",
       "      <td>0.000000</td>\n",
       "      <td>0.000000</td>\n",
       "      <td>0.000000</td>\n",
       "    </tr>\n",
       "    <tr>\n",
       "      <th>25%</th>\n",
       "      <td>996.250000</td>\n",
       "      <td>1.000000</td>\n",
       "      <td>21.000000</td>\n",
       "      <td>0.000000</td>\n",
       "      <td>0.000000</td>\n",
       "      <td>7.895800</td>\n",
       "      <td>0.000000</td>\n",
       "    </tr>\n",
       "    <tr>\n",
       "      <th>50%</th>\n",
       "      <td>1100.500000</td>\n",
       "      <td>3.000000</td>\n",
       "      <td>27.000000</td>\n",
       "      <td>0.000000</td>\n",
       "      <td>0.000000</td>\n",
       "      <td>14.454200</td>\n",
       "      <td>0.000000</td>\n",
       "    </tr>\n",
       "    <tr>\n",
       "      <th>75%</th>\n",
       "      <td>1204.750000</td>\n",
       "      <td>3.000000</td>\n",
       "      <td>39.000000</td>\n",
       "      <td>1.000000</td>\n",
       "      <td>0.000000</td>\n",
       "      <td>31.500000</td>\n",
       "      <td>1.000000</td>\n",
       "    </tr>\n",
       "    <tr>\n",
       "      <th>max</th>\n",
       "      <td>1309.000000</td>\n",
       "      <td>3.000000</td>\n",
       "      <td>76.000000</td>\n",
       "      <td>8.000000</td>\n",
       "      <td>9.000000</td>\n",
       "      <td>512.329200</td>\n",
       "      <td>1.000000</td>\n",
       "    </tr>\n",
       "  </tbody>\n",
       "</table>\n",
       "</div>"
      ],
      "text/plain": [
       "       PassengerId      Pclass         Age       SibSp       Parch  \\\n",
       "count   418.000000  418.000000  332.000000  418.000000  418.000000   \n",
       "mean   1100.500000    2.265550   30.272590    0.447368    0.392344   \n",
       "std     120.810458    0.841838   14.181209    0.896760    0.981429   \n",
       "min     892.000000    1.000000    0.170000    0.000000    0.000000   \n",
       "25%     996.250000    1.000000   21.000000    0.000000    0.000000   \n",
       "50%    1100.500000    3.000000   27.000000    0.000000    0.000000   \n",
       "75%    1204.750000    3.000000   39.000000    1.000000    0.000000   \n",
       "max    1309.000000    3.000000   76.000000    8.000000    9.000000   \n",
       "\n",
       "             Fare    Survived  \n",
       "count  417.000000  418.000000  \n",
       "mean    35.627188    0.354067  \n",
       "std     55.907576    0.478803  \n",
       "min      0.000000    0.000000  \n",
       "25%      7.895800    0.000000  \n",
       "50%     14.454200    0.000000  \n",
       "75%     31.500000    1.000000  \n",
       "max    512.329200    1.000000  "
      ]
     },
     "execution_count": 54,
     "metadata": {},
     "output_type": "execute_result"
    }
   ],
   "source": [
    "df_test_model.describe()"
   ]
  },
  {
   "cell_type": "code",
   "execution_count": 55,
   "id": "9e024952",
   "metadata": {
    "execution": {
     "iopub.execute_input": "2024-11-27T00:20:21.192664Z",
     "iopub.status.busy": "2024-11-27T00:20:21.191677Z",
     "iopub.status.idle": "2024-11-27T00:20:21.201935Z",
     "shell.execute_reply": "2024-11-27T00:20:21.200634Z"
    },
    "papermill": {
     "duration": 0.044129,
     "end_time": "2024-11-27T00:20:21.204006",
     "exception": false,
     "start_time": "2024-11-27T00:20:21.159877",
     "status": "completed"
    },
    "tags": []
   },
   "outputs": [
    {
     "name": "stdout",
     "output_type": "stream",
     "text": [
      "Arquivo Excel salvo com sucesso!\n"
     ]
    }
   ],
   "source": [
    "# Exportando apenas as colunas PassengerId e Survived para Excel\n",
    "\n",
    "df_test_model[['PassengerId', 'Survived']].to_csv(\"df_test_model.csv\", index=False)\n",
    "\n",
    "print(\"Arquivo Excel salvo com sucesso!\")\n"
   ]
  }
 ],
 "metadata": {
  "kaggle": {
   "accelerator": "none",
   "dataSources": [
    {
     "databundleVersionId": 26502,
     "sourceId": 3136,
     "sourceType": "competition"
    }
   ],
   "dockerImageVersionId": 30786,
   "isGpuEnabled": false,
   "isInternetEnabled": true,
   "language": "python",
   "sourceType": "notebook"
  },
  "kernelspec": {
   "display_name": "Python 3",
   "language": "python",
   "name": "python3"
  },
  "language_info": {
   "codemirror_mode": {
    "name": "ipython",
    "version": 3
   },
   "file_extension": ".py",
   "mimetype": "text/x-python",
   "name": "python",
   "nbconvert_exporter": "python",
   "pygments_lexer": "ipython3",
   "version": "3.10.14"
  },
  "papermill": {
   "default_parameters": {},
   "duration": 24.015853,
   "end_time": "2024-11-27T00:20:21.957041",
   "environment_variables": {},
   "exception": null,
   "input_path": "__notebook__.ipynb",
   "output_path": "__notebook__.ipynb",
   "parameters": {},
   "start_time": "2024-11-27T00:19:57.941188",
   "version": "2.6.0"
  }
 },
 "nbformat": 4,
 "nbformat_minor": 5
}
